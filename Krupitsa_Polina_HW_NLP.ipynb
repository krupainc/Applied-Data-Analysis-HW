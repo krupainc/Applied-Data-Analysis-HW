{
  "cells": [
    {
      "cell_type": "markdown",
      "metadata": {
        "id": "HmsFABwClrsS"
      },
      "source": [
        "# Домашняя работа\n",
        "\n",
        "В этой работе вам предстоит с помощью encoder-decoder архитектуры, пробуя различные ее реализации, решить задачу машинного перевода.\n",
        "\n",
        "#### Наша задача - сделать свой собственный переводчик!\n",
        "\n",
        "Пока что только русско-английский:) Будем учиться на текстах описания отелей, так что при успешном выполнении этого задания у вас не возникнет проблем с выбором места для остановки в путешествии, так как все отзывы вам будут высококлассно переведены!"
      ]
    },
    {
      "cell_type": "markdown",
      "metadata": {
        "id": "Q0V3fwTObRMo"
      },
      "source": [
        "Что необходимо обсудить до начала работы?\n",
        " \n",
        "*как токенезовать и закодировать текст?*\n",
        "\n",
        "С токенезацией хорошо справится WordPunctTokenizer из библиотеки nltk, а вот с кодированием не все так просто, как может показаться... \n",
        "\n",
        "В наших текстах очень много редких и очень мало встречаемых слов (в каждом отеле есть своя фишка: какой-то предмет декорации или услуга, которая описывается своим словом, которое только там и встречается). Если мы будем кодировать все слова, то размер нашего словаря будет очень-очень большим.\n",
        "\n",
        "Но на одном из семинаров мы кодировали побуквенно, кажется, что тут это может помочь! Да, действительно так, но придется очень очень долго обучать модель, а путешествовать и выбрать хороший отель уже хочется, поэтому мы придем к чему-то среднему между этими подходами -  [Byte Pair Encoding](https://github.com/rsennrich/subword-nmt) известный как __BPE__\n",
        "\n",
        "Этот алгоритм стартует с посимвольного уровня и итеративно мерджит самые встречаемые пары. И так N итераций. На выходе мы получаем самые частые последовательности символов из которых формируются слова!"
      ]
    },
    {
      "cell_type": "markdown",
      "metadata": {
        "id": "pz6xZbOAbRMq"
      },
      "source": [
        "BPE - очень популярный и частоиспользуемый алгоритм в задачах NLP, поэтому есть много открытых реализаций этого алгоритма\n",
        "\n",
        "Мы уверены, что вы научились гуглить и искать полезные материалы в интернете, когда делали домашнее задание по YOLO, поэтому в этот раз просто покажем один из способов, как это можно сделать и затем в своих проектах вы можете брать этот подход и, возможно, как-то улучшать его!\n",
        "\n",
        "Тем кому очень интересно, как же все работает - заходите в файл vocab.py, очень советуем!"
      ]
    },
    {
      "cell_type": "code",
      "source": [
        "import matplotlib.pyplot as plt\n",
        "import numpy as np\n",
        "np.random.seed(0)"
      ],
      "metadata": {
        "id": "vP7U8JWioWZD"
      },
      "execution_count": 3,
      "outputs": []
    },
    {
      "cell_type": "code",
      "source": [],
      "metadata": {
        "id": "fOEAXsFuDMFz"
      },
      "execution_count": 3,
      "outputs": []
    },
    {
      "cell_type": "code",
      "execution_count": 4,
      "metadata": {
        "colab": {
          "base_uri": "https://localhost:8080/"
        },
        "id": "8uaq3fbgbRMr",
        "outputId": "d538abf4-a1cc-4d71-f531-0439b3cf236e"
      },
      "outputs": [
        {
          "output_type": "stream",
          "name": "stdout",
          "text": [
            "Looking in indexes: https://pypi.org/simple, https://us-python.pkg.dev/colab-wheels/public/simple/\n",
            "Collecting subword_nmt\n",
            "  Downloading subword_nmt-0.3.8-py3-none-any.whl (27 kB)\n",
            "Collecting mock\n",
            "  Downloading mock-5.0.2-py3-none-any.whl (30 kB)\n",
            "Requirement already satisfied: tqdm in /usr/local/lib/python3.9/dist-packages (from subword_nmt) (4.65.0)\n",
            "Installing collected packages: mock, subword_nmt\n",
            "Successfully installed mock-5.0.2 subword_nmt-0.3.8\n"
          ]
        }
      ],
      "source": [
        "pip install subword_nmt"
      ]
    },
    {
      "cell_type": "code",
      "execution_count": 5,
      "metadata": {
        "colab": {
          "base_uri": "https://localhost:8080/"
        },
        "id": "g9kP0SdxlrsY",
        "outputId": "3b37c79b-408e-489f-cfa0-072d1a713073"
      },
      "outputs": [
        {
          "output_type": "stream",
          "name": "stderr",
          "text": [
            "100%|██████████| 8000/8000 [00:17<00:00, 452.95it/s]\n",
            "100%|██████████| 8000/8000 [00:10<00:00, 769.39it/s] \n"
          ]
        }
      ],
      "source": [
        "from nltk.tokenize import WordPunctTokenizer\n",
        "from subword_nmt.learn_bpe import learn_bpe\n",
        "from subword_nmt.apply_bpe import BPE\n",
        "\n",
        "\n",
        "tokenizer = WordPunctTokenizer()\n",
        "def tokenize(x):\n",
        "    return ' '.join(tokenizer.tokenize(x.lower()))\n",
        "\n",
        "# разбиваем и токенизируем тексты, записываем обработанные токены в файл\n",
        "with open('train.en', 'w') as f_src,  open('train.ru', 'w') as f_dst:\n",
        "    for line in open('data.txt'):\n",
        "        src_line, dst_line = line.strip().split('\\t')\n",
        "        f_src.write(tokenize(src_line) + '\\n')\n",
        "        f_dst.write(tokenize(dst_line) + '\\n')\n",
        "\n",
        "# строим и применяем bpe кодирование\n",
        "bpe = {}\n",
        "for lang in ['en', 'ru']:\n",
        "    learn_bpe(open('./train.' + lang), open('bpe_rules.' + lang, 'w'), num_symbols=8000)\n",
        "    bpe[lang] = BPE(open('./bpe_rules.' + lang))\n",
        "    \n",
        "    with open('train.bpe.' + lang, 'w') as f_out:\n",
        "        for line in open('train.' + lang):\n",
        "            f_out.write(bpe[lang].process_line(line.strip()) + '\\n')"
      ]
    },
    {
      "cell_type": "markdown",
      "metadata": {
        "id": "fRXQlQXfbRMu"
      },
      "source": [
        "### Построение словарей, разбиение данных\n",
        "\n",
        "Сейчас, когда мы обучили BPE алгоритм на наших данных, построим словарь соответствия токена и его индекса, чтобы нам было затем удобно смотреть переводы и переводить новые предложения\n",
        "\n",
        "Также сделаем разбиение на train/test"
      ]
    },
    {
      "cell_type": "code",
      "execution_count": 6,
      "metadata": {
        "colab": {
          "base_uri": "https://localhost:8080/"
        },
        "id": "8PskgBSxlrsd",
        "outputId": "b90bf088-c1e3-4c84-ba6e-80fd73c0cc65"
      },
      "outputs": [
        {
          "output_type": "stream",
          "name": "stdout",
          "text": [
            "inp: на территории обустроена бесплатная частная парковка .\n",
            "out: free private parking is available on site .\n",
            "\n",
            "inp: кроме того , в 5 минутах ходьбы работают многочисленные бары и рестораны .\n",
            "out: guests can find many bars and restaurants within a 5 - minute walk .\n",
            "\n",
            "inp: отель san mi@@ gu@@ el расположен в центре мор@@ ели@@ и , в 750 метрах от главной площади города и кафедрального собора .\n",
            "out: hotel san miguel is located in central more@@ lia , 750 metres from the city ’ s main square and cathedral .\n",
            "\n"
          ]
        }
      ],
      "source": [
        "data_inp = np.array(open('./train.bpe.ru').read().split('\\n'))\n",
        "data_out = np.array(open('./train.bpe.en').read().split('\\n'))\n",
        "\n",
        "from sklearn.model_selection import train_test_split\n",
        "train_inp, dev_inp, train_out, dev_out = train_test_split(data_inp, data_out, test_size=3000,\n",
        "                                                          random_state=42)\n",
        "for i in range(3):\n",
        "    print('inp:', train_inp[i])\n",
        "    print('out:', train_out[i], end='\\n\\n')"
      ]
    },
    {
      "cell_type": "code",
      "execution_count": 7,
      "metadata": {
        "id": "vipg4O61lrsg"
      },
      "outputs": [],
      "source": [
        "from vocab import Vocab\n",
        "inp_voc = Vocab.from_lines(train_inp)\n",
        "out_voc = Vocab.from_lines(train_out)"
      ]
    },
    {
      "cell_type": "code",
      "execution_count": 8,
      "metadata": {
        "colab": {
          "base_uri": "https://localhost:8080/"
        },
        "id": "cwOoHfuhlrsi",
        "outputId": "0dc09e19-093c-4527-88af-e1d559edb687"
      },
      "outputs": [
        {
          "output_type": "stream",
          "name": "stdout",
          "text": [
            "lines\n",
            "['гостевой дом r .', 'до афин — 20 км .', 'работает боулинг .', 'оборудован балкон .', 'подключен wi - fi .']\n",
            "\n",
            "words to ids (0 = bos, 1 = eos):\n",
            "tensor([[   0, 2688, 2943, 1108,   29,    1,    1,    1],\n",
            "        [   0, 2922, 1834, 8035,   59, 3800,   29,    1],\n",
            "        [   0, 6030, 2083,   29,    1,    1,    1,    1],\n",
            "        [   0, 4927, 1870,   29,    1,    1,    1,    1],\n",
            "        [   0, 5549, 1453,   27,  592,   29,    1,    1]])\n",
            "\n",
            "back to words\n",
            "['гостевой дом r .', 'до афин — 20 км .', 'работает боулинг .', 'оборудован балкон .', 'подключен wi - fi .']\n"
          ]
        }
      ],
      "source": [
        "# тут можно посмотреть, как работает мапинг из индекса в токен и наоборот\n",
        "batch_lines = sorted(train_inp, key=len)[5:10]\n",
        "batch_ids = inp_voc.to_matrix(batch_lines)\n",
        "batch_lines_restored = inp_voc.to_lines(batch_ids)\n",
        "\n",
        "print(\"lines\")\n",
        "print(batch_lines)\n",
        "print(\"\\nwords to ids (0 = bos, 1 = eos):\")\n",
        "print(batch_ids)\n",
        "print(\"\\nback to words\")\n",
        "print(batch_lines_restored)"
      ]
    },
    {
      "cell_type": "code",
      "execution_count": 8,
      "metadata": {
        "id": "qJgA-BFnbRM0"
      },
      "outputs": [],
      "source": []
    },
    {
      "cell_type": "markdown",
      "metadata": {
        "id": "puD97JBebRM0"
      },
      "source": [
        "## За вас сделали домашнюю работу? Нет, вам самое интересное!\n",
        "\n",
        "Если вы пролистываете ноутбук и вам уже очень хочется начать писать самим - то мы вас понимаем, задание очень интересное и полезное! \n",
        "И спешим вас обрадовать, так как вы дождались и тут как раз можно проявить всю фантазию и мастерство написание нейронных сетей!\n"
      ]
    },
    {
      "cell_type": "markdown",
      "metadata": {
        "id": "J37eP41wbRM1"
      },
      "source": [
        "###  Задание 1 (1 балла)\n",
        "В коде ниже мы представили шаблон простой encoder-decoder модели, без всяких наворотов с Attention или чем-нибудь еще. Вы можете редактировать его под себя: добавлять новые методы, новые переменные, писать на pytorch ligtning и другое.\n",
        "\n",
        "Главное - сохраните идею шаблона и сделайте его очень удобным, так как с ним еще предстоит работать!\n",
        "\n",
        "Заполните пропуски с `<YOUR CODE HERE>`"
      ]
    },
    {
      "cell_type": "code",
      "execution_count": 10,
      "metadata": {
        "id": "pd_rDRm9lrso"
      },
      "outputs": [],
      "source": [
        "import torch\n",
        "import torch.nn as nn\n",
        "import torch.nn.functional as F\n",
        "device = 'cuda' if torch.cuda.is_available() else 'cpu'"
      ]
    },
    {
      "cell_type": "markdown",
      "source": [
        "Спасибо этому чуваку https://cjlise.github.io/machine-learning/Neural-Machine-Translation-Attention/"
      ],
      "metadata": {
        "id": "o-kj4-lnbtka"
      }
    },
    {
      "cell_type": "code",
      "execution_count": 11,
      "metadata": {
        "id": "wgfN5-F7lrst"
      },
      "outputs": [],
      "source": [
        "\n",
        "class BaseModel(nn.Module):\n",
        "    def __init__(self, inp_voc, out_voc, emb_size=64, hid_size=128):\n",
        "        \"\"\"\n",
        "        Базовая модель encoder-decoder архитектуры\n",
        "        \"\"\"\n",
        "        super().__init__() \n",
        "\n",
        "        self.inp_voc, self.out_voc = inp_voc, out_voc\n",
        "        self.hid_size = hid_size\n",
        "        \n",
        "        self.emb_inp = nn.Embedding(len(inp_voc), emb_size)\n",
        "        self.emb_out = nn.Embedding(len(out_voc), emb_size)\n",
        "        self.enc0 = nn.GRU(emb_size, hid_size, batch_first=True)\n",
        "\n",
        "        self.dec_start = nn.Linear(hid_size, hid_size)\n",
        "        self.dec0 = nn.GRUCell(emb_size, hid_size)\n",
        "        self.logits = nn.Linear(hid_size, len(out_voc))\n",
        "        \n",
        "    def forward(self, inp, out):\n",
        "        \"\"\" Сначала примените  encode а затем decode\"\"\"\n",
        "        initial_state = self.encode(inp)\n",
        "        return self.decode(initial_state, out)\n",
        "\n",
        "\n",
        "    def encode(self, inp, **flags):\n",
        "        \"\"\"\n",
        "        Считаем скрытое состояние, которое будет начальным для decode\n",
        "        :param inp: матрица входных токенов\n",
        "        :returns: скрытое представление с которого будет начинаться decode\n",
        "        \"\"\"\n",
        "        inp_emb = self.emb_inp(inp)\n",
        "        batch_size = inp.shape[0]\n",
        "        \n",
        "        enc_seq, [last_state_but_not_really] = self.enc0(inp_emb)\n",
        "        # enc_seq: [batch, time, hid_size], last_state: [batch, hid_size]\n",
        "        \n",
        "        # последний токен, не последние на самом деле, так как мы делали pading, чтобы тексты были\n",
        "        # одинакового размер, поэтому подсчитать длину исходного предложения не так уж тривиально\n",
        "        lengths = (inp != self.inp_voc.eos_ix).to(torch.int64).sum(dim=1).clamp_max(inp.shape[1] - 1)\n",
        "        last_state = enc_seq[torch.arange(len(enc_seq)), lengths]\n",
        "        # ^-- shape: [batch_size, hid_size]\n",
        "        \n",
        "        dec_start = self.dec_start(last_state)\n",
        "        return [dec_start]\n",
        "\n",
        "    def decode_step(self, prev_state, prev_tokens, **flags):\n",
        "        \"\"\"\n",
        "        Принимает предыдущее состояние декодера и токены, возвращает новое состояние и \n",
        "        логиты для следующих токенов\n",
        "        \"\"\"\n",
        "        tokens_emb = self.emb_out(prev_tokens)\n",
        "        prev_gru0_state = prev_state[0]\n",
        "\n",
        "        new_dec_state = self.dec0(tokens_emb, prev_gru0_state)\n",
        "        output_logits = self.logits(new_dec_state)\n",
        "        new_dec_state = [new_dec_state]\n",
        "        \n",
        "\n",
        "        \n",
        "        return new_dec_state, output_logits\n",
        "\n",
        "    def decode(self, initial_state, out_tokens, **flags):\n",
        "        batch_size = out_tokens.shape[0]\n",
        "        state = initial_state\n",
        "        \n",
        "        # первый символ всегда BOS\n",
        "        onehot_bos = F.one_hot(torch.full([batch_size], self.out_voc.bos_ix, dtype=torch.int64),\n",
        "                               num_classes=len(self.out_voc)).to(device=out_tokens.device)\n",
        "        first_logits = torch.log(onehot_bos.to(torch.float32) + 1e-9)\n",
        "        \n",
        "        logits_sequence = [first_logits]\n",
        "        # в цикле делаем decode_step, получаем logits_sequence\n",
        "        for i in range(out_tokens.shape[1] - 1):\n",
        "            state, logits = self.decode_step(state, out_tokens[:, i])\n",
        "            logits_sequence.append(logits)\n",
        "        return torch.stack(logits_sequence, dim=1)\n",
        "\n",
        "    def decode_inference(self, initial_state, max_len=100, **flags):\n",
        "        \"\"\" Генерим токены для перевода \"\"\"\n",
        "        batch_size, device = len(initial_state[0]), initial_state[0].device\n",
        "        state = initial_state\n",
        "        outputs = [torch.full([batch_size], self.out_voc.bos_ix, dtype=torch.int64, device=device)]\n",
        "        all_states = [initial_state]\n",
        "\n",
        "        for i in range(max_len):\n",
        "            state, logits = self.decode_step(state, outputs[-1])\n",
        "            outputs.append(logits.argmax(dim=-1))\n",
        "            all_states.append(state)\n",
        "        \n",
        "        return torch.stack(outputs, dim=1), all_states\n",
        "\n",
        "    def translate_lines(self, inp_lines, **kwargs):\n",
        "        \"\"\"Функция для перевода\"\"\"\n",
        "        inp = self.inp_voc.to_matrix(inp_lines).to(device)\n",
        "        initial_state = self.encode(inp)\n",
        "        out_ids, states = self.decode_inference(initial_state, **kwargs)\n",
        "        return self.out_voc.to_lines(out_ids.cpu().numpy()), states\n"
      ]
    },
    {
      "cell_type": "code",
      "execution_count": 12,
      "metadata": {
        "id": "j2LgCYcLbRM5"
      },
      "outputs": [],
      "source": [
        "# debugging area\n",
        "model = BaseModel(inp_voc, out_voc).to(device)\n",
        "\n",
        "dummy_inp_tokens = inp_voc.to_matrix(sorted(train_inp, key=len)[5:10]).to(device)\n",
        "dummy_out_tokens = out_voc.to_matrix(sorted(train_out, key=len)[5:10]).to(device)\n",
        "\n",
        "h0 = model.encode(dummy_inp_tokens)\n",
        "h1, logits1 = model.decode_step(h0, torch.arange(len(dummy_inp_tokens), device=device))\n",
        "\n",
        "assert isinstance(h1, list) and len(h1) == len(h0)\n",
        "assert h1[0].shape == h0[0].shape and not torch.allclose(h1[0], h0[0])\n",
        "assert logits1.shape == (len(dummy_inp_tokens), len(out_voc))\n",
        "\n",
        "logits_seq = model.decode(h0, dummy_out_tokens)\n",
        "assert logits_seq.shape == (dummy_out_tokens.shape[0], dummy_out_tokens.shape[1], len(out_voc))\n",
        "\n",
        "# full forward\n",
        "logits_seq2 = model(dummy_inp_tokens, dummy_out_tokens)\n",
        "assert logits_seq2.shape == logits_seq.shape"
      ]
    },
    {
      "cell_type": "code",
      "execution_count": 13,
      "metadata": {
        "colab": {
          "base_uri": "https://localhost:8080/"
        },
        "id": "bZvEum5hbRM6",
        "outputId": "7b631555-fc84-40fb-c512-d87e201b57a5"
      },
      "outputs": [
        {
          "output_type": "stream",
          "name": "stdout",
          "text": [
            "Translations without training:\n",
            "acc@@ welcomes rossi@@ nab@@ guangzhou ise next ash yk yk tera pedest@@ portu@@ be@@ ered portu@@ maj@@ ulitsa cru@@ manchester yk yk kiem colo qua@@\n",
            "ab@@ fit@@ lin î@@ composed ube eland washing lin î@@ maj@@ ulitsa ulitsa stock@@ oce@@ newspaper it kastrup ols paphos eats hermosa gues@@ scen@@ exhibit@@\n",
            "acc@@ welcomes rossi@@ nab@@ guangzhou ise next ash yk yk tera pedest@@ portu@@ be@@ ered portu@@ maj@@ ulitsa cru@@ manchester yk yk kiem colo qua@@\n"
          ]
        }
      ],
      "source": [
        "dummy_translations, dummy_states = model.translate_lines(train_inp[:3], max_len=25)\n",
        "print(\"Translations without training:\")\n",
        "print('\\n'.join([line for line in dummy_translations]))"
      ]
    },
    {
      "cell_type": "markdown",
      "metadata": {
        "id": "_wuv1-aVlrs0"
      },
      "source": [
        "### Задание 2 (2 балла)\n",
        "\n",
        "Тут нечего объяснять, нужно написать лосс, чтобы все училось:\n",
        "$$ L = {\\frac1{|D|}} \\sum_{X, Y \\in D} \\sum_{y_t \\in Y} - \\log p(y_t \\mid y_1, \\dots, y_{t-1}, X, \\theta) $$\n",
        "\n",
        "где $|D|$ это суммарная длина всех предложений включая все токены: BOS, EOS но не включая падинг "
      ]
    },
    {
      "cell_type": "code",
      "source": [
        "n = nn.Softmax()"
      ],
      "metadata": {
        "id": "FVkj_twTkvB-"
      },
      "execution_count": 14,
      "outputs": []
    },
    {
      "cell_type": "code",
      "source": [
        "def loss_function(model, inp, out, **flags):\n",
        "    \"\"\"\n",
        "    Функция для подсчета лосса\n",
        "    :param inp: input tokens matrix, int32[batch, time]\n",
        "    :param out: reference tokens matrix, int32[batch, time]\n",
        "    \n",
        "    Для того чтобы пройти тесты, ваша функция должна\n",
        "    * учитывать в loss первый EOS, но НЕ учитывать последующие\n",
        "    * разделить loss на длину входящей последовательности (use voc.compute_mask)\n",
        "    \"\"\"\n",
        "    mask = model.out_voc.compute_mask(out) # [batch_size, out_len]\n",
        "    targets_1hot = F.one_hot(out, len(model.out_voc)).to(torch.float32)\n",
        "    \n",
        "    # outputs of the model, [batch_size, out_len, num_tokens]\n",
        "    # <YOUR CODE HERE>\n",
        "    logits_seq = model(inp, out)\n",
        "\n",
        "    # log-probabilities всех токенов на всех шагах\n",
        "    #<YOUR CODE HERE>\n",
        "    \n",
        "    #logprobs_seq = -torch.maximum(torch.log(n(logits_seq)), torch.log(torch.tensor(2**-30)))\n",
        "    logprobs_seq = -torch.log(nn.functional.softmax(logits_seq, dim = -1))\n",
        "    # log-probabilities для верных ответов\n",
        "    logp_out = (logprobs_seq * targets_1hot).sum(dim=-1) # [batch_size, out_len]\n",
        "    # нужно обойтись только векторными операциями без for\n",
        "\n",
        "    # cross-entropy по всем токенам где mask == True\n",
        "    #<YOUR CODE HERE>\n",
        "    return torch.sum(logp_out[mask])/torch.sum(mask) # тут должен получиться скаляр!"
      ],
      "metadata": {
        "id": "Fh0PnK2l2ytT"
      },
      "execution_count": 15,
      "outputs": []
    },
    {
      "cell_type": "code",
      "source": [
        "loss_function(model, dummy_inp_tokens, dummy_out_tokens)"
      ],
      "metadata": {
        "colab": {
          "base_uri": "https://localhost:8080/"
        },
        "id": "K3HEMnyM1AmM",
        "outputId": "a8e6b7a4-764b-4b1e-d857-1bef17026818"
      },
      "execution_count": 16,
      "outputs": [
        {
          "output_type": "execute_result",
          "data": {
            "text/plain": [
              "tensor(7.5724, device='cuda:0', grad_fn=<DivBackward0>)"
            ]
          },
          "metadata": {},
          "execution_count": 16
        }
      ]
    },
    {
      "cell_type": "code",
      "execution_count": 17,
      "metadata": {
        "id": "ME_LWUeklrs7",
        "colab": {
          "base_uri": "https://localhost:8080/"
        },
        "outputId": "5571911e-0295-49ed-c65d-697fe2df8352"
      },
      "outputs": [
        {
          "output_type": "stream",
          "name": "stdout",
          "text": [
            "Loss: tensor(7.5724, device='cuda:0', grad_fn=<DivBackward0>)\n"
          ]
        }
      ],
      "source": [
        "dummy_loss = loss_function(model, dummy_inp_tokens, dummy_out_tokens)\n",
        "print(\"Loss:\", dummy_loss)\n",
        "assert np.allclose(dummy_loss.item(), 7.5, rtol=0.1, atol=0.1)\n",
        "\n",
        "# test autograd\n",
        "dummy_loss.backward()\n",
        "for name, param in model.named_parameters():\n",
        "    assert param.grad is not None and abs(param.grad.max()) != 0, f\"Param {name} received no gradients\""
      ]
    },
    {
      "cell_type": "markdown",
      "metadata": {
        "id": "q7_0bEvHbRM-"
      },
      "source": [
        "### Метрика: BLEU\n",
        "\n",
        "Для оценки машинного перевода обычно используется метрика [BLEU](https://en.wikipedia.org/wiki/BLEU). Она просто считает кол-во правильно предсказанных n-grams для n=1,2,3,4 и потом берет геометрическое среднее для полученных значений."
      ]
    },
    {
      "cell_type": "code",
      "execution_count": 18,
      "metadata": {
        "id": "Gb1-PhKIlrs-"
      },
      "outputs": [],
      "source": [
        "from nltk.translate.bleu_score import corpus_bleu\n",
        "def compute_bleu(model, inp_lines, out_lines, bpe_sep='@@ ', **flags):\n",
        "    \"\"\"\n",
        "    пример как считать метрику BLEU. Вы можете изменять вход и выход, \n",
        "    как вам удобно, главное оставьте логику ее подсчета!!!\n",
        "    \"\"\"\n",
        "    with torch.no_grad():\n",
        "        translations, _ = model.translate_lines(inp_lines, **flags)\n",
        "        translations = [line.replace(bpe_sep, '') for line in translations]\n",
        "        actual = [line.replace(bpe_sep, '') for line in out_lines]\n",
        "        return corpus_bleu(\n",
        "            [[ref.split()] for ref in actual],\n",
        "            [trans.split() for trans in translations],\n",
        "            smoothing_function=lambda precisions, **kw: [p + 1.0 / p.denominator for p in precisions]\n",
        "            ) * 100"
      ]
    },
    {
      "cell_type": "code",
      "execution_count": 19,
      "metadata": {
        "id": "gZvfid1RlrtA",
        "colab": {
          "base_uri": "https://localhost:8080/"
        },
        "outputId": "18c41fa2-125e-48b9-e940-265fd2017f04"
      },
      "outputs": [
        {
          "output_type": "execute_result",
          "data": {
            "text/plain": [
              "0.0029319384912734406"
            ]
          },
          "metadata": {},
          "execution_count": 19
        }
      ],
      "source": [
        "compute_bleu(model, dev_inp, dev_out)"
      ]
    },
    {
      "cell_type": "markdown",
      "metadata": {
        "id": "nQDhGwg4lrtC"
      },
      "source": [
        "### Training loop (1 балл)\n",
        "\n",
        "Нужно просто написать цикл обучения и подсчитать метрики! И пройти assert по качеству"
      ]
    },
    {
      "cell_type": "code",
      "execution_count": 20,
      "metadata": {
        "id": "yfwIaixHlrtI",
        "scrolled": false
      },
      "outputs": [],
      "source": [
        "from IPython.display import clear_output\n",
        "from tqdm import tqdm, trange\n",
        "metrics = {'train_loss': [], 'dev_bleu': [] }\n",
        "\n",
        "model = BaseModel(inp_voc, out_voc).to(device)\n",
        "opt = torch.optim.Adam(model.parameters(), lr=1e-3)\n",
        "batch_size = 32\n",
        "\n",
        "num_iter = 25000\n"
      ]
    },
    {
      "cell_type": "markdown",
      "source": [
        "кажется вы забыли тут вставить клеточку куда цикл делать))))))))"
      ],
      "metadata": {
        "id": "nc9V_1_XmkRC"
      }
    },
    {
      "cell_type": "code",
      "source": [
        "for _ in trange(num_iter):\n",
        "    step = len(metrics['train_loss']) + 1\n",
        "    batch_ix = np.random.randint(len(train_inp), size=batch_size)\n",
        "    batch_inp = inp_voc.to_matrix(train_inp[batch_ix]).to(device) #чтобы работал гпу надо переложить\n",
        "    batch_out = out_voc.to_matrix(train_out[batch_ix]).to(device)\n",
        "    \n",
        "    opt.zero_grad()\n",
        "    loss = loss_function(model, batch_inp, batch_out)\n",
        "    loss.backward()\n",
        "    opt.step()\n",
        "    \n",
        "    metrics['train_loss'].append((step, loss.cpu().detach().numpy()))\n",
        "    \n",
        "    if step % 100 == 0:\n",
        "        metrics['dev_bleu'].append((step, compute_bleu(model, dev_inp, dev_out)))\n",
        "        \n",
        "        clear_output(True)\n",
        "        plt.figure(figsize=(12,4))\n",
        "        for i, (name, history) in enumerate(sorted(metrics.items())):\n",
        "            plt.subplot(1, len(metrics), i + 1)\n",
        "            plt.title(name)\n",
        "            plt.plot(*zip(*history))\n",
        "            plt.grid()\n",
        "        plt.show()\n",
        "        print(\"Mean loss=%.3f\" % np.mean(metrics['train_loss'][-10:], axis=0)[1], flush=True)\n",
        "        \n"
      ],
      "metadata": {
        "colab": {
          "base_uri": "https://localhost:8080/",
          "height": 436
        },
        "id": "NsRPWi40mcZI",
        "outputId": "bdb353b6-3682-4897-bdf8-5f9062ac6283"
      },
      "execution_count": 22,
      "outputs": [
        {
          "output_type": "display_data",
          "data": {
            "text/plain": [
              "<Figure size 1200x400 with 2 Axes>"
            ],
            "image/png": "[encoded data removed]"
          },
          "metadata": {}
        },
        {
          "output_type": "stream",
          "name": "stdout",
          "text": [
            "Mean loss=1.776\n"
          ]
        },
        {
          "output_type": "stream",
          "name": "stderr",
          "text": [
            "100%|██████████| 25000/25000 [19:15<00:00, 21.64it/s]\n"
          ]
        }
      ]
    },
    {
      "cell_type": "code",
      "execution_count": 23,
      "metadata": {
        "id": "2ahuhKVhlrtP"
      },
      "outputs": [],
      "source": [
        "assert np.mean(metrics['dev_bleu'][-10:], axis=0)[1] > 15, \"Ты можешь больше! попробуй еще раз)\""
      ]
    },
    {
      "cell_type": "code",
      "execution_count": 24,
      "metadata": {
        "id": "KyaHOpealrtS",
        "colab": {
          "base_uri": "https://localhost:8080/"
        },
        "outputId": "372e8a7f-e954-4745-f086-eb967b39da49"
      },
      "outputs": [
        {
          "output_type": "stream",
          "name": "stdout",
          "text": [
            "в распоряжении гостей общая кухня и общая гостиная .\n",
            "shared kitchen is available and there is a shared lounge with a shared kitchen .\n",
            "\n",
            "кроме того , предоставляется прокат велосипедов , услуги трансфера и бесплатная парковка .\n",
            "car rental services can be arranged and shuttle services at the hotel .\n",
            "\n",
            "расстояние до города ки@@ сси@@ м@@ ми составляет 26 км .\n",
            "augusta are 15 km from the property .\n",
            "\n",
            "апартаменты в пент@@ хаусе с общим открытым бассейном , садом , кондиционером и террасой для загара расположены в 5 минутах ходьбы от пляжа на курорте ка@@ бо - рой .\n",
            "located in the beach , apartment on the sea - mo@@ lino , offers self - catering accommodation with a balcony and views of the sea .\n",
            "\n",
            "апартаменты mo@@ s@@ co@@ w point - loft red square находятся в москве , в 200 метрах от большого театра .\n",
            "apartment at prague is located in prague , 400 metres from the city centre and 400 metres from the city .\n",
            "\n",
            "в вашем распоряжении собственная ванная комната с душем и полотенцами .\n",
            "featuring a shower , the private bathroom also comes with towels .\n",
            "\n"
          ]
        }
      ],
      "source": [
        "for inp_line, trans_line in zip(dev_inp[::500], model.translate_lines(dev_inp[::500])[0]):\n",
        "    print(inp_line)\n",
        "    print(trans_line)\n",
        "    print()"
      ]
    },
    {
      "cell_type": "markdown",
      "metadata": {
        "id": "Tv0s8qxOXp5y"
      },
      "source": [
        "## Attention is all you need"
      ]
    },
    {
      "cell_type": "markdown",
      "metadata": {
        "id": "edk_oVg0lrtW"
      },
      "source": [
        "### Задание 3\n",
        "\n",
        "В этом разделе мы хотим, чтобы вы усовершенствовали базовую модель\n",
        "\n",
        "\n",
        "Сначала напишем слой Attention, а потом внедрим его в уже существующий шаблон"
      ]
    },
    {
      "cell_type": "markdown",
      "metadata": {
        "id": "Qz9aROAIlrtX"
      },
      "source": [
        "### Attention layer (1 points)\n",
        "\n",
        "На вход подается скрытые состояния encoder $h^e_0, h^e_1, h^e_2, ..., h^e_T$ и предыдущие состояние декодера $h^d$,\n",
        "\n",
        "* Считаем логиты:\n",
        "$$a_t = linear_{out}(tanh(linear_{e}(h^e_t) + linear_{d}(h_d)))$$\n",
        "* Получаем вероятности из логитов: \n",
        "$$ p_t = {{e ^ {a_t}} \\over { \\sum_\\tau e^{a_\\tau} }} $$\n",
        "\n",
        "* Взвешиваем состояния энкодера с полученными вероятностями\n",
        "$$ attn = \\sum_t p_t \\cdot h^e_t $$\n"
      ]
    },
    {
      "cell_type": "code",
      "source": [
        "m = nn.Tanh()\n",
        "import math"
      ],
      "metadata": {
        "id": "saOHngc77itz"
      },
      "execution_count": 21,
      "outputs": []
    },
    {
      "cell_type": "markdown",
      "metadata": {
        "id": "IalfpdAelrtb"
      },
      "source": [
        "### Seq2seq model with attention (2 points)\n",
        "\n",
        "Теперь вы можете использовать уровень внимания для построения сети. Самый простой способ реализовать внимание - использовать его на этапе декодирования:\n",
        "\n",
        "\n",
        "На каждом шаге используйте предыдущее состояние декодера, и написанный слой Attention\n",
        "\n",
        "\n"
      ]
    },
    {
      "cell_type": "code",
      "source": [],
      "metadata": {
        "id": "0r-HgeCHiIFD"
      },
      "execution_count": null,
      "outputs": []
    },
    {
      "cell_type": "code",
      "source": [
        "class AttentionLayer(nn.Module):\n",
        "    def __init__(self, name, enc_size, dec_size, hid_size):\n",
        "        super().__init__()\n",
        "        self.name = name\n",
        "        self.enc_size = enc_size \n",
        "        self.dec_size = dec_size \n",
        "        self.hid_size = hid_size \n",
        "        \n",
        "        # опишите все слои, которые нужны Attention      \n",
        "        self.linear_e = nn.Linear(enc_size, hid_size)\n",
        "        self.linear_d = nn.Linear(dec_size, hid_size)\n",
        "        self.linear_out = nn.Linear(hid_size, 1) \n",
        "        self.soft = nn.Softmax(dim=1)                       \n",
        "\n",
        "    def forward(self, enc, dec, inp_mask):\n",
        "        \"\"\"\n",
        "        Подсчитываем attention ответ and веса\n",
        "        :param enc: [batch_size, ninp, enc_size]\n",
        "        :param dec: decode state[batch_size, dec_size]\n",
        "        :param inp_mask: маска, 0 там где pading [batch_size, ninp]\n",
        "        :returns: attn[batch_size, enc_size], probs[batch_size, ninp]\n",
        "        \"\"\"\n",
        "\n",
        "        # считаем логиты\n",
        "        l1 = self.linear_e(enc)\n",
        "        l2 = self.linear_d(dec).reshape(-1, 1, self.hid_size)\n",
        "        sum_l1_l2 = m(l1 + l2)\n",
        "        logits = self.linear_out(sum_l1_l2)\n",
        "\n",
        "\n",
        "        # Применим маску - если значение маски 0, логиты должны быть -inf или -1e9\n",
        "        # Лучше использовать torch.where\n",
        "        mask = torch.where(inp_mask == False)\n",
        "        logits[mask] = -1e9\n",
        "\n",
        "        # Примените softmax\n",
        "        probs = self.soft(logits)\n",
        "\n",
        "        # Подсчитайте выход attention используя enc состояния и вероятностями\n",
        "        attn = (probs * enc).sum(dim=1)                    \n",
        "        \n",
        "        probs = probs.squeeze()                                   \n",
        "        \n",
        "        return attn, probs"
      ],
      "metadata": {
        "id": "IZuuHO8SIPYp"
      },
      "execution_count": 74,
      "outputs": []
    },
    {
      "cell_type": "code",
      "source": [
        "class AttentiveModel(BaseModel):\n",
        "    def __init__(self, name, inp_voc, out_voc, emb_size=64, hid_size=128, attn_size=128):\n",
        "        \"\"\"Переводчик с Attention\"\"\"\n",
        "        nn.Module.__init__(self)\n",
        "        self.inp_voc, self.out_voc = inp_voc, out_voc\n",
        "        self.hid_size = hid_size\n",
        "\n",
        "        #<YOUR CODE: initialize layers>\n",
        "        self.emb_inp = nn.Embedding(len(inp_voc), emb_size)\n",
        "        self.emb_out = nn.Embedding(len(out_voc), emb_size)\n",
        "\n",
        "        self.enc0 = nn.GRU(emb_size, hid_size, batch_first=True)\n",
        "        self.dec_start = nn.Linear(hid_size, hid_size)\n",
        "        \n",
        "        self.dec0 = nn.GRUCell(emb_size, hid_size)\n",
        "        self.logits = nn.Linear(2*hid_size, len(out_voc))   \n",
        "\n",
        "        self.attent = AttentionLayer('Attention_layer', hid_size, hid_size, attn_size)            \n",
        "\n",
        "        \n",
        "    def encode(self, inp, **flags):\n",
        "        \"\"\"\n",
        "        Считаем скрытые скрытые состояния, которые используем в decode\n",
        "        :param inp: матрица входных токенов\n",
        "        \"\"\"\n",
        "        \n",
        "        # делаем encode\n",
        "        #<YOUR CODE>\n",
        "        inp_emb = self.emb_inp(inp)\n",
        "        enc_seq, [last_state_but_not_really] = self.enc0(inp_emb)\n",
        "        lengths = (inp != self.inp_voc.eos_ix).to(torch.int64).sum(dim=1).clamp_max(inp.shape[1] - 1)\n",
        "        last_state = enc_seq[torch.arange(len(enc_seq)), lengths]  \n",
        "        dec_start = self.dec_start(last_state)\n",
        "        # ^-- shape: [batch_size, hid_size]\n",
        "        \n",
        "        new_mask = self.out_voc.compute_mask(inp)\n",
        "\n",
        "        # apply attention layer from initial decoder hidden state\n",
        "        # применяем attention слой для скрытых состояний\n",
        "        attn, first_attn_probas = self.attent(enc_seq, dec_start, new_mask)    \n",
        "        \n",
        "\n",
        "\n",
        "\n",
        "        # Для декодера нужно вернуть:\n",
        "        # - начальное состояние для RNN декодера\n",
        "        # - последовательность скрытых состояний encoder, maskа для них\n",
        "        # - последним передаем вероятности слоя attention\n",
        "        first_state = [dec_start, enc_seq, new_mask, first_attn_probas]\n",
        "        \n",
        "        return first_state\n",
        "   \n",
        "    def decode_step(self, prev_state, prev_tokens, **flags):\n",
        "        \"\"\"\n",
        "        Принимает предыдущее состояние декодера и токены, возвращает новое состояние и логиты для следующих токенов\n",
        "        :param prev_state: список тензоров предыдущих состояний декодера\n",
        "        :param prev_tokens: предыдущие выходные токены [batch_size]\n",
        "        :return: список тензоров состояния следующего декодера, тензор логитов [batch, n_tokens]\n",
        "        \"\"\"\n",
        "\n",
        "         #<YOUR CODE HERE>\n",
        "         \n",
        "        prev_gru0_state, enc_seq, new_mask, _ = prev_state\n",
        "        emb_prev_tokens = self.emb_out(prev_tokens)\n",
        "        new_state = self.dec0(emb_prev_tokens, prev_gru0_state)\n",
        "        attn, attn_prob = self.attent(enc_seq, new_state, new_mask)  \n",
        "        cat = torch.cat([new_state, attn], dim=-1)                    \n",
        "        output_logits = self.logits(cat)\n",
        "           \n",
        "        return [[new_state, enc_seq, new_mask, attn_prob], output_logits]"
      ],
      "metadata": {
        "id": "xAFyV2d2jQ6W"
      },
      "execution_count": 83,
      "outputs": []
    },
    {
      "cell_type": "markdown",
      "metadata": {
        "id": "ryZCOTEslrtf"
      },
      "source": [
        "### Обучение модели (1 points)\n",
        "\n",
        "Нужно обучить AttentiveModel и пройти assert по качеству"
      ]
    },
    {
      "cell_type": "code",
      "source": [],
      "metadata": {
        "id": "nkPXNcKWzDbP"
      },
      "execution_count": 83,
      "outputs": []
    },
    {
      "cell_type": "code",
      "execution_count": 84,
      "metadata": {
        "id": "-YMHPgZxcFaQ"
      },
      "outputs": [],
      "source": [
        "attentive_model = AttentiveModel('some name', inp_voc, out_voc).to(device)"
      ]
    },
    {
      "cell_type": "code",
      "execution_count": 85,
      "metadata": {
        "id": "YjwiYmNDbRNH"
      },
      "outputs": [],
      "source": [
        "np.random.seed(27)\n",
        "from IPython.display import clear_output\n",
        "from tqdm import tqdm, trange\n",
        "metrics = {'train_loss': [], 'dev_bleu': [] }\n",
        "\n",
        "attentive_model = AttentiveModel('some name', inp_voc, out_voc).to(device)\n",
        "opt = torch.optim.Adam(attentive_model.parameters(), lr=1e-3)\n",
        "batch_size = 32\n",
        "num_iter = 25000"
      ]
    },
    {
      "cell_type": "code",
      "source": [
        "import matplotlib.pyplot as plt\n",
        "from IPython.display import clear_output\n",
        "from tqdm import tqdm, trange\n",
        "\n",
        "for _ in trange(25000):\n",
        "    step = len(metrics['train_loss']) + 1\n",
        "    batch_ix = np.random.randint(len(train_inp), size=batch_size)\n",
        "    batch_inp = inp_voc.to_matrix(train_inp[batch_ix]).to(device)\n",
        "    batch_out = out_voc.to_matrix(train_out[batch_ix]).to(device)\n",
        "    \n",
        "    opt.zero_grad()\n",
        "    loss_t = loss_function(attentive_model, batch_inp, batch_out)\n",
        "    loss_t.backward()\n",
        "    opt.step()\n",
        "    \n",
        "    metrics['train_loss'].append((step, loss_t.item()))\n",
        "    \n",
        "    if step % 100 == 0:\n",
        "        metrics['dev_bleu'].append((step, compute_bleu(attentive_model, dev_inp, dev_out)))\n",
        "        \n",
        "        clear_output(True)\n",
        "        plt.figure(figsize=(12,4))\n",
        "        for i, (name, history) in enumerate(sorted(metrics.items())):\n",
        "            plt.subplot(1, len(metrics), i + 1)\n",
        "            plt.title(name)\n",
        "            plt.plot(*zip(*history))\n",
        "            plt.grid()\n",
        "        plt.show()\n",
        "        print(\"Mean loss=%.3f\" % np.mean(metrics['train_loss'][-10:], axis=0)[1], flush=True)"
      ],
      "metadata": {
        "colab": {
          "base_uri": "https://localhost:8080/",
          "height": 436
        },
        "id": "e8huM_FwA72H",
        "outputId": "2d43a96a-7253-4120-c091-68cdb503d468"
      },
      "execution_count": 35,
      "outputs": [
        {
          "output_type": "display_data",
          "data": {
            "text/plain": [
              "<Figure size 1200x400 with 2 Axes>"
            ],
            "image/png": "[encoded data removed]"
          },
          "metadata": {}
        },
        {
          "output_type": "stream",
          "name": "stdout",
          "text": [
            "Mean loss=0.991\n"
          ]
        },
        {
          "output_type": "stream",
          "name": "stderr",
          "text": [
            "100%|██████████| 25000/25000 [49:59<00:00,  8.33it/s]\n"
          ]
        }
      ]
    },
    {
      "cell_type": "code",
      "execution_count": 37,
      "metadata": {
        "id": "cyMYNe1EbRNH"
      },
      "outputs": [],
      "source": [
        "#<YOUR CODE: measure final BLEU>\n",
        "    \n",
        "assert np.mean(metrics['dev_bleu'][-10:], axis=0)[1] > 23, \"Ты можешь больше! попробуй еще раз)\""
      ]
    },
    {
      "cell_type": "code",
      "execution_count": 38,
      "metadata": {
        "id": "9lT_ckLSbRNI",
        "colab": {
          "base_uri": "https://localhost:8080/"
        },
        "outputId": "3149f079-f117-4feb-b853-7ca811eb25f6"
      },
      "outputs": [
        {
          "output_type": "stream",
          "name": "stdout",
          "text": [
            "в распоряжении гостей общая кухня и общая гостиная .\n",
            "guests can cook for a shared kitchen and common living room .\n",
            "\n",
            "кроме того , предоставляется прокат велосипедов , услуги трансфера и бесплатная парковка .\n",
            "the property also offers bike rental , free parking and a free parking .\n",
            "\n",
            "расстояние до города ки@@ сси@@ м@@ ми составляет 26 км .\n",
            "the unit is 26 km from kie@@ ver@@ an@@ d@@ i town .\n",
            "\n",
            "апартаменты в пент@@ хаусе с общим открытым бассейном , садом , кондиционером и террасой для загара расположены в 5 минутах ходьбы от пляжа на курорте ка@@ бо - рой .\n",
            "set in a complex of the can@@ ak@@ o beach , in ka@@ unas , the air - conditioned apartment features a shared outdoor swimming pool , air conditioning and a terrace .\n",
            "\n",
            "апартаменты mo@@ s@@ co@@ w point - loft red square находятся в москве , в 200 метрах от большого театра .\n",
            "mo@@ s@@ mod@@ er@@ red - style resort is located in moscow , 200 metres from the opera house .\n",
            "\n",
            "в вашем распоряжении собственная ванная комната с душем и полотенцами .\n",
            "featuring a shower , private bathroom also comes with towels .\n",
            "\n"
          ]
        }
      ],
      "source": [
        "for inp_line, trans_line in zip(dev_inp[::500], attentive_model.translate_lines(dev_inp[::500])[0]):\n",
        "    print(inp_line)\n",
        "    print(trans_line)\n",
        "    print()"
      ]
    },
    {
      "cell_type": "markdown",
      "metadata": {
        "id": "PCL8qg9YbRNI"
      },
      "source": [
        "## Как решать NLP задачу? Дообучить модель из huggingface\n",
        "\n",
        "Как мы видели на последнем семинаре в прошлом модуле можно получить отлично качество генерации текста, написав при этом не очень много строк кода, может быть попробовать тут также?)\n",
        "\n",
        "Это отличная идея!\n",
        "\n",
        "### Задание 4 (2 points)\n",
        " \n",
        "Нужно взять модель из [huggingface](https://huggingface.co/models?pipeline_tag=translation&sort=downloads), дообучить на наших данных и посмотреть, какое качество"
      ]
    },
    {
      "cell_type": "code",
      "execution_count": null,
      "metadata": {
        "id": "9oEVjqG0bRNJ"
      },
      "outputs": [],
      "source": [
        "from transformers import <YOUR CODE HERE>\n",
        "\n",
        "tokenizer = <YOUR CODE HERE>\n",
        "model = <YOUR CODE HERE>\n",
        "# обычно есть How to Get Started With the Model и там показано, как инициализировать модель"
      ]
    },
    {
      "cell_type": "code",
      "execution_count": null,
      "metadata": {
        "id": "_UV0jDPebRNJ"
      },
      "outputs": [],
      "source": [
        "<YOUR CODE HERE: train loop>\n",
        "# можно взять ваш из предыдущих пунктов"
      ]
    },
    {
      "cell_type": "code",
      "execution_count": null,
      "metadata": {
        "id": "uUdHdkD1bRNJ"
      },
      "outputs": [],
      "source": [
        "<YOUR CODE HERE: compute_bleu>\n",
        "# аналогично прошлым пунктам\n",
        "\n",
        "assert np.mean(metrics['dev_bleu'][-10:], axis=0)[1] > 27, \"Ты можешь больше! попробуй еще раз)\""
      ]
    }
  ],
  "metadata": {
    "accelerator": "GPU",
    "colab": {
      "collapsed_sections": [
        "edk_oVg0lrtW"
      ],
      "provenance": []
    },
    "kernelspec": {
      "display_name": "Python 3",
      "language": "python",
      "name": "python3"
    },
    "language_info": {
      "codemirror_mode": {
        "name": "ipython",
        "version": 3
      },
      "file_extension": ".py",
      "mimetype": "text/x-python",
      "name": "python",
      "nbconvert_exporter": "python",
      "pygments_lexer": "ipython3",
      "version": "3.8.5"
    },
    "gpuClass": "standard"
  },
  "nbformat": 4,
  "nbformat_minor": 0
}