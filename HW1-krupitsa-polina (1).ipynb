{
  "cells": [
    {
      "cell_type": "markdown",
      "metadata": {
        "id": "OekpZL6KaRJM"
      },
      "source": [
        "<center><img src=\"img/logo_hse.png\" width=\"1000\"></center>\n",
        "\n",
        "<h1><center>Прикладные задачи анализа данных</center></h1>\n",
        "<h2><center>Домашнее задание 1: Генеративные сети</center></h2>"
      ]
    },
    {
      "cell_type": "markdown",
      "metadata": {
        "id": "zqFpm3vwaRJP"
      },
      "source": [
        "# Введение\n",
        "\n",
        "Не все же нам MNIST генерировать. Давайте посмотрим, как генеративные модели могут использоваться не только для развлечения. Поехали!\n",
        "\n",
        "Немного вступления и мотивации, для чего мы хотим обучать модель."
      ]
    },
    {
      "cell_type": "markdown",
      "metadata": {
        "id": "3zaeUXFxaRJR"
      },
      "source": [
        "## MAGIC – Major Atmospheric Gamma Imaging Cherenkov Telescope"
      ]
    },
    {
      "cell_type": "markdown",
      "metadata": {
        "id": "kxMaKRzKaRJS"
      },
      "source": [
        "MAGIC (Major Atmospheric Gamma Imaging Cherenkov) - это система, состоящая из двух черенковских телескопов диаметром 17 м. Они предназначены для наблюдения гамма-лучей от галактических и внегалактических источников в диапазоне очень высоких энергий (от 30 ГэВ до 100 ТэВ). \n",
        "\n",
        "MAGIC позволил открыть и исследовать новые классы источников гамма-излучения, таких как, например, пульсары и гамма-всплески (GRB).\n",
        "\n",
        "<center><img src=\"img/magic1.jpg\" width=\"1000\"></center>\n",
        "\n",
        "Источник: https://magic.mpp.mpg.de/\n",
        "\n",
        "Youtube video: https://youtu.be/mjcDSR2vSU8\n",
        "\n",
        "#### Ок, давайте зафиксируем. Какой-то крутой телескоп позволяет открыть новые виды излучения. Идем дальше."
      ]
    },
    {
      "cell_type": "markdown",
      "metadata": {
        "id": "sa0jFDx3aRJT"
      },
      "source": [
        "## Частицы из космоса"
      ]
    },
    {
      "cell_type": "markdown",
      "metadata": {
        "id": "y-dSp8HaaRJT"
      },
      "source": [
        "Космические частицы, $\\gamma$-кванты (фотоны) и адроны (протоны), взаимодействуют с атмосферой и порождают ливни вторичных частиц. Двигаясь с околосветовой скоростью, эти частицы излучают Черенковское излучение. Телескопы фотографируют это излучение. \n",
        "#### По фотографиям можно определить тип частицы из космоса: фотон или протон. Знакомая формулировка задачи, не правда ли?\n",
        "\n",
        "<center><img src=\"img/shower.jpg\" width=\"500\"></center>"
      ]
    },
    {
      "cell_type": "markdown",
      "metadata": {
        "id": "T6zZW4FmaRJU"
      },
      "source": [
        "## Фотографии"
      ]
    },
    {
      "cell_type": "markdown",
      "metadata": {
        "id": "IRCbnsYmaRJV"
      },
      "source": [
        "Задача атмосферного черенковского телескопа - получить изображение ливня путем измерения черенковского света от частиц ливня. Это изображение представляет собой геометрическую проекцию ливня на детектор. Для анализа этих изображений были введены параметры изображения или так называемые параметры Хилласа. Ниже пример такой фотографии.\n",
        "\n",
        "<center><img src=\"img/geo.jpg\" width=\"400\"></center>\n",
        "\n",
        "#### Итак, каждая фотография описывается набором параметров, которые за нас считает телесоп. А что там с двумя видами частиц?"
      ]
    },
    {
      "cell_type": "markdown",
      "metadata": {
        "id": "MiL7gq8vaRJV"
      },
      "source": [
        "## Фотоны vs адронов"
      ]
    },
    {
      "cell_type": "markdown",
      "metadata": {
        "id": "DFhXcV_aaRJW"
      },
      "source": [
        "Изображения для $\\gamma$-квантов (фотонов) и адронов (протонов) отличаются по форме кластеров. Астрономы используют модели машинного обучения для классификации этих изображений. Получение каждого такого изображения - дорогое удовольствие!\n",
        "\n",
        "\n",
        "<center><img src=\"img/gamma_p.png\" width=\"600\"></center>\n",
        "\n",
        "Для обучения моделей ученые искусственно генерируют такие изображения для каждого типа частиц с помощью сложных физических симуляторов. \n",
        "\n",
        "#### Итак, давайте сэкономим денег для ученых и сгенерируем хороших фотографий разных частиц. Используем для этого GAN и диффузионные модели!"
      ]
    },
    {
      "cell_type": "code",
      "execution_count": 1,
      "metadata": {
        "id": "S3QwS5H9aRJX"
      },
      "outputs": [],
      "source": [
        "%matplotlib inline\n",
        "import matplotlib.pyplot as plt\n",
        "import numpy as np\n",
        "import pandas as pd"
      ]
    },
    {
      "cell_type": "code",
      "source": [],
      "metadata": {
        "id": "97axi4jqvI9N"
      },
      "execution_count": 1,
      "outputs": []
    },
    {
      "cell_type": "markdown",
      "metadata": {
        "id": "pROvUmz1aRJZ"
      },
      "source": [
        "# Данные"
      ]
    },
    {
      "cell_type": "markdown",
      "metadata": {
        "id": "Z8uG9KXTaRJa"
      },
      "source": [
        "Будем использовать данные телескопа MAGIC из UCI репозитория https://archive.ics.uci.edu/ml/datasets/MAGIC+Gamma+Telescope. Каждый объект в данных - параметры одного изображения кластера и метка этого кластера (фотон или адрон):\n",
        "\n",
        "\n",
        "0. Length: major axis of ellipse [mm]\n",
        "1. Width: minor axis of ellipse [mm]\n",
        "2. Size: 10-log of sum of content of all pixels [in #phot]\n",
        "3. Conc: ratio of sum of two highest pixels over fSize [ratio]\n",
        "4. Conc1: ratio of highest pixel over fSize [ratio]\n",
        "5. Asym: distance from highest pixel to center, projected onto major axis [mm]\n",
        "6. M3Long: 3rd root of third moment along major axis [mm]\n",
        "7. M3Trans: 3rd root of third moment along minor axis [mm]\n",
        "8. Alpha: angle of major axis with vector to origin [deg]\n",
        "9. Dist: distance from origin to center of ellipse [mm]\n",
        "10. class: g,h # gamma (signal), hadron (background)"
      ]
    },
    {
      "cell_type": "code",
      "execution_count": 2,
      "metadata": {
        "pycharm": {
          "is_executing": true
        },
        "colab": {
          "base_uri": "https://localhost:8080/",
          "height": 224
        },
        "id": "bl3C3siWaRJb",
        "outputId": "27078d4c-96f7-4099-ea36-6e78e87d687c"
      },
      "outputs": [
        {
          "output_type": "stream",
          "name": "stdout",
          "text": [
            "(19020, 11)\n"
          ]
        },
        {
          "output_type": "execute_result",
          "data": {
            "text/plain": [
              "     Length     Width    Size    Conc   Conc1      Asym   M3Long  M3Trans  \\\n",
              "0   28.7967   16.0021  2.6449  0.3918  0.1982   27.7004  22.0110  -8.2027   \n",
              "1   31.6036   11.7235  2.5185  0.5303  0.3773   26.2722  23.8238  -9.9574   \n",
              "2  162.0520  136.0310  4.0612  0.0374  0.0187  116.7410 -64.8580 -45.2160   \n",
              "3   23.8172    9.5728  2.3385  0.6147  0.3922   27.2107  -6.4633  -7.1513   \n",
              "4   75.1362   30.9205  3.1611  0.3168  0.1832   -5.5277  28.5525  21.8393   \n",
              "\n",
              "     Alpha      Dist class  \n",
              "0  40.0920   81.8828     g  \n",
              "1   6.3609  205.2610     g  \n",
              "2  76.9600  256.7880     g  \n",
              "3  10.4490  116.7370     g  \n",
              "4   4.6480  356.4620     g  "
            ],
            "text/html": [
              "\n",
              "  <div id=\"df-e72b7e29-9db2-45a9-8250-ea82376117ff\">\n",
              "    <div class=\"colab-df-container\">\n",
              "      <div>\n",
              "<style scoped>\n",
              "    .dataframe tbody tr th:only-of-type {\n",
              "        vertical-align: middle;\n",
              "    }\n",
              "\n",
              "    .dataframe tbody tr th {\n",
              "        vertical-align: top;\n",
              "    }\n",
              "\n",
              "    .dataframe thead th {\n",
              "        text-align: right;\n",
              "    }\n",
              "</style>\n",
              "<table border=\"1\" class=\"dataframe\">\n",
              "  <thead>\n",
              "    <tr style=\"text-align: right;\">\n",
              "      <th></th>\n",
              "      <th>Length</th>\n",
              "      <th>Width</th>\n",
              "      <th>Size</th>\n",
              "      <th>Conc</th>\n",
              "      <th>Conc1</th>\n",
              "      <th>Asym</th>\n",
              "      <th>M3Long</th>\n",
              "      <th>M3Trans</th>\n",
              "      <th>Alpha</th>\n",
              "      <th>Dist</th>\n",
              "      <th>class</th>\n",
              "    </tr>\n",
              "  </thead>\n",
              "  <tbody>\n",
              "    <tr>\n",
              "      <th>0</th>\n",
              "      <td>28.7967</td>\n",
              "      <td>16.0021</td>\n",
              "      <td>2.6449</td>\n",
              "      <td>0.3918</td>\n",
              "      <td>0.1982</td>\n",
              "      <td>27.7004</td>\n",
              "      <td>22.0110</td>\n",
              "      <td>-8.2027</td>\n",
              "      <td>40.0920</td>\n",
              "      <td>81.8828</td>\n",
              "      <td>g</td>\n",
              "    </tr>\n",
              "    <tr>\n",
              "      <th>1</th>\n",
              "      <td>31.6036</td>\n",
              "      <td>11.7235</td>\n",
              "      <td>2.5185</td>\n",
              "      <td>0.5303</td>\n",
              "      <td>0.3773</td>\n",
              "      <td>26.2722</td>\n",
              "      <td>23.8238</td>\n",
              "      <td>-9.9574</td>\n",
              "      <td>6.3609</td>\n",
              "      <td>205.2610</td>\n",
              "      <td>g</td>\n",
              "    </tr>\n",
              "    <tr>\n",
              "      <th>2</th>\n",
              "      <td>162.0520</td>\n",
              "      <td>136.0310</td>\n",
              "      <td>4.0612</td>\n",
              "      <td>0.0374</td>\n",
              "      <td>0.0187</td>\n",
              "      <td>116.7410</td>\n",
              "      <td>-64.8580</td>\n",
              "      <td>-45.2160</td>\n",
              "      <td>76.9600</td>\n",
              "      <td>256.7880</td>\n",
              "      <td>g</td>\n",
              "    </tr>\n",
              "    <tr>\n",
              "      <th>3</th>\n",
              "      <td>23.8172</td>\n",
              "      <td>9.5728</td>\n",
              "      <td>2.3385</td>\n",
              "      <td>0.6147</td>\n",
              "      <td>0.3922</td>\n",
              "      <td>27.2107</td>\n",
              "      <td>-6.4633</td>\n",
              "      <td>-7.1513</td>\n",
              "      <td>10.4490</td>\n",
              "      <td>116.7370</td>\n",
              "      <td>g</td>\n",
              "    </tr>\n",
              "    <tr>\n",
              "      <th>4</th>\n",
              "      <td>75.1362</td>\n",
              "      <td>30.9205</td>\n",
              "      <td>3.1611</td>\n",
              "      <td>0.3168</td>\n",
              "      <td>0.1832</td>\n",
              "      <td>-5.5277</td>\n",
              "      <td>28.5525</td>\n",
              "      <td>21.8393</td>\n",
              "      <td>4.6480</td>\n",
              "      <td>356.4620</td>\n",
              "      <td>g</td>\n",
              "    </tr>\n",
              "  </tbody>\n",
              "</table>\n",
              "</div>\n",
              "      <button class=\"colab-df-convert\" onclick=\"convertToInteractive('df-e72b7e29-9db2-45a9-8250-ea82376117ff')\"\n",
              "              title=\"Convert this dataframe to an interactive table.\"\n",
              "              style=\"display:none;\">\n",
              "        \n",
              "  <svg xmlns=\"http://www.w3.org/2000/svg\" height=\"24px\"viewBox=\"0 0 24 24\"\n",
              "       width=\"24px\">\n",
              "    <path d=\"M0 0h24v24H0V0z\" fill=\"none\"/>\n",
              "    <path d=\"M18.56 5.44l.94 2.06.94-2.06 2.06-.94-2.06-.94-.94-2.06-.94 2.06-2.06.94zm-11 1L8.5 8.5l.94-2.06 2.06-.94-2.06-.94L8.5 2.5l-.94 2.06-2.06.94zm10 10l.94 2.06.94-2.06 2.06-.94-2.06-.94-.94-2.06-.94 2.06-2.06.94z\"/><path d=\"M17.41 7.96l-1.37-1.37c-.4-.4-.92-.59-1.43-.59-.52 0-1.04.2-1.43.59L10.3 9.45l-7.72 7.72c-.78.78-.78 2.05 0 2.83L4 21.41c.39.39.9.59 1.41.59.51 0 1.02-.2 1.41-.59l7.78-7.78 2.81-2.81c.8-.78.8-2.07 0-2.86zM5.41 20L4 18.59l7.72-7.72 1.47 1.35L5.41 20z\"/>\n",
              "  </svg>\n",
              "      </button>\n",
              "      \n",
              "  <style>\n",
              "    .colab-df-container {\n",
              "      display:flex;\n",
              "      flex-wrap:wrap;\n",
              "      gap: 12px;\n",
              "    }\n",
              "\n",
              "    .colab-df-convert {\n",
              "      background-color: #E8F0FE;\n",
              "      border: none;\n",
              "      border-radius: 50%;\n",
              "      cursor: pointer;\n",
              "      display: none;\n",
              "      fill: #1967D2;\n",
              "      height: 32px;\n",
              "      padding: 0 0 0 0;\n",
              "      width: 32px;\n",
              "    }\n",
              "\n",
              "    .colab-df-convert:hover {\n",
              "      background-color: #E2EBFA;\n",
              "      box-shadow: 0px 1px 2px rgba(60, 64, 67, 0.3), 0px 1px 3px 1px rgba(60, 64, 67, 0.15);\n",
              "      fill: #174EA6;\n",
              "    }\n",
              "\n",
              "    [theme=dark] .colab-df-convert {\n",
              "      background-color: #3B4455;\n",
              "      fill: #D2E3FC;\n",
              "    }\n",
              "\n",
              "    [theme=dark] .colab-df-convert:hover {\n",
              "      background-color: #434B5C;\n",
              "      box-shadow: 0px 1px 3px 1px rgba(0, 0, 0, 0.15);\n",
              "      filter: drop-shadow(0px 1px 2px rgba(0, 0, 0, 0.3));\n",
              "      fill: #FFFFFF;\n",
              "    }\n",
              "  </style>\n",
              "\n",
              "      <script>\n",
              "        const buttonEl =\n",
              "          document.querySelector('#df-e72b7e29-9db2-45a9-8250-ea82376117ff button.colab-df-convert');\n",
              "        buttonEl.style.display =\n",
              "          google.colab.kernel.accessAllowed ? 'block' : 'none';\n",
              "\n",
              "        async function convertToInteractive(key) {\n",
              "          const element = document.querySelector('#df-e72b7e29-9db2-45a9-8250-ea82376117ff');\n",
              "          const dataTable =\n",
              "            await google.colab.kernel.invokeFunction('convertToInteractive',\n",
              "                                                     [key], {});\n",
              "          if (!dataTable) return;\n",
              "\n",
              "          const docLinkHtml = 'Like what you see? Visit the ' +\n",
              "            '<a target=\"_blank\" href=https://colab.research.google.com/notebooks/data_table.ipynb>data table notebook</a>'\n",
              "            + ' to learn more about interactive tables.';\n",
              "          element.innerHTML = '';\n",
              "          dataTable['output_type'] = 'display_data';\n",
              "          await google.colab.output.renderOutput(dataTable, element);\n",
              "          const docLink = document.createElement('div');\n",
              "          docLink.innerHTML = docLinkHtml;\n",
              "          element.appendChild(docLink);\n",
              "        }\n",
              "      </script>\n",
              "    </div>\n",
              "  </div>\n",
              "  "
            ]
          },
          "metadata": {},
          "execution_count": 2
        }
      ],
      "source": [
        "# read data\n",
        "names = np.array(\n",
        "    [\n",
        "        \"Length\",\n",
        "        \"Width\",\n",
        "        \"Size\",\n",
        "        \"Conc\",\n",
        "        \"Conc1\",\n",
        "        \"Asym\",\n",
        "        \"M3Long\",\n",
        "        \"M3Trans\",\n",
        "        \"Alpha\",\n",
        "        \"Dist\",\n",
        "        \"class\",\n",
        "    ]\n",
        ")\n",
        "data = pd.read_csv(\"magic04.data\", header=None)\n",
        "data.columns = names\n",
        "print(data.shape)\n",
        "data.head()"
      ]
    },
    {
      "cell_type": "markdown",
      "metadata": {
        "id": "zrSstaLCaRJd"
      },
      "source": [
        "# Постановка задачи\n",
        "\n",
        "Ваша задача заключается в том, чтобы с помощью генеративно-состязательных сетей научиться генерировать параметры кластеров на изображениях телескопа для каждого типа частиц (фотона или адрона):\n",
        "\n",
        "- $X$ - матрица реальных объектов, которые нужно начиться генерировать;\n",
        "- $y$ - метки классов, которые будем использовать как условие при генерации."
      ]
    },
    {
      "cell_type": "code",
      "execution_count": 3,
      "metadata": {
        "id": "hJyAnqJGaRJe"
      },
      "outputs": [],
      "source": [
        "# параметры кластеров на изображениях\n",
        "X = data[names[:-1]].values\n",
        "X = np.abs(X)\n",
        "\n",
        "# метки классов\n",
        "labels = data[names[-1]].values\n",
        "y = np.ones((len(labels), 1))\n",
        "y[labels == \"h\"] = 0"
      ]
    },
    {
      "cell_type": "code",
      "execution_count": 4,
      "metadata": {
        "colab": {
          "base_uri": "https://localhost:8080/"
        },
        "id": "Lfy7x5dGaRJf",
        "outputId": "84678227-7591-4e82-ec68-d9ff8e475c0e"
      },
      "outputs": [
        {
          "output_type": "execute_result",
          "data": {
            "text/plain": [
              "array([[2.87967e+01, 1.60021e+01, 2.64490e+00, 3.91800e-01, 1.98200e-01,\n",
              "        2.77004e+01, 2.20110e+01, 8.20270e+00, 4.00920e+01, 8.18828e+01],\n",
              "       [3.16036e+01, 1.17235e+01, 2.51850e+00, 5.30300e-01, 3.77300e-01,\n",
              "        2.62722e+01, 2.38238e+01, 9.95740e+00, 6.36090e+00, 2.05261e+02]])"
            ]
          },
          "metadata": {},
          "execution_count": 4
        }
      ],
      "source": [
        "# примеры\n",
        "X[:2]"
      ]
    },
    {
      "cell_type": "code",
      "source": [
        "X[1].shape"
      ],
      "metadata": {
        "colab": {
          "base_uri": "https://localhost:8080/"
        },
        "id": "8eEI_lIoqNZ3",
        "outputId": "dd4fd131-0b90-4c81-e7cc-e1788f885b5b"
      },
      "execution_count": 5,
      "outputs": [
        {
          "output_type": "execute_result",
          "data": {
            "text/plain": [
              "(10,)"
            ]
          },
          "metadata": {},
          "execution_count": 5
        }
      ]
    },
    {
      "cell_type": "code",
      "execution_count": 6,
      "metadata": {
        "colab": {
          "base_uri": "https://localhost:8080/"
        },
        "id": "WbQRLcCqaRJg",
        "outputId": "6b3caf57-363c-4d70-f698-dce1c83f879b"
      },
      "outputs": [
        {
          "output_type": "execute_result",
          "data": {
            "text/plain": [
              "array([[1.],\n",
              "       [1.],\n",
              "       [1.],\n",
              "       [1.],\n",
              "       [1.],\n",
              "       [1.],\n",
              "       [1.],\n",
              "       [1.],\n",
              "       [1.],\n",
              "       [1.]])"
            ]
          },
          "metadata": {},
          "execution_count": 6
        }
      ],
      "source": [
        "# примеры\n",
        "y[:10]"
      ]
    },
    {
      "cell_type": "code",
      "execution_count": 7,
      "metadata": {
        "colab": {
          "base_uri": "https://localhost:8080/"
        },
        "id": "TPsW2qzVaRJi",
        "outputId": "e177fdf3-1fdb-4215-8f3f-78fcf681e8e8"
      },
      "outputs": [
        {
          "output_type": "execute_result",
          "data": {
            "text/plain": [
              "array([0., 1.])"
            ]
          },
          "metadata": {},
          "execution_count": 7
        }
      ],
      "source": [
        "# все возможные значения\n",
        "np.unique(y)"
      ]
    },
    {
      "cell_type": "markdown",
      "metadata": {
        "id": "DBvgNKHsaRJi"
      },
      "source": [
        "# Визуализация данных"
      ]
    },
    {
      "cell_type": "markdown",
      "metadata": {
        "id": "UJOFdN_xaRJj"
      },
      "source": [
        "Каждое изображение описывается 10 параметрами. Давайте построим распределения значений каждого параметра для каждого типа частиц."
      ]
    },
    {
      "cell_type": "code",
      "execution_count": 8,
      "metadata": {
        "id": "MRES6A10aRJk"
      },
      "outputs": [],
      "source": [
        "def plot_hists(X1, X2, names, label1, label2, bins=np.linspace(-3, 3, 61)):\n",
        "    plt.figure(figsize=(5 * 4, 5 * 2))\n",
        "    for i in range(X1.shape[1]):\n",
        "        plt.subplot(3, 4, i + 1)\n",
        "        plt.grid()\n",
        "        plt.hist(X1[:, i], bins=bins, alpha=0.3, label=label1, color=\"C4\")\n",
        "        plt.hist(X2[:, i], bins=bins, alpha=0.3, label=label2, color=\"C0\")\n",
        "        plt.xlabel(names[i], size=14)\n",
        "        plt.legend(loc=\"best\")\n",
        "    plt.tight_layout()"
      ]
    },
    {
      "cell_type": "code",
      "execution_count": 11,
      "metadata": {
        "colab": {
          "base_uri": "https://localhost:8080/",
          "height": 729
        },
        "id": "PpDoq-ACaRJl",
        "outputId": "59242d84-ad39-46b7-8faa-d531cda4b7ff"
      },
      "outputs": [
        {
          "output_type": "display_data",
          "data": {
            "text/plain": [
              "<Figure size 1440x720 with 10 Axes>"
            ],
            "image/png": "[encoded data removed]"
          },
          "metadata": {
            "needs_background": "light"
          }
        }
      ],
      "source": [
        "plot_hists(\n",
        "    X[y[:, 0] == 0], X[y[:, 0] == 1], names, label1=\"Hadrons\", label2=\"Photons\", bins=50\n",
        ")"
      ]
    },
    {
      "cell_type": "markdown",
      "metadata": {
        "id": "3v4jt-C0aRJm"
      },
      "source": [
        "# Предобработка данных"
      ]
    },
    {
      "cell_type": "markdown",
      "metadata": {
        "id": "fqjlsTWkaRJn"
      },
      "source": [
        "Из графика видим, что распределения для многих признаков имеют тяжелые хвосты. Это делает обучение генеративных моделей тяжелее. Поэтому нужно как-то преобразовать данные, чтобы убрать эти тяжелые хвосты."
      ]
    },
    {
      "cell_type": "markdown",
      "metadata": {
        "id": "JYkki2IOaRJn"
      },
      "source": [
        "# Обучающая и тестовая выборки"
      ]
    },
    {
      "cell_type": "code",
      "execution_count": 9,
      "metadata": {
        "id": "UuwsdRQiaRJo"
      },
      "outputs": [],
      "source": [
        "from sklearn.model_selection import train_test_split\n",
        "\n",
        "# train / test split\n",
        "X_train, X_test, y_train, y_test = train_test_split(\n",
        "    X, y, stratify = y, test_size=0.5, shuffle = True, random_state = 11\n",
        ")"
      ]
    },
    {
      "cell_type": "markdown",
      "metadata": {
        "id": "XoPUsDXAaRJp"
      },
      "source": [
        "## Задание 1 (0.2 балла)\n",
        "\n",
        "Проиллюстрируйте распределение y внутри train и test выборки."
      ]
    },
    {
      "cell_type": "code",
      "execution_count": 13,
      "metadata": {
        "colab": {
          "base_uri": "https://localhost:8080/",
          "height": 338
        },
        "id": "n44jwKP9aRJq",
        "outputId": "3f4e0482-6f88-4339-ffe5-35600ae04a82"
      },
      "outputs": [
        {
          "output_type": "display_data",
          "data": {
            "text/plain": [
              "<Figure size 1080x360 with 2 Axes>"
            ],
            "image/png": "[encoded data removed]"
          },
          "metadata": {
            "needs_background": "light"
          }
        }
      ],
      "source": [
        "plt.figure(figsize=(15, 5))\n",
        "plt.subplot(1, 2, 1)\n",
        "plt.hist(y_train, color=\"C4\");\n",
        "plt.xlabel(\"Значение y_train\", size=14)\n",
        "plt.ylabel(\"Число наблюдений\", size=14)\n",
        "plt.grid()\n",
        "plt.subplot(1, 2, 2)\n",
        "plt.hist(y_test, color=\"C6\");\n",
        "plt.xlabel(\"Значение y_test\", size=14)\n",
        "plt.ylabel(\"Число наблюдений\", size=14)\n",
        "plt.grid()\n"
      ]
    },
    {
      "cell_type": "markdown",
      "metadata": {
        "id": "rDEi3uJPaRJr"
      },
      "source": [
        "## Задание 2 (0.8 балл)\n",
        "\n",
        "Используя функцию `sklearn.preprocessing.QuantileTransformer` трансформируйте входные данные `X_train` и `X_test`. Это преобразование делает так, чтобы распределение каждого параметра было нормальным. Описание функции доступно по [ссылке](http://scikit-learn.org/stable/modules/generated/sklearn.preprocessing.QuantileTransformer.html). Используйте значение параметра `output_distribution='normal'`."
      ]
    },
    {
      "cell_type": "code",
      "execution_count": 10,
      "metadata": {
        "id": "dLPClTxFaRJs"
      },
      "outputs": [],
      "source": [
        "from sklearn.preprocessing import QuantileTransformer\n",
        "qt = QuantileTransformer(output_distribution='normal', random_state=0)\n",
        "X_train = qt.fit_transform(X_train)\n",
        "X_test = qt.transform(X_test)"
      ]
    },
    {
      "cell_type": "code",
      "execution_count": 15,
      "metadata": {
        "colab": {
          "base_uri": "https://localhost:8080/",
          "height": 729
        },
        "id": "pYqBK6-ZaRJv",
        "outputId": "04bbf5b9-0871-4566-9629-7166740203b9"
      },
      "outputs": [
        {
          "output_type": "display_data",
          "data": {
            "text/plain": [
              "<Figure size 1440x720 with 10 Axes>"
            ],
            "image/png": "[encoded data removed]"
          },
          "metadata": {
            "needs_background": "light"
          }
        }
      ],
      "source": [
        "plot_hists(\n",
        "    X_train[y_train[:, 0] == 0],\n",
        "    X_train[y_train[:, 0] == 1],\n",
        "    names,\n",
        "    label1=\"Hadrons\",\n",
        "    label2=\"Photons\",\n",
        "    bins=50,\n",
        ")"
      ]
    },
    {
      "cell_type": "code",
      "execution_count": 16,
      "metadata": {
        "colab": {
          "base_uri": "https://localhost:8080/",
          "height": 729
        },
        "id": "kMRIxJtMaRJw",
        "outputId": "2c07803b-f7ec-441c-94ce-95d486f19b85"
      },
      "outputs": [
        {
          "output_type": "display_data",
          "data": {
            "text/plain": [
              "<Figure size 1440x720 with 10 Axes>"
            ],
            "image/png": "[encoded data removed]"
          },
          "metadata": {
            "needs_background": "light"
          }
        }
      ],
      "source": [
        "plot_hists(X_train, X_test, names, label1=\"Train\", label2=\"Test\")"
      ]
    },
    {
      "cell_type": "markdown",
      "metadata": {
        "id": "rfiiRPtDaRJy"
      },
      "source": [
        "# Conditional WGAN"
      ]
    },
    {
      "cell_type": "markdown",
      "metadata": {
        "id": "PFqnrKR_aRJz"
      },
      "source": [
        "Мы будем использовать `Conditional WGAN`, который изображен на рисунке. В качестве условия `y` мы будем использовать метку класса: **0** - адрон, **1** - фотон. Таким образом, мы будем сообщать генератору для какой частицы нужно генерировать параметры изображения. \n",
        "\n",
        "<center><img src=\"img/cgan.png\" width=\"800\"></center>"
      ]
    },
    {
      "cell_type": "markdown",
      "metadata": {
        "id": "3ChxLnQiaRJ0"
      },
      "source": [
        "Генератор $\\hat{x} = G(z, y)$ будет принимать на вход шумовой вектор $z$ и вектор условий $y$, а выдавать будет сгенерированный (фейковый) вектор параметров $\\hat{x}$. \n",
        "\n",
        "Дискриминатор $D(x, y)$ будет принимать на вход вектор параметров $x$ и вектор условий $y$, а возвращать будет рациональное число.\n",
        "\n",
        "Обучать `Conditional WGAN` будем с такой функцией потерь:\n",
        "\n",
        "$$L(G, D) = -\\frac{1}{n} \\sum_{x_i \\in X, y_i \\in y} D(x_i, y_i) + -\\frac{1}{n} \\sum_{z_i \\in Z, y_i \\in y} D(G(z_i, y_i), y_i) \\to \\max_G \\min_D$$"
      ]
    },
    {
      "cell_type": "code",
      "execution_count": 11,
      "metadata": {
        "id": "jZqJhBSoaRJ2"
      },
      "outputs": [],
      "source": [
        "import torch\n",
        "import torch.nn as nn\n",
        "import torch.nn.functional as F\n",
        "from torch.autograd import Variable\n",
        "from torch.utils.data import DataLoader, TensorDataset\n",
        "\n",
        "DEVICE = torch.device(\"cuda\" if torch.cuda.is_available() else \"cpu\")"
      ]
    },
    {
      "cell_type": "code",
      "execution_count": 12,
      "metadata": {
        "colab": {
          "base_uri": "https://localhost:8080/"
        },
        "id": "4IK1gbOcaRJ3",
        "outputId": "e089ec0e-32fb-4209-a045-228f059e7cb6"
      },
      "outputs": [
        {
          "output_type": "execute_result",
          "data": {
            "text/plain": [
              "device(type='cpu')"
            ]
          },
          "metadata": {},
          "execution_count": 12
        }
      ],
      "source": [
        "DEVICE"
      ]
    },
    {
      "cell_type": "markdown",
      "metadata": {
        "id": "AGl4oMUFaRJ3"
      },
      "source": [
        "## Задание 3 (0.75 балла)\n",
        "\n",
        "Реализуйте нейронную сеть для генератора со следующими слоями:\n",
        "- Полносвязный слой со 100 нейронами;\n",
        "- Слой батч-нормализации;\n",
        "- ReLU функцию активации;\n",
        "- Полносвязный слой со 100 нейронами;\n",
        "- Слой батч-нормализации;\n",
        "- ReLU функцию активации;\n",
        "- Выходной слой."
      ]
    },
    {
      "cell_type": "markdown",
      "source": [],
      "metadata": {
        "id": "5-GtFQSrmE60"
      }
    },
    {
      "cell_type": "code",
      "execution_count": 13,
      "metadata": {
        "scrolled": true,
        "id": "bu8hMM0kaRJ4"
      },
      "outputs": [],
      "source": [
        "class Generator(nn.Module):\n",
        "    def __init__(self, n_inputs, n_outputs):\n",
        "        super(Generator, self).__init__()\n",
        "        self.n_inputs = n_inputs\n",
        "        self.n_outputs = n_outputs\n",
        "\n",
        "        self.net = nn.Sequential(\n",
        "            nn.Linear(self.n_inputs, 100), \n",
        "            nn.BatchNorm1d(100),\n",
        "            nn.ReLU(),\n",
        "            nn.Linear(100, 100), \n",
        "            nn.BatchNorm1d(100),\n",
        "            nn.ReLU(),\n",
        "            nn.Linear(100, self.n_outputs)\n",
        "\n",
        "        )\n",
        "\n",
        "\n",
        "    def forward(self, z, y):\n",
        "      \n",
        "        zy = torch.cat((z, y), dim=1)\n",
        "        return self.net(zy)"
      ]
    },
    {
      "cell_type": "code",
      "source": [],
      "metadata": {
        "id": "6AvNvJMxnAs5"
      },
      "execution_count": 13,
      "outputs": []
    },
    {
      "cell_type": "markdown",
      "metadata": {
        "id": "_s0jnveeaRJ5"
      },
      "source": [
        "## Задание 4 (0.5 балл)\n",
        "\n",
        "Реализуйте функцию для генерации новый объектов $X$ по вектору условий $y$."
      ]
    },
    {
      "cell_type": "code",
      "execution_count": 14,
      "metadata": {
        "id": "04oncLNgaRJ5"
      },
      "outputs": [],
      "source": [
        "#Generate Fake Data: output like real data \n",
        "\n",
        "def generate(generator, y, latent_dim):\n",
        "    z = torch.randn(y.shape[0], latent_dim) #.to(device)??\n",
        "    X_fake = generator.forward(z, y) #нужно ли писать .forward?\n",
        "    \n",
        "\n",
        "\n",
        "\n",
        "    return X_fake  # numpy"
      ]
    },
    {
      "cell_type": "code",
      "source": [],
      "metadata": {
        "id": "u3Dv8rbeG5-R"
      },
      "execution_count": 14,
      "outputs": []
    },
    {
      "cell_type": "markdown",
      "metadata": {
        "id": "nfaBDX0UaRJ6"
      },
      "source": [
        "## Задание 5 (0.75 балла)\n",
        "\n",
        "Реализуйте нейронную сеть для дискриминатора со следующими слоями:\n",
        "- Полносвязный слой со 100 нейронами;\n",
        "- ReLU функцию активации;\n",
        "- Полносвязный слой со 100 нейронами;\n",
        "- ReLU функцию активации;\n",
        "- Выходной слой.\n",
        "\n",
        "Какая функция активации должна быть в конце работы модели и почему? А она вообще тут должна быть? Обоснуйте свой выбор."
      ]
    },
    {
      "cell_type": "markdown",
      "source": [
        "Мне кажется, что не надо применять никакую функцию активации. Обычно мы используем сигмоиду, потому что мы хотим видеть вероятность от 0 до 1 в качестве вывода дискриминатора, но вы написали в условии, что дискриминатор выводит просто число, а не вероятность. Получается, ничего т не надо применять."
      ],
      "metadata": {
        "id": "3FLrRMWcv9Kx"
      }
    },
    {
      "cell_type": "code",
      "execution_count": 15,
      "metadata": {
        "id": "3WxYgy7EaRJ7"
      },
      "outputs": [],
      "source": [
        "class Discriminator(nn.Module):\n",
        "    def __init__(self, n_inputs):\n",
        "        super(Discriminator, self).__init__()\n",
        "        self.n_inputs = n_inputs\n",
        "        self.net = nn.Sequential(\n",
        "            nn.Linear(n_inputs, 100), \n",
        "            nn.ReLU(),\n",
        "            nn.Linear(100, 100), \n",
        "            nn.ReLU(),\n",
        "            nn.Linear(100, 1)\n",
        "        )\n",
        "\n",
        "\n",
        "    def forward(self, x, y):\n",
        "        xy = torch.cat((x, y), dim=1)\n",
        "        out = self.net(xy)\n",
        "        return out #sigmoid"
      ]
    },
    {
      "cell_type": "code",
      "source": [],
      "metadata": {
        "id": "tZbZbExOFLQs"
      },
      "execution_count": 15,
      "outputs": []
    },
    {
      "cell_type": "markdown",
      "metadata": {
        "id": "gIhLmgdRaRJ7"
      },
      "source": [
        "## Задание 6 (0.5 балла)\n",
        "\n",
        "Реализуйте функцию, которая принимала бы на вход набор сгенерированных и настоящих объектов, разбивала на train и test с учетом баланса классов (real и fake объектов), с соотношением 3 к 1, обучала модель линейной регрессии и градиентного бустинга, которые учились бы отличать настоящие объекты от фальшивых, после чего выводила бы accuracy score на отложенной выборке у обоих моделей.\n",
        "\n",
        "Ответьте на вопрос: какое значение accuracy score нас бы удовлетворило больше всего? Почему?"
      ]
    },
    {
      "cell_type": "markdown",
      "source": [
        "Чем меньше accuracy, тем по сути лучше у нас работает генератор, хотелось бы, чтобы accuracy постепенно падал до 0.5, тогда получится, что дискриминатор вообще запутался и не понимает, где фейк а где реальный, и просто наугад с одинаковой верояитностью ставит класс.\n"
      ],
      "metadata": {
        "id": "0vMO99ESWQ-m"
      }
    },
    {
      "cell_type": "code",
      "source": [
        "from sklearn.linear_model import LogisticRegression\n",
        "from sklearn.metrics import accuracy_score\n",
        "from xgboost import XGBClassifier"
      ],
      "metadata": {
        "id": "kr3zgxAfT2uT"
      },
      "execution_count": 16,
      "outputs": []
    },
    {
      "cell_type": "code",
      "execution_count": 16,
      "metadata": {
        "id": "pMU6SMceaRJ8"
      },
      "outputs": [],
      "source": []
    },
    {
      "cell_type": "code",
      "source": [],
      "metadata": {
        "id": "CeU9GB7Ic1BX"
      },
      "execution_count": 16,
      "outputs": []
    },
    {
      "cell_type": "code",
      "source": [
        "def other_agent_score(X_real, y_real, X_fake, y_fake):\n",
        "    ### YOUR CODE IS HERE ######\n",
        "\n",
        "\n",
        "    X = torch.cat((X_real, X_fake))\n",
        "    y = torch.cat((y_real, y_fake))\n",
        "    X_train, X_test, y_train, y_test = train_test_split(\n",
        "    X, y, stratify = y, test_size = 0.25, shuffle = True, random_state = 11\n",
        "    )\n",
        "    X_train = X_train.detach().numpy()\n",
        "    X_test = X_test.detach().numpy()\n",
        "    y_train = y_train.detach().numpy()\n",
        "    y_test = y_test.detach().numpy()\n",
        "\n",
        "\n",
        "\n",
        "    clf = LogisticRegression(random_state=0)\n",
        "    clf.fit(X_train, y_train)\n",
        "    y_pred_logreg = clf.predict(X_test)\n",
        "    print(y_train.shape, y_pred_logreg.shape)\n",
        "    lin_reg_score = accuracy_score(y_test, y_pred_logreg)\n",
        "\n",
        "\n",
        "    bst = XGBClassifier() #n_estimators=k, max_depth=j, learning_rate=i \n",
        "    bst.fit(X_train, y_train)\n",
        "    y_pred_boost = bst.predict(X_test)\n",
        "    boosting_score = accuracy_score(y_test, y_pred_boost)\n",
        "    ### THE END OF YOUR CODE ###\n",
        "    print('Linear regression score: ' + str(lin_reg_score))\n",
        "    print('Boosting score: ' + str(boosting_score))"
      ],
      "metadata": {
        "id": "GJp1U6KcR_z3"
      },
      "execution_count": 17,
      "outputs": []
    },
    {
      "cell_type": "markdown",
      "metadata": {
        "id": "Bb4DUNJEaRJ8"
      },
      "source": [
        "## Задание 7 (1.5 балла)\n",
        "\n",
        "Реализуйте класс для обучения генеративной модели.\n",
        "\n",
        "- Подсказка 1: не забывайте ограничивать веса дискриминатора. Для этого используйте `p.data.clamp_(-0.01, 0.01)`, где `p` веса дискриминатора.\n",
        "- Подсказка 2: `n_critic` - число итераций обучения дискриминатора на одну итерацию обучения генератора.\n",
        "- Подсказка 3: Используйте `X_tensor = torch.tensor(X_numpy, dtype=torch.float, device=DEVICE)` для перевода numpy в тензор."
      ]
    },
    {
      "cell_type": "code",
      "execution_count": 18,
      "metadata": {
        "id": "n0ItY2rbaRJ8"
      },
      "outputs": [],
      "source": [
        "class Fitter(object):\n",
        "    def __init__(\n",
        "        self,\n",
        "        generator,\n",
        "        discriminator,\n",
        "        batch_size = 32,\n",
        "        n_epochs = 10,\n",
        "        latent_dim = 1,\n",
        "        lr = 0.0001,\n",
        "        n_critic=5,\n",
        "    ):\n",
        "\n",
        "        self.generator = generator\n",
        "        self.discriminator = discriminator\n",
        "        self.batch_size = batch_size\n",
        "        self.n_epochs = n_epochs\n",
        "        self.latent_dim = latent_dim\n",
        "        self.lr = lr\n",
        "        self.n_critic = n_critic\n",
        "\n",
        "        self.opt_gen = torch.optim.RMSprop(self.generator.parameters(), lr=self.lr)\n",
        "        self.opt_disc = torch.optim.RMSprop(self.discriminator.parameters(), lr=self.lr)\n",
        "\n",
        "        self.generator.to(DEVICE)\n",
        "        self.discriminator.to(DEVICE)\n",
        "\n",
        "    def fit(self, X, y):\n",
        "\n",
        "        # numpy to tensor\n",
        "        X_real = torch.tensor(X, dtype=torch.float, device=DEVICE)\n",
        "        y_cond = torch.tensor(y, dtype=torch.float, device=DEVICE)\n",
        "\n",
        "        # tensor to dataset\n",
        "        dataset_real = TensorDataset(X_real, y_cond)\n",
        "\n",
        "        # Turn on training\n",
        "        self.generator.train(True)\n",
        "        self.discriminator.train(True)\n",
        "\n",
        "        self.loss_history = []\n",
        "\n",
        "        # Fit GAN\n",
        "        for epoch in range(self.n_epochs):\n",
        "            for i, (real_batch, cond_batch) in enumerate(\n",
        "                DataLoader(dataset_real, batch_size=self.batch_size, shuffle=True)\n",
        "            ):\n",
        "                fake_batch = generate(self.generator, cond_batch, self.latent_dim)\n",
        "                ### YOUR CODE IS HERE ######\n",
        "                Fake_label = torch.ones(real_batch.shape[0])\n",
        "                Real_label = torch.zeros(fake_batch.shape[0])\n",
        "\n",
        "\n",
        "                real_objects_scores, gen_objects_scores = torch.split(\n",
        "                self.discriminator(torch.cat([real_batch, fake_batch], dim=0), torch.unsqueeze(torch.cat([Real_label, Fake_label]), 1)),\n",
        "                real_batch.shape[0],\n",
        "            )\n",
        "                if i == 0: \n",
        "                   # делаем шаг обучения генератора\n",
        "                    self.opt_gen.zero_grad()\n",
        "                    gen_loss = -torch.mean(self.discriminator(fake_batch, cond_batch))\n",
        "                    gen_loss.backward()\n",
        "                    self.opt_gen.step()\n",
        "                    # gen_loss_trace.append((iter_i, gen_loss.item())) # нужна ли эта строчка вообще?\n",
        "\n",
        "                elif (i % (self.n_critic+ 1)) == 0:\n",
        "                \n",
        "                    # делаем шаг обучения генератора\n",
        "                    self.opt_gen.zero_grad()\n",
        "                    gen_loss = -torch.mean(self.discriminator(fake_batch, cond_batch))\n",
        "                    gen_loss.backward()\n",
        "                    self.opt_gen.step()\n",
        "                    # gen_loss_trace.append((iter_i, gen_loss.item())) # нужна ли эта строчка вообще?\n",
        "\n",
        "                else:\n",
        "                    # делаем шаг обучения дискриминатора\n",
        "                    self.opt_disc.zero_grad()\n",
        "                    discr_loss = - torch.mean(self.discriminator(real_batch, cond_batch)) + torch.mean(self.discriminator(fake_batch, cond_batch))\n",
        "                    discr_loss.backward()\n",
        "                    self.opt_disc.step()\n",
        "                    #discr_loss_trace.append((iter_i, discr_loss.item()))\n",
        "                    for p in self.discriminator.parameters():\n",
        "                      p.data.clamp_(-0.01, 0.01)\n",
        "\n",
        "\n",
        "\n",
        "            # caiculate and store loss after an epoch\n",
        "            Z_noise = torch.normal(0, 1, (len(X_real), self.latent_dim))\n",
        "            X_fake = self.generator(Z_noise, y_cond)\n",
        "            loss_epoch = torch.mean(self.discriminator(X_real, y_cond)) - torch.mean(\n",
        "                self.discriminator(X_fake, y_cond)\n",
        "            )\n",
        "            self.loss_history.append(loss_epoch.detach().cpu())\n",
        "            \n",
        "            # Создайте выборку из 1000 объектов из X_train и 1000 сгенерированных объектов \n",
        "            # И запустите работу фукнции other_agent_score\n",
        "            \n",
        "      \n",
        "            X_fake_oas = generate(self.generator, y_cond[:1000], self.latent_dim)\n",
        "            X_real_oas = X_real[:1000]\n",
        "            y_real_oas = torch.ones(1000)\n",
        "            y_fake_oas = torch.zeros(1000)\n",
        "            other_agent_score(X_real_oas, y_real_oas, X_fake_oas, y_fake_oas) \n",
        "\n",
        "\n",
        "\n",
        "\n",
        "  \n",
        "            \n",
        "        # Turn off training\n",
        "        self.generator.train(False)\n",
        "        self.discriminator.train(False)"
      ]
    },
    {
      "cell_type": "markdown",
      "metadata": {
        "id": "lcQECFCiaRJ9"
      },
      "source": [
        "## Обучение\n",
        "Обучим модель на данных."
      ]
    },
    {
      "cell_type": "code",
      "execution_count": 25,
      "metadata": {
        "id": "delIMnnPaRJ9",
        "colab": {
          "base_uri": "https://localhost:8080/"
        },
        "outputId": "6878d513-4171-4395-a299-98bc8ca15c81"
      },
      "outputs": [
        {
          "output_type": "stream",
          "name": "stdout",
          "text": [
            "(1500,) (500,)\n",
            "Linear regression score: 0.774\n",
            "Boosting score: 0.976\n",
            "(1500,) (500,)\n",
            "Linear regression score: 0.7\n",
            "Boosting score: 0.97\n",
            "(1500,) (500,)\n",
            "Linear regression score: 0.616\n",
            "Boosting score: 0.954\n",
            "(1500,) (500,)\n",
            "Linear regression score: 0.528\n",
            "Boosting score: 0.948\n",
            "(1500,) (500,)\n",
            "Linear regression score: 0.534\n",
            "Boosting score: 0.948\n",
            "(1500,) (500,)\n",
            "Linear regression score: 0.506\n",
            "Boosting score: 0.928\n",
            "(1500,) (500,)\n",
            "Linear regression score: 0.59\n",
            "Boosting score: 0.928\n",
            "(1500,) (500,)\n",
            "Linear regression score: 0.674\n",
            "Boosting score: 0.934\n",
            "(1500,) (500,)\n",
            "Linear regression score: 0.652\n",
            "Boosting score: 0.924\n",
            "(1500,) (500,)\n",
            "Linear regression score: 0.602\n",
            "Boosting score: 0.902\n",
            "(1500,) (500,)\n",
            "Linear regression score: 0.542\n",
            "Boosting score: 0.866\n",
            "(1500,) (500,)\n",
            "Linear regression score: 0.596\n",
            "Boosting score: 0.854\n",
            "(1500,) (500,)\n",
            "Linear regression score: 0.522\n",
            "Boosting score: 0.82\n",
            "(1500,) (500,)\n",
            "Linear regression score: 0.612\n",
            "Boosting score: 0.854\n",
            "(1500,) (500,)\n",
            "Linear regression score: 0.572\n",
            "Boosting score: 0.814\n",
            "(1500,) (500,)\n",
            "Linear regression score: 0.564\n",
            "Boosting score: 0.816\n",
            "(1500,) (500,)\n",
            "Linear regression score: 0.582\n",
            "Boosting score: 0.796\n",
            "(1500,) (500,)\n",
            "Linear regression score: 0.552\n",
            "Boosting score: 0.748\n",
            "(1500,) (500,)\n",
            "Linear regression score: 0.534\n",
            "Boosting score: 0.77\n",
            "(1500,) (500,)\n",
            "Linear regression score: 0.574\n",
            "Boosting score: 0.78\n",
            "(1500,) (500,)\n",
            "Linear regression score: 0.526\n",
            "Boosting score: 0.754\n",
            "(1500,) (500,)\n",
            "Linear regression score: 0.526\n",
            "Boosting score: 0.734\n",
            "(1500,) (500,)\n",
            "Linear regression score: 0.52\n",
            "Boosting score: 0.744\n",
            "(1500,) (500,)\n",
            "Linear regression score: 0.556\n",
            "Boosting score: 0.766\n",
            "(1500,) (500,)\n",
            "Linear regression score: 0.516\n",
            "Boosting score: 0.742\n",
            "(1500,) (500,)\n",
            "Linear regression score: 0.536\n",
            "Boosting score: 0.748\n",
            "(1500,) (500,)\n",
            "Linear regression score: 0.54\n",
            "Boosting score: 0.746\n",
            "(1500,) (500,)\n",
            "Linear regression score: 0.492\n",
            "Boosting score: 0.736\n",
            "(1500,) (500,)\n",
            "Linear regression score: 0.53\n",
            "Boosting score: 0.764\n",
            "(1500,) (500,)\n",
            "Linear regression score: 0.51\n",
            "Boosting score: 0.702\n",
            "(1500,) (500,)\n",
            "Linear regression score: 0.514\n",
            "Boosting score: 0.72\n",
            "(1500,) (500,)\n",
            "Linear regression score: 0.528\n",
            "Boosting score: 0.74\n",
            "(1500,) (500,)\n",
            "Linear regression score: 0.516\n",
            "Boosting score: 0.708\n",
            "(1500,) (500,)\n",
            "Linear regression score: 0.504\n",
            "Boosting score: 0.7\n",
            "(1500,) (500,)\n",
            "Linear regression score: 0.462\n",
            "Boosting score: 0.69\n",
            "(1500,) (500,)\n",
            "Linear regression score: 0.538\n",
            "Boosting score: 0.688\n",
            "(1500,) (500,)\n",
            "Linear regression score: 0.488\n",
            "Boosting score: 0.678\n",
            "(1500,) (500,)\n",
            "Linear regression score: 0.556\n",
            "Boosting score: 0.656\n",
            "(1500,) (500,)\n",
            "Linear regression score: 0.5\n",
            "Boosting score: 0.67\n",
            "(1500,) (500,)\n",
            "Linear regression score: 0.488\n",
            "Boosting score: 0.708\n",
            "(1500,) (500,)\n",
            "Linear regression score: 0.516\n",
            "Boosting score: 0.636\n",
            "(1500,) (500,)\n",
            "Linear regression score: 0.528\n",
            "Boosting score: 0.62\n",
            "(1500,) (500,)\n",
            "Linear regression score: 0.558\n",
            "Boosting score: 0.664\n",
            "(1500,) (500,)\n",
            "Linear regression score: 0.52\n",
            "Boosting score: 0.644\n",
            "(1500,) (500,)\n",
            "Linear regression score: 0.542\n",
            "Boosting score: 0.664\n",
            "(1500,) (500,)\n",
            "Linear regression score: 0.52\n",
            "Boosting score: 0.628\n",
            "(1500,) (500,)\n",
            "Linear regression score: 0.506\n",
            "Boosting score: 0.638\n",
            "(1500,) (500,)\n",
            "Linear regression score: 0.554\n",
            "Boosting score: 0.586\n",
            "(1500,) (500,)\n",
            "Linear regression score: 0.552\n",
            "Boosting score: 0.626\n",
            "(1500,) (500,)\n",
            "Linear regression score: 0.55\n",
            "Boosting score: 0.638\n",
            "(1500,) (500,)\n",
            "Linear regression score: 0.536\n",
            "Boosting score: 0.63\n",
            "(1500,) (500,)\n",
            "Linear regression score: 0.514\n",
            "Boosting score: 0.63\n",
            "(1500,) (500,)\n",
            "Linear regression score: 0.518\n",
            "Boosting score: 0.642\n",
            "(1500,) (500,)\n",
            "Linear regression score: 0.496\n",
            "Boosting score: 0.66\n",
            "(1500,) (500,)\n",
            "Linear regression score: 0.514\n",
            "Boosting score: 0.63\n",
            "(1500,) (500,)\n",
            "Linear regression score: 0.546\n",
            "Boosting score: 0.632\n",
            "(1500,) (500,)\n",
            "Linear regression score: 0.532\n",
            "Boosting score: 0.642\n",
            "(1500,) (500,)\n",
            "Linear regression score: 0.536\n",
            "Boosting score: 0.626\n",
            "(1500,) (500,)\n",
            "Linear regression score: 0.542\n",
            "Boosting score: 0.63\n",
            "(1500,) (500,)\n",
            "Linear regression score: 0.526\n",
            "Boosting score: 0.622\n",
            "(1500,) (500,)\n",
            "Linear regression score: 0.514\n",
            "Boosting score: 0.65\n",
            "(1500,) (500,)\n",
            "Linear regression score: 0.554\n",
            "Boosting score: 0.59\n",
            "(1500,) (500,)\n",
            "Linear regression score: 0.51\n",
            "Boosting score: 0.62\n",
            "(1500,) (500,)\n",
            "Linear regression score: 0.49\n",
            "Boosting score: 0.64\n",
            "(1500,) (500,)\n",
            "Linear regression score: 0.514\n",
            "Boosting score: 0.612\n",
            "(1500,) (500,)\n",
            "Linear regression score: 0.552\n",
            "Boosting score: 0.6\n",
            "(1500,) (500,)\n",
            "Linear regression score: 0.518\n",
            "Boosting score: 0.612\n",
            "(1500,) (500,)\n",
            "Linear regression score: 0.476\n",
            "Boosting score: 0.61\n",
            "(1500,) (500,)\n",
            "Linear regression score: 0.514\n",
            "Boosting score: 0.606\n",
            "(1500,) (500,)\n",
            "Linear regression score: 0.538\n",
            "Boosting score: 0.63\n",
            "(1500,) (500,)\n",
            "Linear regression score: 0.548\n",
            "Boosting score: 0.576\n",
            "(1500,) (500,)\n",
            "Linear regression score: 0.5\n",
            "Boosting score: 0.574\n",
            "(1500,) (500,)\n",
            "Linear regression score: 0.552\n",
            "Boosting score: 0.612\n",
            "(1500,) (500,)\n",
            "Linear regression score: 0.5\n",
            "Boosting score: 0.574\n",
            "(1500,) (500,)\n",
            "Linear regression score: 0.5\n",
            "Boosting score: 0.57\n",
            "(1500,) (500,)\n",
            "Linear regression score: 0.534\n",
            "Boosting score: 0.596\n",
            "(1500,) (500,)\n",
            "Linear regression score: 0.466\n",
            "Boosting score: 0.602\n",
            "(1500,) (500,)\n",
            "Linear regression score: 0.56\n",
            "Boosting score: 0.61\n",
            "(1500,) (500,)\n",
            "Linear regression score: 0.498\n",
            "Boosting score: 0.6\n",
            "(1500,) (500,)\n",
            "Linear regression score: 0.492\n",
            "Boosting score: 0.588\n",
            "(1500,) (500,)\n",
            "Linear regression score: 0.546\n",
            "Boosting score: 0.606\n",
            "(1500,) (500,)\n",
            "Linear regression score: 0.526\n",
            "Boosting score: 0.648\n",
            "(1500,) (500,)\n",
            "Linear regression score: 0.48\n",
            "Boosting score: 0.616\n",
            "(1500,) (500,)\n",
            "Linear regression score: 0.568\n",
            "Boosting score: 0.58\n",
            "(1500,) (500,)\n",
            "Linear regression score: 0.51\n",
            "Boosting score: 0.554\n",
            "(1500,) (500,)\n",
            "Linear regression score: 0.586\n",
            "Boosting score: 0.652\n",
            "(1500,) (500,)\n",
            "Linear regression score: 0.494\n",
            "Boosting score: 0.622\n",
            "(1500,) (500,)\n",
            "Linear regression score: 0.496\n",
            "Boosting score: 0.602\n",
            "(1500,) (500,)\n",
            "Linear regression score: 0.5\n",
            "Boosting score: 0.592\n",
            "(1500,) (500,)\n",
            "Linear regression score: 0.542\n",
            "Boosting score: 0.568\n",
            "(1500,) (500,)\n",
            "Linear regression score: 0.536\n",
            "Boosting score: 0.608\n",
            "(1500,) (500,)\n",
            "Linear regression score: 0.464\n",
            "Boosting score: 0.568\n",
            "(1500,) (500,)\n",
            "Linear regression score: 0.528\n",
            "Boosting score: 0.596\n",
            "(1500,) (500,)\n",
            "Linear regression score: 0.528\n",
            "Boosting score: 0.604\n",
            "(1500,) (500,)\n",
            "Linear regression score: 0.5\n",
            "Boosting score: 0.598\n",
            "(1500,) (500,)\n",
            "Linear regression score: 0.578\n",
            "Boosting score: 0.56\n",
            "(1500,) (500,)\n",
            "Linear regression score: 0.504\n",
            "Boosting score: 0.566\n",
            "(1500,) (500,)\n",
            "Linear regression score: 0.476\n",
            "Boosting score: 0.572\n",
            "(1500,) (500,)\n",
            "Linear regression score: 0.566\n",
            "Boosting score: 0.574\n",
            "(1500,) (500,)\n",
            "Linear regression score: 0.484\n",
            "Boosting score: 0.574\n",
            "CPU times: user 1min 59s, sys: 11.3 s, total: 2min 10s\n",
            "Wall time: 2min 7s\n"
          ]
        }
      ],
      "source": [
        "%%time\n",
        "latent_dim = 10\n",
        "generator = Generator(n_inputs=latent_dim + y.shape[1], n_outputs=X_train.shape[1])\n",
        "discriminator = Discriminator(n_inputs=X_train.shape[1] + y.shape[1])\n",
        "\n",
        "fitter = Fitter(\n",
        "    generator,\n",
        "    discriminator,\n",
        "    batch_size=50,\n",
        "    n_epochs=100,\n",
        "    latent_dim=latent_dim,\n",
        "    lr=0.0001,\n",
        "    n_critic=5,\n",
        ")\n",
        "fitter.fit(X_train, y_train)"
      ]
    },
    {
      "cell_type": "code",
      "execution_count": 26,
      "metadata": {
        "id": "5gxx23TyaRJ-",
        "colab": {
          "base_uri": "https://localhost:8080/",
          "height": 414
        },
        "outputId": "f06dfaf3-e8d6-4cc6-db73-32071afb02b4"
      },
      "outputs": [
        {
          "output_type": "stream",
          "name": "stderr",
          "text": [
            "<ipython-input-26-684ea810ad15>:9: MatplotlibDeprecationWarning: The 'b' parameter of grid() has been renamed 'visible' since Matplotlib 3.5; support for the old name will be dropped two minor releases later.\n",
            "  plt.grid(b=1, linestyle=\"--\", linewidth=0.5, color=\"0.5\")\n"
          ]
        },
        {
          "output_type": "display_data",
          "data": {
            "text/plain": [
              "<Figure size 648x360 with 1 Axes>"
            ],
            "image/png": "[encoded data removed]"
          },
          "metadata": {
            "needs_background": "light"
          }
        }
      ],
      "source": [
        "# WGAN learning curve\n",
        "plt.figure(figsize=(9, 5))\n",
        "plt.plot(fitter.loss_history)\n",
        "plt.xlabel(\"Epoch Number\", size=14)\n",
        "plt.ylabel(\"Loss Function\", size=14)\n",
        "plt.xticks(size=14)\n",
        "plt.yticks(size=14)\n",
        "plt.title(\"Conditional WGAN Learning Curve\", size=14)\n",
        "plt.grid(b=1, linestyle=\"--\", linewidth=0.5, color=\"0.5\")\n",
        "plt.show()"
      ]
    },
    {
      "cell_type": "markdown",
      "metadata": {
        "id": "G10yLEqvaRJ-"
      },
      "source": [
        "## Задание 8 (0.5 балла)"
      ]
    },
    {
      "cell_type": "markdown",
      "metadata": {
        "id": "U63D2PvoaRJ-"
      },
      "source": [
        "Теперь сгенерируем фейковые матрицы `X_fake_train` и `X_fake_test`. Сравним их с матрицами реальных объектов `X_train` и `X_test`. Перед сравнением результатов сделайте обратное квантильное преобразование с помощью трансформера, который вы обучили в задании 2."
      ]
    },
    {
      "cell_type": "code",
      "execution_count": 27,
      "metadata": {
        "id": "yG2Ww1OIaRJ_"
      },
      "outputs": [],
      "source": [
        "X_train_inversed = qt.inverse_transform(X_train)\n",
        "X_test_inversed = qt.inverse_transform(X_test)"
      ]
    },
    {
      "cell_type": "code",
      "execution_count": 28,
      "metadata": {
        "id": "sTZpfXVHaRJ_"
      },
      "outputs": [],
      "source": [
        "\n",
        "\n",
        "\n",
        "X_fake_train = generate(fitter.generator, torch.tensor(y_train, dtype=torch.float), latent_dim)"
      ]
    },
    {
      "cell_type": "code",
      "source": [
        "\n",
        "X_fake_train = X_fake_train.detach().numpy()\n",
        "X_fake_train_inversed = qt.inverse_transform(X_fake_train)"
      ],
      "metadata": {
        "id": "1hsXxXdgpPcC"
      },
      "execution_count": 29,
      "outputs": []
    },
    {
      "cell_type": "code",
      "execution_count": 30,
      "metadata": {
        "id": "PyYcZ6YlaRJ_",
        "colab": {
          "base_uri": "https://localhost:8080/",
          "height": 729
        },
        "outputId": "3032be79-90db-4bc3-f8a7-cb94ab81acaf"
      },
      "outputs": [
        {
          "output_type": "display_data",
          "data": {
            "text/plain": [
              "<Figure size 1440x720 with 10 Axes>"
            ],
            "image/png": "[encoded data removed]"
          },
          "metadata": {
            "needs_background": "light"
          }
        }
      ],
      "source": [
        "plot_hists(X_train_inversed, X_fake_train_inversed, names, label1=\"Real\", label2=\"Fake\", bins=50)"
      ]
    },
    {
      "cell_type": "code",
      "execution_count": 31,
      "metadata": {
        "id": "3A3wJeZKaRJ_"
      },
      "outputs": [],
      "source": [
        "X_fake_test = generate(fitter.generator, torch.tensor(y_test, dtype=torch.float), latent_dim)\n",
        "X_fake_test = X_fake_test.detach().numpy()\n",
        "X_fake_test_inversed = qt.inverse_transform(X_fake_test)"
      ]
    },
    {
      "cell_type": "code",
      "execution_count": 32,
      "metadata": {
        "id": "UPfMkUpjaRKA",
        "colab": {
          "base_uri": "https://localhost:8080/",
          "height": 729
        },
        "outputId": "5ae66083-1679-4b8e-9cdc-0a5b5a7b1460"
      },
      "outputs": [
        {
          "output_type": "display_data",
          "data": {
            "text/plain": [
              "<Figure size 1440x720 with 10 Axes>"
            ],
            "image/png": "[encoded data removed]"
          },
          "metadata": {
            "needs_background": "light"
          }
        }
      ],
      "source": [
        "plot_hists(X_test_inversed, X_fake_test_inversed, names, label1=\"Real\", label2=\"Fake\", bins=50)"
      ]
    },
    {
      "cell_type": "markdown",
      "metadata": {
        "id": "LZIVTLZ5aRKA"
      },
      "source": [
        "## Вывод: \n",
        "Визуально мы видим сходство реальных и фейковых данных. Однако это только проекции 10-мерных объектов на одну ось."
      ]
    },
    {
      "cell_type": "markdown",
      "metadata": {
        "id": "QiBZKgp-aRKA"
      },
      "source": [
        "# Измерение качества генерации\n",
        "\n",
        "<center><img src=\"img/clf.png\" width=\"600\"></center>\n",
        "\n",
        "Измерим сходство распределений классификатором."
      ]
    },
    {
      "cell_type": "code",
      "execution_count": 33,
      "metadata": {
        "id": "vEutf9v7aRKA"
      },
      "outputs": [],
      "source": [
        "# собираем реальный и фейковые матрицы в одну\n",
        "XX_train = np.concatenate((X_fake_train, X_train), axis=0)\n",
        "XX_test = np.concatenate((X_fake_test, X_test), axis=0)\n",
        "\n",
        "yy_train = np.array([0] * len(X_fake_train) + [1] * len(X_train))\n",
        "yy_test = np.array([0] * len(X_fake_test) + [1] * len(X_test))"
      ]
    },
    {
      "cell_type": "code",
      "execution_count": 34,
      "metadata": {
        "id": "iwhkYMWFaRKB"
      },
      "outputs": [],
      "source": [
        "from sklearn.ensemble import GradientBoostingClassifier\n",
        "\n",
        "# обучаем классификатор\n",
        "clf = GradientBoostingClassifier()\n",
        "clf.fit(XX_train, yy_train)\n",
        "\n",
        "# получаем прогнозы\n",
        "yy_test_proba = clf.predict_proba(XX_test)[:, 1]"
      ]
    },
    {
      "cell_type": "code",
      "execution_count": 35,
      "metadata": {
        "id": "WhnSXWspaRKB",
        "colab": {
          "base_uri": "https://localhost:8080/"
        },
        "outputId": "d5fe6baa-f4ed-4b5d-cb8b-6aeb56737514"
      },
      "outputs": [
        {
          "output_type": "stream",
          "name": "stdout",
          "text": [
            "ROC AUC =  0.689181391882583\n"
          ]
        }
      ],
      "source": [
        "from sklearn.metrics import roc_auc_score\n",
        "\n",
        "auc = roc_auc_score(yy_test, yy_test_proba)\n",
        "print(\"ROC AUC = \", auc)"
      ]
    },
    {
      "cell_type": "markdown",
      "metadata": {
        "id": "5lt49gfjaRKC"
      },
      "source": [
        "## Задание 9 (0.5 балла)\n",
        "\n",
        "Опишите ваш эксперимент. Как вы оцениваете полученные результаты? Как вы думаете, какое значение ROC AUC нас удовлетворяет больше всего? Почему?\n"
      ]
    },
    {
      "cell_type": "markdown",
      "source": [
        "Эксперимент показал очень хорошие результаты судя по графикам - наши полученные распределения почти идентичны с исходными. Accuracy падает, что значит, что мы постепенно учим все лучший генератор.\n",
        "\n",
        "Наша цель - генерить хорошие картинки, которые дискриминатор не сможет отличить от реальных, поэтому нам нужен аук рок около 0.5, тогда классификатор будет отличать картинки не лучше чем просто рандомо наугад."
      ],
      "metadata": {
        "id": "RLKm-DA37dsq"
      }
    },
    {
      "cell_type": "markdown",
      "metadata": {
        "id": "eaJmbzrVaRKC"
      },
      "source": [
        "## Диффузионные модели.\n",
        "\n",
        "Давайте теперь проведем такой же экперимент с простой диффузионной моделью."
      ]
    },
    {
      "cell_type": "markdown",
      "metadata": {
        "id": "KsirO0onaRKC"
      },
      "source": [
        "## Задание 10 (0.5 балла)\n",
        "\n",
        "Реализуйте фукнцию из семинара для зашумления данных, адаптировав ее под наш тип данных."
      ]
    },
    {
      "cell_type": "code",
      "execution_count": 34,
      "metadata": {
        "id": "WFgTJgDFaRKC"
      },
      "outputs": [],
      "source": [
        "def corrupt(x, amount): # x должен подаваться как tensor torch.tensor(x)\n",
        "    noise = torch.rand_like(x)\n",
        "    amount = amount.view(-1, 1)\n",
        "    x =  x * (1 - amount) + noise * amount\n",
        "    return x"
      ]
    },
    {
      "cell_type": "markdown",
      "source": [],
      "metadata": {
        "id": "m_QLVyru98Qz"
      }
    },
    {
      "cell_type": "markdown",
      "metadata": {
        "id": "25xfsO07aRKD"
      },
      "source": [
        "## Добавим sсheduler, он пригодится вам при обучении модели"
      ]
    },
    {
      "cell_type": "code",
      "source": [
        "!pip install diffusers"
      ],
      "metadata": {
        "colab": {
          "base_uri": "https://localhost:8080/"
        },
        "id": "AGc-FZWhFZIP",
        "outputId": "226f8403-3ccd-4910-91a7-8afefb699e46"
      },
      "execution_count": 20,
      "outputs": [
        {
          "output_type": "stream",
          "name": "stdout",
          "text": [
            "Looking in indexes: https://pypi.org/simple, https://us-python.pkg.dev/colab-wheels/public/simple/\n",
            "Requirement already satisfied: diffusers in /usr/local/lib/python3.8/dist-packages (0.13.1)\n",
            "Requirement already satisfied: Pillow in /usr/local/lib/python3.8/dist-packages (from diffusers) (8.4.0)\n",
            "Requirement already satisfied: regex!=2019.12.17 in /usr/local/lib/python3.8/dist-packages (from diffusers) (2022.6.2)\n",
            "Requirement already satisfied: requests in /usr/local/lib/python3.8/dist-packages (from diffusers) (2.25.1)\n",
            "Requirement already satisfied: importlib-metadata in /usr/local/lib/python3.8/dist-packages (from diffusers) (6.0.0)\n",
            "Requirement already satisfied: filelock in /usr/local/lib/python3.8/dist-packages (from diffusers) (3.9.0)\n",
            "Requirement already satisfied: huggingface-hub>=0.10.0 in /usr/local/lib/python3.8/dist-packages (from diffusers) (0.12.1)\n",
            "Requirement already satisfied: numpy in /usr/local/lib/python3.8/dist-packages (from diffusers) (1.22.4)\n",
            "Requirement already satisfied: tqdm>=4.42.1 in /usr/local/lib/python3.8/dist-packages (from huggingface-hub>=0.10.0->diffusers) (4.64.1)\n",
            "Requirement already satisfied: packaging>=20.9 in /usr/local/lib/python3.8/dist-packages (from huggingface-hub>=0.10.0->diffusers) (23.0)\n",
            "Requirement already satisfied: typing-extensions>=3.7.4.3 in /usr/local/lib/python3.8/dist-packages (from huggingface-hub>=0.10.0->diffusers) (4.5.0)\n",
            "Requirement already satisfied: pyyaml>=5.1 in /usr/local/lib/python3.8/dist-packages (from huggingface-hub>=0.10.0->diffusers) (6.0)\n",
            "Requirement already satisfied: zipp>=0.5 in /usr/local/lib/python3.8/dist-packages (from importlib-metadata->diffusers) (3.15.0)\n",
            "Requirement already satisfied: idna<3,>=2.5 in /usr/local/lib/python3.8/dist-packages (from requests->diffusers) (2.10)\n",
            "Requirement already satisfied: chardet<5,>=3.0.2 in /usr/local/lib/python3.8/dist-packages (from requests->diffusers) (4.0.0)\n",
            "Requirement already satisfied: certifi>=2017.4.17 in /usr/local/lib/python3.8/dist-packages (from requests->diffusers) (2022.12.7)\n",
            "Requirement already satisfied: urllib3<1.27,>=1.21.1 in /usr/local/lib/python3.8/dist-packages (from requests->diffusers) (1.26.14)\n"
          ]
        }
      ]
    },
    {
      "cell_type": "code",
      "source": [
        "\n",
        "from diffusers import DDPMScheduler, UNet2DModel"
      ],
      "metadata": {
        "id": "lGVkV33zFt7u"
      },
      "execution_count": 21,
      "outputs": []
    },
    {
      "cell_type": "code",
      "execution_count": 22,
      "metadata": {
        "id": "LY9e6F2naRKD",
        "colab": {
          "base_uri": "https://localhost:8080/",
          "height": 282
        },
        "outputId": "598b7285-4fc9-4bdb-e512-4e16020f775b"
      },
      "outputs": [
        {
          "output_type": "execute_result",
          "data": {
            "text/plain": [
              "<matplotlib.legend.Legend at 0x7fbdfcc6e9a0>"
            ]
          },
          "metadata": {},
          "execution_count": 22
        },
        {
          "output_type": "display_data",
          "data": {
            "text/plain": [
              "<Figure size 432x288 with 1 Axes>"
            ],
            "image/png": "[encoded data removed]"
          },
          "metadata": {
            "needs_background": "light"
          }
        }
      ],
      "source": [
        "\n",
        "noise_scheduler = DDPMScheduler(num_train_timesteps=1000, clip_sample_range=3)\n",
        "plt.plot(noise_scheduler.alphas_cumprod.cpu() ** 0.5, label=r\"${\\sqrt{\\bar{\\alpha}_t}}$\")\n",
        "plt.plot((1 - noise_scheduler.alphas_cumprod.cpu()) ** 0.5, label=r\"$\\sqrt{(1 - \\bar{\\alpha}_t)}$\")\n",
        "plt.legend(fontsize=\"x-large\")"
      ]
    },
    {
      "cell_type": "markdown",
      "metadata": {
        "id": "_Kq9uqi3aRKD"
      },
      "source": [
        "## Задание 11 (0.5 балла)\n",
        "\n",
        "Реализуйте нейронную сеть. В качетсве архитектуры можете взять модель генератора. В процессе экспериментов попробуйте изменять архитектуру модели для улучшения качества сгенерированных объектов (Кстати, как вы будете качество измерять?). \n",
        "\n",
        "- Полносвязный слой со 100 нейронами;\n",
        "- Слой батч-нормализации;\n",
        "- ReLU функцию активации;\n",
        "- Полносвязный слой со 100 нейронами;\n",
        "- Слой батч-нормализации;\n",
        "- ReLU функцию активации;\n",
        "- Выходной слой."
      ]
    },
    {
      "cell_type": "code",
      "execution_count": 23,
      "metadata": {
        "id": "lpGdRvTRaRKE"
      },
      "outputs": [],
      "source": [
        "\n",
        "class DiffusionGenerator(nn.Module):\n",
        "    def __init__(self, n_inputs, n_outputs):\n",
        "        super(DiffusionGenerator, self).__init__()\n",
        "\n",
        "        self.n_inputs = n_inputs\n",
        "        self.n_outputs = n_outputs\n",
        "\n",
        "        self.net = nn.Sequential(\n",
        "            nn.Linear(self.n_inputs, 100), \n",
        "            nn.BatchNorm1d(100),\n",
        "            nn.ReLU(),\n",
        "            nn.Linear(100, 100), \n",
        "            nn.BatchNorm1d(100),\n",
        "            nn.ReLU(),\n",
        "            nn.Linear(100, self.n_outputs)\n",
        "\n",
        "        )\n",
        "\n",
        "    def forward(self, z, y):\n",
        "        zy = torch.cat((z, y), dim=1)\n",
        "        return self.net(zy)"
      ]
    },
    {
      "cell_type": "code",
      "source": [],
      "metadata": {
        "id": "LVdhVqJNTEDO"
      },
      "execution_count": 23,
      "outputs": []
    },
    {
      "cell_type": "markdown",
      "metadata": {
        "id": "1wiacR3GaRKE"
      },
      "source": [
        "## Задание 12 (0.5 балла)\n",
        "\n",
        "Напишите функцию для генерации нового объекта с помощью обученной модели."
      ]
    },
    {
      "cell_type": "code",
      "source": [
        "from tqdm import tqdm"
      ],
      "metadata": {
        "id": "9wSe-DN5QMoq"
      },
      "execution_count": 24,
      "outputs": []
    },
    {
      "cell_type": "code",
      "execution_count": 25,
      "metadata": {
        "id": "vLT7BVpmaRKE"
      },
      "outputs": [],
      "source": [
        "def generate_with_diffusion(model, y, latent_dim, scheduler):\n",
        "    ### YOUR CODE IS HERE ######\n",
        "    X_fake = torch.randn(y.shape[0], latent_dim)\n",
        "    for i, t in tqdm(enumerate(noise_scheduler.timesteps)):\n",
        "\n",
        "      # Get model pred\n",
        "      with torch.no_grad():\n",
        "          residual = model.forward(X_fake, y)  \n",
        "\n",
        "      # Update sample with step\n",
        "      X_fake = noise_scheduler.step(residual, t, X_fake).prev_sample\n",
        "    ### THE END OF YOUR CODE ###\n",
        "    return X_fake  # numpy"
      ]
    },
    {
      "cell_type": "markdown",
      "metadata": {
        "id": "kD0Dj1ggaRKF"
      },
      "source": [
        "## Задание 13 (2 балла)\n",
        "\n",
        "Напишите класс обучения диффузионной модели и обучите модель, после чего опишите полученные результаты. В качестве подсказки - опирайтесь на семинар по диффузионным моделям. Вы можете изменять некоторые части кода для вашего удобства, но оставляйте в таком случаи комментарии, пожалуйста."
      ]
    },
    {
      "cell_type": "code",
      "execution_count": 35,
      "metadata": {
        "id": "0H40P8-OaRKF"
      },
      "outputs": [],
      "source": [
        "class DiffusionFitter(object):\n",
        "    def __init__(\n",
        "        self,\n",
        "        model,\n",
        "        batch_size = 32,\n",
        "        n_epochs = 10,\n",
        "        latent_dim = 1,\n",
        "        lr = 0.0001,\n",
        "        n_critic=5,\n",
        "        \n",
        "    ):\n",
        "\n",
        "        self.model = model\n",
        "        self.batch_size = batch_size\n",
        "        self.n_epochs = n_epochs\n",
        "        self.latent_dim = latent_dim\n",
        "        self.lr = lr\n",
        "        self.n_critic = n_critic\n",
        "\n",
        "        self.opt_gen = torch.optim.RMSprop(self.model.parameters(), lr=self.lr)\n",
        "\n",
        "        self.model.to(DEVICE)\n",
        "\n",
        "    def fit(self, X, y):\n",
        "\n",
        "        # numpy to tensor\n",
        "        X_real = torch.tensor(X, dtype=torch.float, device=DEVICE)\n",
        "        y_cond = torch.tensor(y, dtype=torch.float, device=DEVICE)\n",
        "\n",
        "        # tensor to dataset\n",
        "        dataset_real = TensorDataset(X_real, y_cond)\n",
        "\n",
        "        # Turn on training\n",
        "        self.model.train(True)\n",
        "\n",
        "        self.loss_history = []\n",
        "        loss_fn = nn.MSELoss()\n",
        "        # Fit GAN\n",
        "        for epoch in range(self.n_epochs):\n",
        "            loss_epoch = 0\n",
        "            j = 0\n",
        "            for i, (real_batch, cond_batch) in enumerate(\n",
        "                DataLoader(dataset_real, batch_size=self.batch_size, shuffle=True)\n",
        "            ):\n",
        "\n",
        "                ### YOUR CODE IS HERE ######\n",
        "                noise = torch.randn_like(real_batch)\n",
        "                timesteps = torch.randint(0, 999, (real_batch.shape[0],)).long()\n",
        "                noisy_x = noise_scheduler.add_noise(real_batch, noise, timesteps)\n",
        "\n",
        "                pred = self.model.forward(noisy_x, cond_batch)\n",
        "\n",
        "                loss = loss_fn(pred, noise)\n",
        "\n",
        "                self.opt_gen.zero_grad()\n",
        "                loss.backward()\n",
        "                self.opt_gen.step()\n",
        "                \n",
        "                loss_epoch += loss\n",
        "                j+= 1\n",
        "            loss_epoch = loss_epoch/j\n",
        "                \n",
        "                \n",
        "                ### THE END OF YOUR CODE ###\n",
        "            self.model.train(False)\n",
        "\n",
        "            # caiculate and store loss after an epoch\n",
        "            \n",
        "            self.loss_history.append(loss_epoch.detach().numpy())\n",
        "            \n",
        "            # Создайте выборку из 1000 объектов из X_train и 1000 сгенерированных объектов \n",
        "            # И запустите работу фукнции other_agent_score\n",
        "            \n",
        "            ### YOUR CODE IS HERE ######\n",
        "            X_fake_oas = generate_with_diffusion(self.model, y_cond[:1000], self.latent_dim, noise_scheduler)\n",
        "            X_real_oas = X_real[:1000]\n",
        "            y_real_oas = torch.ones(1000)\n",
        "            y_fake_oas = torch.zeros(1000)\n",
        "            other_agent_score(X_real_oas, y_real_oas, torch.tensor(X_fake_oas), y_fake_oas) \n",
        "\n",
        "            ### THE END OF YOUR CODE ###\n",
        "            \n",
        "        # Turn off training\n",
        "        self.model.train(False)"
      ]
    },
    {
      "cell_type": "code",
      "execution_count": 36,
      "metadata": {
        "id": "0EYpc2nuaRKG",
        "colab": {
          "base_uri": "https://localhost:8080/"
        },
        "outputId": "c1204857-c1a8-47c0-f3cc-a6809053ff5b"
      },
      "outputs": [
        {
          "output_type": "stream",
          "name": "stderr",
          "text": [
            "1000it [00:02, 374.35it/s]\n",
            "<ipython-input-35-fba26882c2f2>:79: UserWarning: To copy construct from a tensor, it is recommended to use sourceTensor.clone().detach() or sourceTensor.clone().detach().requires_grad_(True), rather than torch.tensor(sourceTensor).\n",
            "  other_agent_score(X_real_oas, y_real_oas, torch.tensor(X_fake_oas), y_fake_oas)\n"
          ]
        },
        {
          "output_type": "stream",
          "name": "stdout",
          "text": [
            "(1500,) (500,)\n",
            "Linear regression score: 0.608\n",
            "Boosting score: 0.918\n"
          ]
        },
        {
          "output_type": "stream",
          "name": "stderr",
          "text": [
            "1000it [00:01, 589.39it/s]\n",
            "<ipython-input-35-fba26882c2f2>:79: UserWarning: To copy construct from a tensor, it is recommended to use sourceTensor.clone().detach() or sourceTensor.clone().detach().requires_grad_(True), rather than torch.tensor(sourceTensor).\n",
            "  other_agent_score(X_real_oas, y_real_oas, torch.tensor(X_fake_oas), y_fake_oas)\n"
          ]
        },
        {
          "output_type": "stream",
          "name": "stdout",
          "text": [
            "(1500,) (500,)\n",
            "Linear regression score: 0.618\n",
            "Boosting score: 0.796\n"
          ]
        },
        {
          "output_type": "stream",
          "name": "stderr",
          "text": [
            "1000it [00:01, 582.23it/s]\n",
            "<ipython-input-35-fba26882c2f2>:79: UserWarning: To copy construct from a tensor, it is recommended to use sourceTensor.clone().detach() or sourceTensor.clone().detach().requires_grad_(True), rather than torch.tensor(sourceTensor).\n",
            "  other_agent_score(X_real_oas, y_real_oas, torch.tensor(X_fake_oas), y_fake_oas)\n"
          ]
        },
        {
          "output_type": "stream",
          "name": "stdout",
          "text": [
            "(1500,) (500,)\n",
            "Linear regression score: 0.528\n",
            "Boosting score: 0.774\n"
          ]
        },
        {
          "output_type": "stream",
          "name": "stderr",
          "text": [
            "1000it [00:01, 581.39it/s]\n",
            "<ipython-input-35-fba26882c2f2>:79: UserWarning: To copy construct from a tensor, it is recommended to use sourceTensor.clone().detach() or sourceTensor.clone().detach().requires_grad_(True), rather than torch.tensor(sourceTensor).\n",
            "  other_agent_score(X_real_oas, y_real_oas, torch.tensor(X_fake_oas), y_fake_oas)\n"
          ]
        },
        {
          "output_type": "stream",
          "name": "stdout",
          "text": [
            "(1500,) (500,)\n",
            "Linear regression score: 0.566\n",
            "Boosting score: 0.764\n"
          ]
        },
        {
          "output_type": "stream",
          "name": "stderr",
          "text": [
            "1000it [00:01, 509.71it/s]\n",
            "<ipython-input-35-fba26882c2f2>:79: UserWarning: To copy construct from a tensor, it is recommended to use sourceTensor.clone().detach() or sourceTensor.clone().detach().requires_grad_(True), rather than torch.tensor(sourceTensor).\n",
            "  other_agent_score(X_real_oas, y_real_oas, torch.tensor(X_fake_oas), y_fake_oas)\n"
          ]
        },
        {
          "output_type": "stream",
          "name": "stdout",
          "text": [
            "(1500,) (500,)\n",
            "Linear regression score: 0.562\n",
            "Boosting score: 0.756\n"
          ]
        },
        {
          "output_type": "stream",
          "name": "stderr",
          "text": [
            "1000it [00:02, 468.21it/s]\n",
            "<ipython-input-35-fba26882c2f2>:79: UserWarning: To copy construct from a tensor, it is recommended to use sourceTensor.clone().detach() or sourceTensor.clone().detach().requires_grad_(True), rather than torch.tensor(sourceTensor).\n",
            "  other_agent_score(X_real_oas, y_real_oas, torch.tensor(X_fake_oas), y_fake_oas)\n"
          ]
        },
        {
          "output_type": "stream",
          "name": "stdout",
          "text": [
            "(1500,) (500,)\n",
            "Linear regression score: 0.536\n",
            "Boosting score: 0.736\n"
          ]
        },
        {
          "output_type": "stream",
          "name": "stderr",
          "text": [
            "1000it [00:01, 609.61it/s]\n",
            "<ipython-input-35-fba26882c2f2>:79: UserWarning: To copy construct from a tensor, it is recommended to use sourceTensor.clone().detach() or sourceTensor.clone().detach().requires_grad_(True), rather than torch.tensor(sourceTensor).\n",
            "  other_agent_score(X_real_oas, y_real_oas, torch.tensor(X_fake_oas), y_fake_oas)\n"
          ]
        },
        {
          "output_type": "stream",
          "name": "stdout",
          "text": [
            "(1500,) (500,)\n",
            "Linear regression score: 0.554\n",
            "Boosting score: 0.73\n"
          ]
        },
        {
          "output_type": "stream",
          "name": "stderr",
          "text": [
            "1000it [00:01, 605.52it/s]\n",
            "<ipython-input-35-fba26882c2f2>:79: UserWarning: To copy construct from a tensor, it is recommended to use sourceTensor.clone().detach() or sourceTensor.clone().detach().requires_grad_(True), rather than torch.tensor(sourceTensor).\n",
            "  other_agent_score(X_real_oas, y_real_oas, torch.tensor(X_fake_oas), y_fake_oas)\n"
          ]
        },
        {
          "output_type": "stream",
          "name": "stdout",
          "text": [
            "(1500,) (500,)\n",
            "Linear regression score: 0.536\n",
            "Boosting score: 0.74\n"
          ]
        },
        {
          "output_type": "stream",
          "name": "stderr",
          "text": [
            "1000it [00:01, 572.74it/s]\n",
            "<ipython-input-35-fba26882c2f2>:79: UserWarning: To copy construct from a tensor, it is recommended to use sourceTensor.clone().detach() or sourceTensor.clone().detach().requires_grad_(True), rather than torch.tensor(sourceTensor).\n",
            "  other_agent_score(X_real_oas, y_real_oas, torch.tensor(X_fake_oas), y_fake_oas)\n"
          ]
        },
        {
          "output_type": "stream",
          "name": "stdout",
          "text": [
            "(1500,) (500,)\n",
            "Linear regression score: 0.592\n",
            "Boosting score: 0.716\n"
          ]
        },
        {
          "output_type": "stream",
          "name": "stderr",
          "text": [
            "1000it [00:02, 458.98it/s]\n",
            "<ipython-input-35-fba26882c2f2>:79: UserWarning: To copy construct from a tensor, it is recommended to use sourceTensor.clone().detach() or sourceTensor.clone().detach().requires_grad_(True), rather than torch.tensor(sourceTensor).\n",
            "  other_agent_score(X_real_oas, y_real_oas, torch.tensor(X_fake_oas), y_fake_oas)\n"
          ]
        },
        {
          "output_type": "stream",
          "name": "stdout",
          "text": [
            "(1500,) (500,)\n",
            "Linear regression score: 0.528\n",
            "Boosting score: 0.75\n"
          ]
        },
        {
          "output_type": "stream",
          "name": "stderr",
          "text": [
            "1000it [00:01, 558.30it/s]\n",
            "<ipython-input-35-fba26882c2f2>:79: UserWarning: To copy construct from a tensor, it is recommended to use sourceTensor.clone().detach() or sourceTensor.clone().detach().requires_grad_(True), rather than torch.tensor(sourceTensor).\n",
            "  other_agent_score(X_real_oas, y_real_oas, torch.tensor(X_fake_oas), y_fake_oas)\n"
          ]
        },
        {
          "output_type": "stream",
          "name": "stdout",
          "text": [
            "(1500,) (500,)\n",
            "Linear regression score: 0.546\n",
            "Boosting score: 0.756\n"
          ]
        },
        {
          "output_type": "stream",
          "name": "stderr",
          "text": [
            "1000it [00:01, 576.31it/s]\n",
            "<ipython-input-35-fba26882c2f2>:79: UserWarning: To copy construct from a tensor, it is recommended to use sourceTensor.clone().detach() or sourceTensor.clone().detach().requires_grad_(True), rather than torch.tensor(sourceTensor).\n",
            "  other_agent_score(X_real_oas, y_real_oas, torch.tensor(X_fake_oas), y_fake_oas)\n"
          ]
        },
        {
          "output_type": "stream",
          "name": "stdout",
          "text": [
            "(1500,) (500,)\n",
            "Linear regression score: 0.526\n",
            "Boosting score: 0.728\n"
          ]
        },
        {
          "output_type": "stream",
          "name": "stderr",
          "text": [
            "1000it [00:01, 584.35it/s]\n",
            "<ipython-input-35-fba26882c2f2>:79: UserWarning: To copy construct from a tensor, it is recommended to use sourceTensor.clone().detach() or sourceTensor.clone().detach().requires_grad_(True), rather than torch.tensor(sourceTensor).\n",
            "  other_agent_score(X_real_oas, y_real_oas, torch.tensor(X_fake_oas), y_fake_oas)\n"
          ]
        },
        {
          "output_type": "stream",
          "name": "stdout",
          "text": [
            "(1500,) (500,)\n",
            "Linear regression score: 0.526\n",
            "Boosting score: 0.758\n"
          ]
        },
        {
          "output_type": "stream",
          "name": "stderr",
          "text": [
            "1000it [00:01, 562.02it/s]\n",
            "<ipython-input-35-fba26882c2f2>:79: UserWarning: To copy construct from a tensor, it is recommended to use sourceTensor.clone().detach() or sourceTensor.clone().detach().requires_grad_(True), rather than torch.tensor(sourceTensor).\n",
            "  other_agent_score(X_real_oas, y_real_oas, torch.tensor(X_fake_oas), y_fake_oas)\n"
          ]
        },
        {
          "output_type": "stream",
          "name": "stdout",
          "text": [
            "(1500,) (500,)\n",
            "Linear regression score: 0.52\n",
            "Boosting score: 0.72\n"
          ]
        },
        {
          "output_type": "stream",
          "name": "stderr",
          "text": [
            "1000it [00:02, 376.04it/s]\n",
            "<ipython-input-35-fba26882c2f2>:79: UserWarning: To copy construct from a tensor, it is recommended to use sourceTensor.clone().detach() or sourceTensor.clone().detach().requires_grad_(True), rather than torch.tensor(sourceTensor).\n",
            "  other_agent_score(X_real_oas, y_real_oas, torch.tensor(X_fake_oas), y_fake_oas)\n"
          ]
        },
        {
          "output_type": "stream",
          "name": "stdout",
          "text": [
            "(1500,) (500,)\n",
            "Linear regression score: 0.502\n",
            "Boosting score: 0.754\n"
          ]
        },
        {
          "output_type": "stream",
          "name": "stderr",
          "text": [
            "1000it [00:01, 602.93it/s]\n",
            "<ipython-input-35-fba26882c2f2>:79: UserWarning: To copy construct from a tensor, it is recommended to use sourceTensor.clone().detach() or sourceTensor.clone().detach().requires_grad_(True), rather than torch.tensor(sourceTensor).\n",
            "  other_agent_score(X_real_oas, y_real_oas, torch.tensor(X_fake_oas), y_fake_oas)\n"
          ]
        },
        {
          "output_type": "stream",
          "name": "stdout",
          "text": [
            "(1500,) (500,)\n",
            "Linear regression score: 0.54\n",
            "Boosting score: 0.782\n"
          ]
        },
        {
          "output_type": "stream",
          "name": "stderr",
          "text": [
            "1000it [00:01, 579.66it/s]\n",
            "<ipython-input-35-fba26882c2f2>:79: UserWarning: To copy construct from a tensor, it is recommended to use sourceTensor.clone().detach() or sourceTensor.clone().detach().requires_grad_(True), rather than torch.tensor(sourceTensor).\n",
            "  other_agent_score(X_real_oas, y_real_oas, torch.tensor(X_fake_oas), y_fake_oas)\n"
          ]
        },
        {
          "output_type": "stream",
          "name": "stdout",
          "text": [
            "(1500,) (500,)\n",
            "Linear regression score: 0.586\n",
            "Boosting score: 0.754\n"
          ]
        },
        {
          "output_type": "stream",
          "name": "stderr",
          "text": [
            "1000it [00:01, 603.75it/s]\n",
            "<ipython-input-35-fba26882c2f2>:79: UserWarning: To copy construct from a tensor, it is recommended to use sourceTensor.clone().detach() or sourceTensor.clone().detach().requires_grad_(True), rather than torch.tensor(sourceTensor).\n",
            "  other_agent_score(X_real_oas, y_real_oas, torch.tensor(X_fake_oas), y_fake_oas)\n"
          ]
        },
        {
          "output_type": "stream",
          "name": "stdout",
          "text": [
            "(1500,) (500,)\n",
            "Linear regression score: 0.566\n",
            "Boosting score: 0.766\n"
          ]
        },
        {
          "output_type": "stream",
          "name": "stderr",
          "text": [
            "1000it [00:01, 514.59it/s]\n",
            "<ipython-input-35-fba26882c2f2>:79: UserWarning: To copy construct from a tensor, it is recommended to use sourceTensor.clone().detach() or sourceTensor.clone().detach().requires_grad_(True), rather than torch.tensor(sourceTensor).\n",
            "  other_agent_score(X_real_oas, y_real_oas, torch.tensor(X_fake_oas), y_fake_oas)\n"
          ]
        },
        {
          "output_type": "stream",
          "name": "stdout",
          "text": [
            "(1500,) (500,)\n",
            "Linear regression score: 0.574\n",
            "Boosting score: 0.742\n"
          ]
        },
        {
          "output_type": "stream",
          "name": "stderr",
          "text": [
            "1000it [00:02, 457.34it/s]\n",
            "<ipython-input-35-fba26882c2f2>:79: UserWarning: To copy construct from a tensor, it is recommended to use sourceTensor.clone().detach() or sourceTensor.clone().detach().requires_grad_(True), rather than torch.tensor(sourceTensor).\n",
            "  other_agent_score(X_real_oas, y_real_oas, torch.tensor(X_fake_oas), y_fake_oas)\n"
          ]
        },
        {
          "output_type": "stream",
          "name": "stdout",
          "text": [
            "(1500,) (500,)\n",
            "Linear regression score: 0.588\n",
            "Boosting score: 0.78\n"
          ]
        },
        {
          "output_type": "stream",
          "name": "stderr",
          "text": [
            "1000it [00:01, 595.30it/s]\n",
            "<ipython-input-35-fba26882c2f2>:79: UserWarning: To copy construct from a tensor, it is recommended to use sourceTensor.clone().detach() or sourceTensor.clone().detach().requires_grad_(True), rather than torch.tensor(sourceTensor).\n",
            "  other_agent_score(X_real_oas, y_real_oas, torch.tensor(X_fake_oas), y_fake_oas)\n"
          ]
        },
        {
          "output_type": "stream",
          "name": "stdout",
          "text": [
            "(1500,) (500,)\n",
            "Linear regression score: 0.512\n",
            "Boosting score: 0.776\n"
          ]
        },
        {
          "output_type": "stream",
          "name": "stderr",
          "text": [
            "1000it [00:01, 598.35it/s]\n",
            "<ipython-input-35-fba26882c2f2>:79: UserWarning: To copy construct from a tensor, it is recommended to use sourceTensor.clone().detach() or sourceTensor.clone().detach().requires_grad_(True), rather than torch.tensor(sourceTensor).\n",
            "  other_agent_score(X_real_oas, y_real_oas, torch.tensor(X_fake_oas), y_fake_oas)\n"
          ]
        },
        {
          "output_type": "stream",
          "name": "stdout",
          "text": [
            "(1500,) (500,)\n",
            "Linear regression score: 0.524\n",
            "Boosting score: 0.748\n"
          ]
        },
        {
          "output_type": "stream",
          "name": "stderr",
          "text": [
            "1000it [00:01, 602.64it/s]\n",
            "<ipython-input-35-fba26882c2f2>:79: UserWarning: To copy construct from a tensor, it is recommended to use sourceTensor.clone().detach() or sourceTensor.clone().detach().requires_grad_(True), rather than torch.tensor(sourceTensor).\n",
            "  other_agent_score(X_real_oas, y_real_oas, torch.tensor(X_fake_oas), y_fake_oas)\n"
          ]
        },
        {
          "output_type": "stream",
          "name": "stdout",
          "text": [
            "(1500,) (500,)\n",
            "Linear regression score: 0.608\n",
            "Boosting score: 0.79\n"
          ]
        },
        {
          "output_type": "stream",
          "name": "stderr",
          "text": [
            "1000it [00:02, 423.46it/s]\n",
            "<ipython-input-35-fba26882c2f2>:79: UserWarning: To copy construct from a tensor, it is recommended to use sourceTensor.clone().detach() or sourceTensor.clone().detach().requires_grad_(True), rather than torch.tensor(sourceTensor).\n",
            "  other_agent_score(X_real_oas, y_real_oas, torch.tensor(X_fake_oas), y_fake_oas)\n"
          ]
        },
        {
          "output_type": "stream",
          "name": "stdout",
          "text": [
            "(1500,) (500,)\n",
            "Linear regression score: 0.554\n",
            "Boosting score: 0.722\n"
          ]
        },
        {
          "output_type": "stream",
          "name": "stderr",
          "text": [
            "1000it [00:01, 575.40it/s]\n",
            "<ipython-input-35-fba26882c2f2>:79: UserWarning: To copy construct from a tensor, it is recommended to use sourceTensor.clone().detach() or sourceTensor.clone().detach().requires_grad_(True), rather than torch.tensor(sourceTensor).\n",
            "  other_agent_score(X_real_oas, y_real_oas, torch.tensor(X_fake_oas), y_fake_oas)\n"
          ]
        },
        {
          "output_type": "stream",
          "name": "stdout",
          "text": [
            "(1500,) (500,)\n",
            "Linear regression score: 0.57\n",
            "Boosting score: 0.78\n"
          ]
        },
        {
          "output_type": "stream",
          "name": "stderr",
          "text": [
            "1000it [00:01, 563.36it/s]\n",
            "<ipython-input-35-fba26882c2f2>:79: UserWarning: To copy construct from a tensor, it is recommended to use sourceTensor.clone().detach() or sourceTensor.clone().detach().requires_grad_(True), rather than torch.tensor(sourceTensor).\n",
            "  other_agent_score(X_real_oas, y_real_oas, torch.tensor(X_fake_oas), y_fake_oas)\n"
          ]
        },
        {
          "output_type": "stream",
          "name": "stdout",
          "text": [
            "(1500,) (500,)\n",
            "Linear regression score: 0.59\n",
            "Boosting score: 0.726\n"
          ]
        },
        {
          "output_type": "stream",
          "name": "stderr",
          "text": [
            "1000it [00:01, 595.06it/s]\n",
            "<ipython-input-35-fba26882c2f2>:79: UserWarning: To copy construct from a tensor, it is recommended to use sourceTensor.clone().detach() or sourceTensor.clone().detach().requires_grad_(True), rather than torch.tensor(sourceTensor).\n",
            "  other_agent_score(X_real_oas, y_real_oas, torch.tensor(X_fake_oas), y_fake_oas)\n"
          ]
        },
        {
          "output_type": "stream",
          "name": "stdout",
          "text": [
            "(1500,) (500,)\n",
            "Linear regression score: 0.58\n",
            "Boosting score: 0.79\n"
          ]
        },
        {
          "output_type": "stream",
          "name": "stderr",
          "text": [
            "1000it [00:01, 611.83it/s]\n",
            "<ipython-input-35-fba26882c2f2>:79: UserWarning: To copy construct from a tensor, it is recommended to use sourceTensor.clone().detach() or sourceTensor.clone().detach().requires_grad_(True), rather than torch.tensor(sourceTensor).\n",
            "  other_agent_score(X_real_oas, y_real_oas, torch.tensor(X_fake_oas), y_fake_oas)\n"
          ]
        },
        {
          "output_type": "stream",
          "name": "stdout",
          "text": [
            "(1500,) (500,)\n",
            "Linear regression score: 0.502\n",
            "Boosting score: 0.74\n"
          ]
        },
        {
          "output_type": "stream",
          "name": "stderr",
          "text": [
            "1000it [00:02, 386.16it/s]\n",
            "<ipython-input-35-fba26882c2f2>:79: UserWarning: To copy construct from a tensor, it is recommended to use sourceTensor.clone().detach() or sourceTensor.clone().detach().requires_grad_(True), rather than torch.tensor(sourceTensor).\n",
            "  other_agent_score(X_real_oas, y_real_oas, torch.tensor(X_fake_oas), y_fake_oas)\n"
          ]
        },
        {
          "output_type": "stream",
          "name": "stdout",
          "text": [
            "(1500,) (500,)\n",
            "Linear regression score: 0.552\n",
            "Boosting score: 0.756\n"
          ]
        },
        {
          "output_type": "stream",
          "name": "stderr",
          "text": [
            "1000it [00:01, 598.80it/s]\n",
            "<ipython-input-35-fba26882c2f2>:79: UserWarning: To copy construct from a tensor, it is recommended to use sourceTensor.clone().detach() or sourceTensor.clone().detach().requires_grad_(True), rather than torch.tensor(sourceTensor).\n",
            "  other_agent_score(X_real_oas, y_real_oas, torch.tensor(X_fake_oas), y_fake_oas)\n"
          ]
        },
        {
          "output_type": "stream",
          "name": "stdout",
          "text": [
            "(1500,) (500,)\n",
            "Linear regression score: 0.522\n",
            "Boosting score: 0.728\n"
          ]
        },
        {
          "output_type": "stream",
          "name": "stderr",
          "text": [
            "1000it [00:01, 583.50it/s]\n",
            "<ipython-input-35-fba26882c2f2>:79: UserWarning: To copy construct from a tensor, it is recommended to use sourceTensor.clone().detach() or sourceTensor.clone().detach().requires_grad_(True), rather than torch.tensor(sourceTensor).\n",
            "  other_agent_score(X_real_oas, y_real_oas, torch.tensor(X_fake_oas), y_fake_oas)\n"
          ]
        },
        {
          "output_type": "stream",
          "name": "stdout",
          "text": [
            "(1500,) (500,)\n",
            "Linear regression score: 0.518\n",
            "Boosting score: 0.766\n"
          ]
        },
        {
          "output_type": "stream",
          "name": "stderr",
          "text": [
            "1000it [00:01, 600.60it/s]\n",
            "<ipython-input-35-fba26882c2f2>:79: UserWarning: To copy construct from a tensor, it is recommended to use sourceTensor.clone().detach() or sourceTensor.clone().detach().requires_grad_(True), rather than torch.tensor(sourceTensor).\n",
            "  other_agent_score(X_real_oas, y_real_oas, torch.tensor(X_fake_oas), y_fake_oas)\n"
          ]
        },
        {
          "output_type": "stream",
          "name": "stdout",
          "text": [
            "(1500,) (500,)\n",
            "Linear regression score: 0.626\n",
            "Boosting score: 0.776\n"
          ]
        },
        {
          "output_type": "stream",
          "name": "stderr",
          "text": [
            "1000it [00:01, 587.49it/s]\n",
            "<ipython-input-35-fba26882c2f2>:79: UserWarning: To copy construct from a tensor, it is recommended to use sourceTensor.clone().detach() or sourceTensor.clone().detach().requires_grad_(True), rather than torch.tensor(sourceTensor).\n",
            "  other_agent_score(X_real_oas, y_real_oas, torch.tensor(X_fake_oas), y_fake_oas)\n"
          ]
        },
        {
          "output_type": "stream",
          "name": "stdout",
          "text": [
            "(1500,) (500,)\n",
            "Linear regression score: 0.568\n",
            "Boosting score: 0.754\n"
          ]
        },
        {
          "output_type": "stream",
          "name": "stderr",
          "text": [
            "1000it [00:02, 441.58it/s]\n",
            "<ipython-input-35-fba26882c2f2>:79: UserWarning: To copy construct from a tensor, it is recommended to use sourceTensor.clone().detach() or sourceTensor.clone().detach().requires_grad_(True), rather than torch.tensor(sourceTensor).\n",
            "  other_agent_score(X_real_oas, y_real_oas, torch.tensor(X_fake_oas), y_fake_oas)\n"
          ]
        },
        {
          "output_type": "stream",
          "name": "stdout",
          "text": [
            "(1500,) (500,)\n",
            "Linear regression score: 0.592\n",
            "Boosting score: 0.776\n"
          ]
        },
        {
          "output_type": "stream",
          "name": "stderr",
          "text": [
            "1000it [00:01, 585.25it/s]\n",
            "<ipython-input-35-fba26882c2f2>:79: UserWarning: To copy construct from a tensor, it is recommended to use sourceTensor.clone().detach() or sourceTensor.clone().detach().requires_grad_(True), rather than torch.tensor(sourceTensor).\n",
            "  other_agent_score(X_real_oas, y_real_oas, torch.tensor(X_fake_oas), y_fake_oas)\n"
          ]
        },
        {
          "output_type": "stream",
          "name": "stdout",
          "text": [
            "(1500,) (500,)\n",
            "Linear regression score: 0.598\n",
            "Boosting score: 0.74\n"
          ]
        },
        {
          "output_type": "stream",
          "name": "stderr",
          "text": [
            "1000it [00:01, 600.00it/s]\n",
            "<ipython-input-35-fba26882c2f2>:79: UserWarning: To copy construct from a tensor, it is recommended to use sourceTensor.clone().detach() or sourceTensor.clone().detach().requires_grad_(True), rather than torch.tensor(sourceTensor).\n",
            "  other_agent_score(X_real_oas, y_real_oas, torch.tensor(X_fake_oas), y_fake_oas)\n"
          ]
        },
        {
          "output_type": "stream",
          "name": "stdout",
          "text": [
            "(1500,) (500,)\n",
            "Linear regression score: 0.578\n",
            "Boosting score: 0.766\n"
          ]
        },
        {
          "output_type": "stream",
          "name": "stderr",
          "text": [
            "1000it [00:01, 611.39it/s]\n",
            "<ipython-input-35-fba26882c2f2>:79: UserWarning: To copy construct from a tensor, it is recommended to use sourceTensor.clone().detach() or sourceTensor.clone().detach().requires_grad_(True), rather than torch.tensor(sourceTensor).\n",
            "  other_agent_score(X_real_oas, y_real_oas, torch.tensor(X_fake_oas), y_fake_oas)\n"
          ]
        },
        {
          "output_type": "stream",
          "name": "stdout",
          "text": [
            "(1500,) (500,)\n",
            "Linear regression score: 0.546\n",
            "Boosting score: 0.756\n"
          ]
        },
        {
          "output_type": "stream",
          "name": "stderr",
          "text": [
            "1000it [00:03, 310.44it/s]\n",
            "<ipython-input-35-fba26882c2f2>:79: UserWarning: To copy construct from a tensor, it is recommended to use sourceTensor.clone().detach() or sourceTensor.clone().detach().requires_grad_(True), rather than torch.tensor(sourceTensor).\n",
            "  other_agent_score(X_real_oas, y_real_oas, torch.tensor(X_fake_oas), y_fake_oas)\n"
          ]
        },
        {
          "output_type": "stream",
          "name": "stdout",
          "text": [
            "(1500,) (500,)\n",
            "Linear regression score: 0.552\n",
            "Boosting score: 0.754\n"
          ]
        },
        {
          "output_type": "stream",
          "name": "stderr",
          "text": [
            "1000it [00:01, 611.01it/s]\n",
            "<ipython-input-35-fba26882c2f2>:79: UserWarning: To copy construct from a tensor, it is recommended to use sourceTensor.clone().detach() or sourceTensor.clone().detach().requires_grad_(True), rather than torch.tensor(sourceTensor).\n",
            "  other_agent_score(X_real_oas, y_real_oas, torch.tensor(X_fake_oas), y_fake_oas)\n"
          ]
        },
        {
          "output_type": "stream",
          "name": "stdout",
          "text": [
            "(1500,) (500,)\n",
            "Linear regression score: 0.532\n",
            "Boosting score: 0.794\n"
          ]
        },
        {
          "output_type": "stream",
          "name": "stderr",
          "text": [
            "1000it [00:01, 615.57it/s]\n",
            "<ipython-input-35-fba26882c2f2>:79: UserWarning: To copy construct from a tensor, it is recommended to use sourceTensor.clone().detach() or sourceTensor.clone().detach().requires_grad_(True), rather than torch.tensor(sourceTensor).\n",
            "  other_agent_score(X_real_oas, y_real_oas, torch.tensor(X_fake_oas), y_fake_oas)\n"
          ]
        },
        {
          "output_type": "stream",
          "name": "stdout",
          "text": [
            "(1500,) (500,)\n",
            "Linear regression score: 0.49\n",
            "Boosting score: 0.69\n"
          ]
        },
        {
          "output_type": "stream",
          "name": "stderr",
          "text": [
            "1000it [00:01, 586.96it/s]\n",
            "<ipython-input-35-fba26882c2f2>:79: UserWarning: To copy construct from a tensor, it is recommended to use sourceTensor.clone().detach() or sourceTensor.clone().detach().requires_grad_(True), rather than torch.tensor(sourceTensor).\n",
            "  other_agent_score(X_real_oas, y_real_oas, torch.tensor(X_fake_oas), y_fake_oas)\n"
          ]
        },
        {
          "output_type": "stream",
          "name": "stdout",
          "text": [
            "(1500,) (500,)\n",
            "Linear regression score: 0.566\n",
            "Boosting score: 0.77\n"
          ]
        },
        {
          "output_type": "stream",
          "name": "stderr",
          "text": [
            "1000it [00:01, 612.96it/s]\n",
            "<ipython-input-35-fba26882c2f2>:79: UserWarning: To copy construct from a tensor, it is recommended to use sourceTensor.clone().detach() or sourceTensor.clone().detach().requires_grad_(True), rather than torch.tensor(sourceTensor).\n",
            "  other_agent_score(X_real_oas, y_real_oas, torch.tensor(X_fake_oas), y_fake_oas)\n"
          ]
        },
        {
          "output_type": "stream",
          "name": "stdout",
          "text": [
            "(1500,) (500,)\n",
            "Linear regression score: 0.53\n",
            "Boosting score: 0.758\n"
          ]
        },
        {
          "output_type": "stream",
          "name": "stderr",
          "text": [
            "1000it [00:02, 388.95it/s]\n",
            "<ipython-input-35-fba26882c2f2>:79: UserWarning: To copy construct from a tensor, it is recommended to use sourceTensor.clone().detach() or sourceTensor.clone().detach().requires_grad_(True), rather than torch.tensor(sourceTensor).\n",
            "  other_agent_score(X_real_oas, y_real_oas, torch.tensor(X_fake_oas), y_fake_oas)\n"
          ]
        },
        {
          "output_type": "stream",
          "name": "stdout",
          "text": [
            "(1500,) (500,)\n",
            "Linear regression score: 0.514\n",
            "Boosting score: 0.75\n"
          ]
        },
        {
          "output_type": "stream",
          "name": "stderr",
          "text": [
            "1000it [00:01, 589.94it/s]\n",
            "<ipython-input-35-fba26882c2f2>:79: UserWarning: To copy construct from a tensor, it is recommended to use sourceTensor.clone().detach() or sourceTensor.clone().detach().requires_grad_(True), rather than torch.tensor(sourceTensor).\n",
            "  other_agent_score(X_real_oas, y_real_oas, torch.tensor(X_fake_oas), y_fake_oas)\n"
          ]
        },
        {
          "output_type": "stream",
          "name": "stdout",
          "text": [
            "(1500,) (500,)\n",
            "Linear regression score: 0.56\n",
            "Boosting score: 0.776\n"
          ]
        },
        {
          "output_type": "stream",
          "name": "stderr",
          "text": [
            "1000it [00:01, 557.90it/s]\n",
            "<ipython-input-35-fba26882c2f2>:79: UserWarning: To copy construct from a tensor, it is recommended to use sourceTensor.clone().detach() or sourceTensor.clone().detach().requires_grad_(True), rather than torch.tensor(sourceTensor).\n",
            "  other_agent_score(X_real_oas, y_real_oas, torch.tensor(X_fake_oas), y_fake_oas)\n"
          ]
        },
        {
          "output_type": "stream",
          "name": "stdout",
          "text": [
            "(1500,) (500,)\n",
            "Linear regression score: 0.56\n",
            "Boosting score: 0.754\n"
          ]
        },
        {
          "output_type": "stream",
          "name": "stderr",
          "text": [
            "1000it [00:01, 600.06it/s]\n",
            "<ipython-input-35-fba26882c2f2>:79: UserWarning: To copy construct from a tensor, it is recommended to use sourceTensor.clone().detach() or sourceTensor.clone().detach().requires_grad_(True), rather than torch.tensor(sourceTensor).\n",
            "  other_agent_score(X_real_oas, y_real_oas, torch.tensor(X_fake_oas), y_fake_oas)\n"
          ]
        },
        {
          "output_type": "stream",
          "name": "stdout",
          "text": [
            "(1500,) (500,)\n",
            "Linear regression score: 0.564\n",
            "Boosting score: 0.762\n"
          ]
        },
        {
          "output_type": "stream",
          "name": "stderr",
          "text": [
            "1000it [00:01, 573.14it/s]\n",
            "<ipython-input-35-fba26882c2f2>:79: UserWarning: To copy construct from a tensor, it is recommended to use sourceTensor.clone().detach() or sourceTensor.clone().detach().requires_grad_(True), rather than torch.tensor(sourceTensor).\n",
            "  other_agent_score(X_real_oas, y_real_oas, torch.tensor(X_fake_oas), y_fake_oas)\n"
          ]
        },
        {
          "output_type": "stream",
          "name": "stdout",
          "text": [
            "(1500,) (500,)\n",
            "Linear regression score: 0.62\n",
            "Boosting score: 0.734\n"
          ]
        },
        {
          "output_type": "stream",
          "name": "stderr",
          "text": [
            "1000it [00:02, 461.69it/s]\n",
            "<ipython-input-35-fba26882c2f2>:79: UserWarning: To copy construct from a tensor, it is recommended to use sourceTensor.clone().detach() or sourceTensor.clone().detach().requires_grad_(True), rather than torch.tensor(sourceTensor).\n",
            "  other_agent_score(X_real_oas, y_real_oas, torch.tensor(X_fake_oas), y_fake_oas)\n"
          ]
        },
        {
          "output_type": "stream",
          "name": "stdout",
          "text": [
            "(1500,) (500,)\n",
            "Linear regression score: 0.57\n",
            "Boosting score: 0.74\n"
          ]
        },
        {
          "output_type": "stream",
          "name": "stderr",
          "text": [
            "1000it [00:01, 594.39it/s]\n",
            "<ipython-input-35-fba26882c2f2>:79: UserWarning: To copy construct from a tensor, it is recommended to use sourceTensor.clone().detach() or sourceTensor.clone().detach().requires_grad_(True), rather than torch.tensor(sourceTensor).\n",
            "  other_agent_score(X_real_oas, y_real_oas, torch.tensor(X_fake_oas), y_fake_oas)\n"
          ]
        },
        {
          "output_type": "stream",
          "name": "stdout",
          "text": [
            "(1500,) (500,)\n",
            "Linear regression score: 0.57\n",
            "Boosting score: 0.748\n"
          ]
        },
        {
          "output_type": "stream",
          "name": "stderr",
          "text": [
            "1000it [00:01, 595.38it/s]\n",
            "<ipython-input-35-fba26882c2f2>:79: UserWarning: To copy construct from a tensor, it is recommended to use sourceTensor.clone().detach() or sourceTensor.clone().detach().requires_grad_(True), rather than torch.tensor(sourceTensor).\n",
            "  other_agent_score(X_real_oas, y_real_oas, torch.tensor(X_fake_oas), y_fake_oas)\n"
          ]
        },
        {
          "output_type": "stream",
          "name": "stdout",
          "text": [
            "(1500,) (500,)\n",
            "Linear regression score: 0.494\n",
            "Boosting score: 0.74\n"
          ]
        },
        {
          "output_type": "stream",
          "name": "stderr",
          "text": [
            "1000it [00:01, 571.41it/s]\n",
            "<ipython-input-35-fba26882c2f2>:79: UserWarning: To copy construct from a tensor, it is recommended to use sourceTensor.clone().detach() or sourceTensor.clone().detach().requires_grad_(True), rather than torch.tensor(sourceTensor).\n",
            "  other_agent_score(X_real_oas, y_real_oas, torch.tensor(X_fake_oas), y_fake_oas)\n"
          ]
        },
        {
          "output_type": "stream",
          "name": "stdout",
          "text": [
            "(1500,) (500,)\n",
            "Linear regression score: 0.622\n",
            "Boosting score: 0.75\n"
          ]
        },
        {
          "output_type": "stream",
          "name": "stderr",
          "text": [
            "1000it [00:02, 462.16it/s]\n",
            "<ipython-input-35-fba26882c2f2>:79: UserWarning: To copy construct from a tensor, it is recommended to use sourceTensor.clone().detach() or sourceTensor.clone().detach().requires_grad_(True), rather than torch.tensor(sourceTensor).\n",
            "  other_agent_score(X_real_oas, y_real_oas, torch.tensor(X_fake_oas), y_fake_oas)\n"
          ]
        },
        {
          "output_type": "stream",
          "name": "stdout",
          "text": [
            "(1500,) (500,)\n",
            "Linear regression score: 0.554\n",
            "Boosting score: 0.742\n"
          ]
        },
        {
          "output_type": "stream",
          "name": "stderr",
          "text": [
            "1000it [00:01, 538.10it/s]\n",
            "<ipython-input-35-fba26882c2f2>:79: UserWarning: To copy construct from a tensor, it is recommended to use sourceTensor.clone().detach() or sourceTensor.clone().detach().requires_grad_(True), rather than torch.tensor(sourceTensor).\n",
            "  other_agent_score(X_real_oas, y_real_oas, torch.tensor(X_fake_oas), y_fake_oas)\n"
          ]
        },
        {
          "output_type": "stream",
          "name": "stdout",
          "text": [
            "(1500,) (500,)\n",
            "Linear regression score: 0.576\n",
            "Boosting score: 0.81\n"
          ]
        },
        {
          "output_type": "stream",
          "name": "stderr",
          "text": [
            "1000it [00:01, 588.41it/s]\n",
            "<ipython-input-35-fba26882c2f2>:79: UserWarning: To copy construct from a tensor, it is recommended to use sourceTensor.clone().detach() or sourceTensor.clone().detach().requires_grad_(True), rather than torch.tensor(sourceTensor).\n",
            "  other_agent_score(X_real_oas, y_real_oas, torch.tensor(X_fake_oas), y_fake_oas)\n"
          ]
        },
        {
          "output_type": "stream",
          "name": "stdout",
          "text": [
            "(1500,) (500,)\n",
            "Linear regression score: 0.66\n",
            "Boosting score: 0.746\n"
          ]
        },
        {
          "output_type": "stream",
          "name": "stderr",
          "text": [
            "1000it [00:01, 596.44it/s]\n",
            "<ipython-input-35-fba26882c2f2>:79: UserWarning: To copy construct from a tensor, it is recommended to use sourceTensor.clone().detach() or sourceTensor.clone().detach().requires_grad_(True), rather than torch.tensor(sourceTensor).\n",
            "  other_agent_score(X_real_oas, y_real_oas, torch.tensor(X_fake_oas), y_fake_oas)\n"
          ]
        },
        {
          "output_type": "stream",
          "name": "stdout",
          "text": [
            "(1500,) (500,)\n",
            "Linear regression score: 0.542\n",
            "Boosting score: 0.716\n"
          ]
        },
        {
          "output_type": "stream",
          "name": "stderr",
          "text": [
            "1000it [00:01, 607.53it/s]\n",
            "<ipython-input-35-fba26882c2f2>:79: UserWarning: To copy construct from a tensor, it is recommended to use sourceTensor.clone().detach() or sourceTensor.clone().detach().requires_grad_(True), rather than torch.tensor(sourceTensor).\n",
            "  other_agent_score(X_real_oas, y_real_oas, torch.tensor(X_fake_oas), y_fake_oas)\n"
          ]
        },
        {
          "output_type": "stream",
          "name": "stdout",
          "text": [
            "(1500,) (500,)\n",
            "Linear regression score: 0.53\n",
            "Boosting score: 0.758\n"
          ]
        },
        {
          "output_type": "stream",
          "name": "stderr",
          "text": [
            "1000it [00:02, 392.70it/s]\n",
            "<ipython-input-35-fba26882c2f2>:79: UserWarning: To copy construct from a tensor, it is recommended to use sourceTensor.clone().detach() or sourceTensor.clone().detach().requires_grad_(True), rather than torch.tensor(sourceTensor).\n",
            "  other_agent_score(X_real_oas, y_real_oas, torch.tensor(X_fake_oas), y_fake_oas)\n"
          ]
        },
        {
          "output_type": "stream",
          "name": "stdout",
          "text": [
            "(1500,) (500,)\n",
            "Linear regression score: 0.54\n",
            "Boosting score: 0.74\n"
          ]
        },
        {
          "output_type": "stream",
          "name": "stderr",
          "text": [
            "1000it [00:01, 618.53it/s]\n",
            "<ipython-input-35-fba26882c2f2>:79: UserWarning: To copy construct from a tensor, it is recommended to use sourceTensor.clone().detach() or sourceTensor.clone().detach().requires_grad_(True), rather than torch.tensor(sourceTensor).\n",
            "  other_agent_score(X_real_oas, y_real_oas, torch.tensor(X_fake_oas), y_fake_oas)\n"
          ]
        },
        {
          "output_type": "stream",
          "name": "stdout",
          "text": [
            "(1500,) (500,)\n",
            "Linear regression score: 0.512\n",
            "Boosting score: 0.724\n"
          ]
        },
        {
          "output_type": "stream",
          "name": "stderr",
          "text": [
            "1000it [00:01, 608.28it/s]\n",
            "<ipython-input-35-fba26882c2f2>:79: UserWarning: To copy construct from a tensor, it is recommended to use sourceTensor.clone().detach() or sourceTensor.clone().detach().requires_grad_(True), rather than torch.tensor(sourceTensor).\n",
            "  other_agent_score(X_real_oas, y_real_oas, torch.tensor(X_fake_oas), y_fake_oas)\n"
          ]
        },
        {
          "output_type": "stream",
          "name": "stdout",
          "text": [
            "(1500,) (500,)\n",
            "Linear regression score: 0.536\n",
            "Boosting score: 0.726\n"
          ]
        },
        {
          "output_type": "stream",
          "name": "stderr",
          "text": [
            "1000it [00:01, 592.26it/s]\n",
            "<ipython-input-35-fba26882c2f2>:79: UserWarning: To copy construct from a tensor, it is recommended to use sourceTensor.clone().detach() or sourceTensor.clone().detach().requires_grad_(True), rather than torch.tensor(sourceTensor).\n",
            "  other_agent_score(X_real_oas, y_real_oas, torch.tensor(X_fake_oas), y_fake_oas)\n"
          ]
        },
        {
          "output_type": "stream",
          "name": "stdout",
          "text": [
            "(1500,) (500,)\n",
            "Linear regression score: 0.568\n",
            "Boosting score: 0.758\n"
          ]
        },
        {
          "output_type": "stream",
          "name": "stderr",
          "text": [
            "1000it [00:01, 622.84it/s]\n",
            "<ipython-input-35-fba26882c2f2>:79: UserWarning: To copy construct from a tensor, it is recommended to use sourceTensor.clone().detach() or sourceTensor.clone().detach().requires_grad_(True), rather than torch.tensor(sourceTensor).\n",
            "  other_agent_score(X_real_oas, y_real_oas, torch.tensor(X_fake_oas), y_fake_oas)\n"
          ]
        },
        {
          "output_type": "stream",
          "name": "stdout",
          "text": [
            "(1500,) (500,)\n",
            "Linear regression score: 0.544\n",
            "Boosting score: 0.75\n"
          ]
        },
        {
          "output_type": "stream",
          "name": "stderr",
          "text": [
            "1000it [00:02, 372.82it/s]\n",
            "<ipython-input-35-fba26882c2f2>:79: UserWarning: To copy construct from a tensor, it is recommended to use sourceTensor.clone().detach() or sourceTensor.clone().detach().requires_grad_(True), rather than torch.tensor(sourceTensor).\n",
            "  other_agent_score(X_real_oas, y_real_oas, torch.tensor(X_fake_oas), y_fake_oas)\n"
          ]
        },
        {
          "output_type": "stream",
          "name": "stdout",
          "text": [
            "(1500,) (500,)\n",
            "Linear regression score: 0.526\n",
            "Boosting score: 0.76\n"
          ]
        },
        {
          "output_type": "stream",
          "name": "stderr",
          "text": [
            "1000it [00:01, 610.31it/s]\n",
            "<ipython-input-35-fba26882c2f2>:79: UserWarning: To copy construct from a tensor, it is recommended to use sourceTensor.clone().detach() or sourceTensor.clone().detach().requires_grad_(True), rather than torch.tensor(sourceTensor).\n",
            "  other_agent_score(X_real_oas, y_real_oas, torch.tensor(X_fake_oas), y_fake_oas)\n"
          ]
        },
        {
          "output_type": "stream",
          "name": "stdout",
          "text": [
            "(1500,) (500,)\n",
            "Linear regression score: 0.558\n",
            "Boosting score: 0.74\n"
          ]
        },
        {
          "output_type": "stream",
          "name": "stderr",
          "text": [
            "1000it [00:01, 622.12it/s]\n",
            "<ipython-input-35-fba26882c2f2>:79: UserWarning: To copy construct from a tensor, it is recommended to use sourceTensor.clone().detach() or sourceTensor.clone().detach().requires_grad_(True), rather than torch.tensor(sourceTensor).\n",
            "  other_agent_score(X_real_oas, y_real_oas, torch.tensor(X_fake_oas), y_fake_oas)\n"
          ]
        },
        {
          "output_type": "stream",
          "name": "stdout",
          "text": [
            "(1500,) (500,)\n",
            "Linear regression score: 0.562\n",
            "Boosting score: 0.728\n"
          ]
        },
        {
          "output_type": "stream",
          "name": "stderr",
          "text": [
            "1000it [00:01, 598.34it/s]\n",
            "<ipython-input-35-fba26882c2f2>:79: UserWarning: To copy construct from a tensor, it is recommended to use sourceTensor.clone().detach() or sourceTensor.clone().detach().requires_grad_(True), rather than torch.tensor(sourceTensor).\n",
            "  other_agent_score(X_real_oas, y_real_oas, torch.tensor(X_fake_oas), y_fake_oas)\n"
          ]
        },
        {
          "output_type": "stream",
          "name": "stdout",
          "text": [
            "(1500,) (500,)\n",
            "Linear regression score: 0.506\n",
            "Boosting score: 0.716\n"
          ]
        },
        {
          "output_type": "stream",
          "name": "stderr",
          "text": [
            "1000it [00:01, 570.26it/s]\n",
            "<ipython-input-35-fba26882c2f2>:79: UserWarning: To copy construct from a tensor, it is recommended to use sourceTensor.clone().detach() or sourceTensor.clone().detach().requires_grad_(True), rather than torch.tensor(sourceTensor).\n",
            "  other_agent_score(X_real_oas, y_real_oas, torch.tensor(X_fake_oas), y_fake_oas)\n"
          ]
        },
        {
          "output_type": "stream",
          "name": "stdout",
          "text": [
            "(1500,) (500,)\n",
            "Linear regression score: 0.558\n",
            "Boosting score: 0.766\n"
          ]
        },
        {
          "output_type": "stream",
          "name": "stderr",
          "text": [
            "1000it [00:02, 447.60it/s]\n",
            "<ipython-input-35-fba26882c2f2>:79: UserWarning: To copy construct from a tensor, it is recommended to use sourceTensor.clone().detach() or sourceTensor.clone().detach().requires_grad_(True), rather than torch.tensor(sourceTensor).\n",
            "  other_agent_score(X_real_oas, y_real_oas, torch.tensor(X_fake_oas), y_fake_oas)\n"
          ]
        },
        {
          "output_type": "stream",
          "name": "stdout",
          "text": [
            "(1500,) (500,)\n",
            "Linear regression score: 0.516\n",
            "Boosting score: 0.76\n"
          ]
        },
        {
          "output_type": "stream",
          "name": "stderr",
          "text": [
            "1000it [00:01, 615.81it/s]\n",
            "<ipython-input-35-fba26882c2f2>:79: UserWarning: To copy construct from a tensor, it is recommended to use sourceTensor.clone().detach() or sourceTensor.clone().detach().requires_grad_(True), rather than torch.tensor(sourceTensor).\n",
            "  other_agent_score(X_real_oas, y_real_oas, torch.tensor(X_fake_oas), y_fake_oas)\n"
          ]
        },
        {
          "output_type": "stream",
          "name": "stdout",
          "text": [
            "(1500,) (500,)\n",
            "Linear regression score: 0.558\n",
            "Boosting score: 0.756\n"
          ]
        },
        {
          "output_type": "stream",
          "name": "stderr",
          "text": [
            "1000it [00:01, 595.48it/s]\n",
            "<ipython-input-35-fba26882c2f2>:79: UserWarning: To copy construct from a tensor, it is recommended to use sourceTensor.clone().detach() or sourceTensor.clone().detach().requires_grad_(True), rather than torch.tensor(sourceTensor).\n",
            "  other_agent_score(X_real_oas, y_real_oas, torch.tensor(X_fake_oas), y_fake_oas)\n"
          ]
        },
        {
          "output_type": "stream",
          "name": "stdout",
          "text": [
            "(1500,) (500,)\n",
            "Linear regression score: 0.568\n",
            "Boosting score: 0.764\n"
          ]
        },
        {
          "output_type": "stream",
          "name": "stderr",
          "text": [
            "1000it [00:01, 614.26it/s]\n",
            "<ipython-input-35-fba26882c2f2>:79: UserWarning: To copy construct from a tensor, it is recommended to use sourceTensor.clone().detach() or sourceTensor.clone().detach().requires_grad_(True), rather than torch.tensor(sourceTensor).\n",
            "  other_agent_score(X_real_oas, y_real_oas, torch.tensor(X_fake_oas), y_fake_oas)\n"
          ]
        },
        {
          "output_type": "stream",
          "name": "stdout",
          "text": [
            "(1500,) (500,)\n",
            "Linear regression score: 0.554\n",
            "Boosting score: 0.752\n"
          ]
        },
        {
          "output_type": "stream",
          "name": "stderr",
          "text": [
            "1000it [00:02, 482.71it/s]\n",
            "<ipython-input-35-fba26882c2f2>:79: UserWarning: To copy construct from a tensor, it is recommended to use sourceTensor.clone().detach() or sourceTensor.clone().detach().requires_grad_(True), rather than torch.tensor(sourceTensor).\n",
            "  other_agent_score(X_real_oas, y_real_oas, torch.tensor(X_fake_oas), y_fake_oas)\n"
          ]
        },
        {
          "output_type": "stream",
          "name": "stdout",
          "text": [
            "(1500,) (500,)\n",
            "Linear regression score: 0.544\n",
            "Boosting score: 0.726\n"
          ]
        },
        {
          "output_type": "stream",
          "name": "stderr",
          "text": [
            "1000it [00:01, 506.84it/s]\n",
            "<ipython-input-35-fba26882c2f2>:79: UserWarning: To copy construct from a tensor, it is recommended to use sourceTensor.clone().detach() or sourceTensor.clone().detach().requires_grad_(True), rather than torch.tensor(sourceTensor).\n",
            "  other_agent_score(X_real_oas, y_real_oas, torch.tensor(X_fake_oas), y_fake_oas)\n"
          ]
        },
        {
          "output_type": "stream",
          "name": "stdout",
          "text": [
            "(1500,) (500,)\n",
            "Linear regression score: 0.564\n",
            "Boosting score: 0.748\n"
          ]
        },
        {
          "output_type": "stream",
          "name": "stderr",
          "text": [
            "1000it [00:01, 609.53it/s]\n",
            "<ipython-input-35-fba26882c2f2>:79: UserWarning: To copy construct from a tensor, it is recommended to use sourceTensor.clone().detach() or sourceTensor.clone().detach().requires_grad_(True), rather than torch.tensor(sourceTensor).\n",
            "  other_agent_score(X_real_oas, y_real_oas, torch.tensor(X_fake_oas), y_fake_oas)\n"
          ]
        },
        {
          "output_type": "stream",
          "name": "stdout",
          "text": [
            "(1500,) (500,)\n",
            "Linear regression score: 0.586\n",
            "Boosting score: 0.714\n"
          ]
        },
        {
          "output_type": "stream",
          "name": "stderr",
          "text": [
            "1000it [00:01, 612.66it/s]\n",
            "<ipython-input-35-fba26882c2f2>:79: UserWarning: To copy construct from a tensor, it is recommended to use sourceTensor.clone().detach() or sourceTensor.clone().detach().requires_grad_(True), rather than torch.tensor(sourceTensor).\n",
            "  other_agent_score(X_real_oas, y_real_oas, torch.tensor(X_fake_oas), y_fake_oas)\n"
          ]
        },
        {
          "output_type": "stream",
          "name": "stdout",
          "text": [
            "(1500,) (500,)\n",
            "Linear regression score: 0.524\n",
            "Boosting score: 0.696\n"
          ]
        },
        {
          "output_type": "stream",
          "name": "stderr",
          "text": [
            "1000it [00:01, 582.59it/s]\n",
            "<ipython-input-35-fba26882c2f2>:79: UserWarning: To copy construct from a tensor, it is recommended to use sourceTensor.clone().detach() or sourceTensor.clone().detach().requires_grad_(True), rather than torch.tensor(sourceTensor).\n",
            "  other_agent_score(X_real_oas, y_real_oas, torch.tensor(X_fake_oas), y_fake_oas)\n"
          ]
        },
        {
          "output_type": "stream",
          "name": "stdout",
          "text": [
            "(1500,) (500,)\n",
            "Linear regression score: 0.566\n",
            "Boosting score: 0.738\n"
          ]
        },
        {
          "output_type": "stream",
          "name": "stderr",
          "text": [
            "1000it [00:02, 441.55it/s]\n",
            "<ipython-input-35-fba26882c2f2>:79: UserWarning: To copy construct from a tensor, it is recommended to use sourceTensor.clone().detach() or sourceTensor.clone().detach().requires_grad_(True), rather than torch.tensor(sourceTensor).\n",
            "  other_agent_score(X_real_oas, y_real_oas, torch.tensor(X_fake_oas), y_fake_oas)\n"
          ]
        },
        {
          "output_type": "stream",
          "name": "stdout",
          "text": [
            "(1500,) (500,)\n",
            "Linear regression score: 0.552\n",
            "Boosting score: 0.724\n"
          ]
        },
        {
          "output_type": "stream",
          "name": "stderr",
          "text": [
            "1000it [00:01, 618.82it/s]\n",
            "<ipython-input-35-fba26882c2f2>:79: UserWarning: To copy construct from a tensor, it is recommended to use sourceTensor.clone().detach() or sourceTensor.clone().detach().requires_grad_(True), rather than torch.tensor(sourceTensor).\n",
            "  other_agent_score(X_real_oas, y_real_oas, torch.tensor(X_fake_oas), y_fake_oas)\n"
          ]
        },
        {
          "output_type": "stream",
          "name": "stdout",
          "text": [
            "(1500,) (500,)\n",
            "Linear regression score: 0.544\n",
            "Boosting score: 0.73\n"
          ]
        },
        {
          "output_type": "stream",
          "name": "stderr",
          "text": [
            "1000it [00:01, 606.95it/s]\n",
            "<ipython-input-35-fba26882c2f2>:79: UserWarning: To copy construct from a tensor, it is recommended to use sourceTensor.clone().detach() or sourceTensor.clone().detach().requires_grad_(True), rather than torch.tensor(sourceTensor).\n",
            "  other_agent_score(X_real_oas, y_real_oas, torch.tensor(X_fake_oas), y_fake_oas)\n"
          ]
        },
        {
          "output_type": "stream",
          "name": "stdout",
          "text": [
            "(1500,) (500,)\n",
            "Linear regression score: 0.538\n",
            "Boosting score: 0.75\n"
          ]
        },
        {
          "output_type": "stream",
          "name": "stderr",
          "text": [
            "1000it [00:01, 586.88it/s]\n",
            "<ipython-input-35-fba26882c2f2>:79: UserWarning: To copy construct from a tensor, it is recommended to use sourceTensor.clone().detach() or sourceTensor.clone().detach().requires_grad_(True), rather than torch.tensor(sourceTensor).\n",
            "  other_agent_score(X_real_oas, y_real_oas, torch.tensor(X_fake_oas), y_fake_oas)\n"
          ]
        },
        {
          "output_type": "stream",
          "name": "stdout",
          "text": [
            "(1500,) (500,)\n",
            "Linear regression score: 0.538\n",
            "Boosting score: 0.74\n"
          ]
        },
        {
          "output_type": "stream",
          "name": "stderr",
          "text": [
            "1000it [00:01, 614.21it/s]\n",
            "<ipython-input-35-fba26882c2f2>:79: UserWarning: To copy construct from a tensor, it is recommended to use sourceTensor.clone().detach() or sourceTensor.clone().detach().requires_grad_(True), rather than torch.tensor(sourceTensor).\n",
            "  other_agent_score(X_real_oas, y_real_oas, torch.tensor(X_fake_oas), y_fake_oas)\n"
          ]
        },
        {
          "output_type": "stream",
          "name": "stdout",
          "text": [
            "(1500,) (500,)\n",
            "Linear regression score: 0.522\n",
            "Boosting score: 0.738\n"
          ]
        },
        {
          "output_type": "stream",
          "name": "stderr",
          "text": [
            "1000it [00:02, 390.93it/s]\n",
            "<ipython-input-35-fba26882c2f2>:79: UserWarning: To copy construct from a tensor, it is recommended to use sourceTensor.clone().detach() or sourceTensor.clone().detach().requires_grad_(True), rather than torch.tensor(sourceTensor).\n",
            "  other_agent_score(X_real_oas, y_real_oas, torch.tensor(X_fake_oas), y_fake_oas)\n"
          ]
        },
        {
          "output_type": "stream",
          "name": "stdout",
          "text": [
            "(1500,) (500,)\n",
            "Linear regression score: 0.514\n",
            "Boosting score: 0.74\n"
          ]
        },
        {
          "output_type": "stream",
          "name": "stderr",
          "text": [
            "1000it [00:01, 578.41it/s]\n",
            "<ipython-input-35-fba26882c2f2>:79: UserWarning: To copy construct from a tensor, it is recommended to use sourceTensor.clone().detach() or sourceTensor.clone().detach().requires_grad_(True), rather than torch.tensor(sourceTensor).\n",
            "  other_agent_score(X_real_oas, y_real_oas, torch.tensor(X_fake_oas), y_fake_oas)\n"
          ]
        },
        {
          "output_type": "stream",
          "name": "stdout",
          "text": [
            "(1500,) (500,)\n",
            "Linear regression score: 0.542\n",
            "Boosting score: 0.712\n"
          ]
        },
        {
          "output_type": "stream",
          "name": "stderr",
          "text": [
            "1000it [00:01, 606.09it/s]\n",
            "<ipython-input-35-fba26882c2f2>:79: UserWarning: To copy construct from a tensor, it is recommended to use sourceTensor.clone().detach() or sourceTensor.clone().detach().requires_grad_(True), rather than torch.tensor(sourceTensor).\n",
            "  other_agent_score(X_real_oas, y_real_oas, torch.tensor(X_fake_oas), y_fake_oas)\n"
          ]
        },
        {
          "output_type": "stream",
          "name": "stdout",
          "text": [
            "(1500,) (500,)\n",
            "Linear regression score: 0.572\n",
            "Boosting score: 0.756\n"
          ]
        },
        {
          "output_type": "stream",
          "name": "stderr",
          "text": [
            "1000it [00:01, 580.32it/s]\n",
            "<ipython-input-35-fba26882c2f2>:79: UserWarning: To copy construct from a tensor, it is recommended to use sourceTensor.clone().detach() or sourceTensor.clone().detach().requires_grad_(True), rather than torch.tensor(sourceTensor).\n",
            "  other_agent_score(X_real_oas, y_real_oas, torch.tensor(X_fake_oas), y_fake_oas)\n"
          ]
        },
        {
          "output_type": "stream",
          "name": "stdout",
          "text": [
            "(1500,) (500,)\n",
            "Linear regression score: 0.546\n",
            "Boosting score: 0.74\n"
          ]
        },
        {
          "output_type": "stream",
          "name": "stderr",
          "text": [
            "1000it [00:01, 609.17it/s]\n",
            "<ipython-input-35-fba26882c2f2>:79: UserWarning: To copy construct from a tensor, it is recommended to use sourceTensor.clone().detach() or sourceTensor.clone().detach().requires_grad_(True), rather than torch.tensor(sourceTensor).\n",
            "  other_agent_score(X_real_oas, y_real_oas, torch.tensor(X_fake_oas), y_fake_oas)\n"
          ]
        },
        {
          "output_type": "stream",
          "name": "stdout",
          "text": [
            "(1500,) (500,)\n",
            "Linear regression score: 0.558\n",
            "Boosting score: 0.728\n"
          ]
        },
        {
          "output_type": "stream",
          "name": "stderr",
          "text": [
            "1000it [00:02, 434.46it/s]\n",
            "<ipython-input-35-fba26882c2f2>:79: UserWarning: To copy construct from a tensor, it is recommended to use sourceTensor.clone().detach() or sourceTensor.clone().detach().requires_grad_(True), rather than torch.tensor(sourceTensor).\n",
            "  other_agent_score(X_real_oas, y_real_oas, torch.tensor(X_fake_oas), y_fake_oas)\n"
          ]
        },
        {
          "output_type": "stream",
          "name": "stdout",
          "text": [
            "(1500,) (500,)\n",
            "Linear regression score: 0.506\n",
            "Boosting score: 0.764\n"
          ]
        },
        {
          "output_type": "stream",
          "name": "stderr",
          "text": [
            "1000it [00:01, 588.83it/s]\n",
            "<ipython-input-35-fba26882c2f2>:79: UserWarning: To copy construct from a tensor, it is recommended to use sourceTensor.clone().detach() or sourceTensor.clone().detach().requires_grad_(True), rather than torch.tensor(sourceTensor).\n",
            "  other_agent_score(X_real_oas, y_real_oas, torch.tensor(X_fake_oas), y_fake_oas)\n"
          ]
        },
        {
          "output_type": "stream",
          "name": "stdout",
          "text": [
            "(1500,) (500,)\n",
            "Linear regression score: 0.532\n",
            "Boosting score: 0.724\n"
          ]
        },
        {
          "output_type": "stream",
          "name": "stderr",
          "text": [
            "1000it [00:02, 427.51it/s]\n",
            "<ipython-input-35-fba26882c2f2>:79: UserWarning: To copy construct from a tensor, it is recommended to use sourceTensor.clone().detach() or sourceTensor.clone().detach().requires_grad_(True), rather than torch.tensor(sourceTensor).\n",
            "  other_agent_score(X_real_oas, y_real_oas, torch.tensor(X_fake_oas), y_fake_oas)\n"
          ]
        },
        {
          "output_type": "stream",
          "name": "stdout",
          "text": [
            "(1500,) (500,)\n",
            "Linear regression score: 0.502\n",
            "Boosting score: 0.702\n"
          ]
        },
        {
          "output_type": "stream",
          "name": "stderr",
          "text": [
            "1000it [00:01, 568.66it/s]\n",
            "<ipython-input-35-fba26882c2f2>:79: UserWarning: To copy construct from a tensor, it is recommended to use sourceTensor.clone().detach() or sourceTensor.clone().detach().requires_grad_(True), rather than torch.tensor(sourceTensor).\n",
            "  other_agent_score(X_real_oas, y_real_oas, torch.tensor(X_fake_oas), y_fake_oas)\n"
          ]
        },
        {
          "output_type": "stream",
          "name": "stdout",
          "text": [
            "(1500,) (500,)\n",
            "Linear regression score: 0.522\n",
            "Boosting score: 0.726\n"
          ]
        },
        {
          "output_type": "stream",
          "name": "stderr",
          "text": [
            "1000it [00:02, 382.17it/s]\n",
            "<ipython-input-35-fba26882c2f2>:79: UserWarning: To copy construct from a tensor, it is recommended to use sourceTensor.clone().detach() or sourceTensor.clone().detach().requires_grad_(True), rather than torch.tensor(sourceTensor).\n",
            "  other_agent_score(X_real_oas, y_real_oas, torch.tensor(X_fake_oas), y_fake_oas)\n"
          ]
        },
        {
          "output_type": "stream",
          "name": "stdout",
          "text": [
            "(1500,) (500,)\n",
            "Linear regression score: 0.54\n",
            "Boosting score: 0.746\n"
          ]
        },
        {
          "output_type": "stream",
          "name": "stderr",
          "text": [
            "1000it [00:01, 616.01it/s]\n",
            "<ipython-input-35-fba26882c2f2>:79: UserWarning: To copy construct from a tensor, it is recommended to use sourceTensor.clone().detach() or sourceTensor.clone().detach().requires_grad_(True), rather than torch.tensor(sourceTensor).\n",
            "  other_agent_score(X_real_oas, y_real_oas, torch.tensor(X_fake_oas), y_fake_oas)\n"
          ]
        },
        {
          "output_type": "stream",
          "name": "stdout",
          "text": [
            "(1500,) (500,)\n",
            "Linear regression score: 0.506\n",
            "Boosting score: 0.71\n"
          ]
        },
        {
          "output_type": "stream",
          "name": "stderr",
          "text": [
            "1000it [00:01, 606.81it/s]\n",
            "<ipython-input-35-fba26882c2f2>:79: UserWarning: To copy construct from a tensor, it is recommended to use sourceTensor.clone().detach() or sourceTensor.clone().detach().requires_grad_(True), rather than torch.tensor(sourceTensor).\n",
            "  other_agent_score(X_real_oas, y_real_oas, torch.tensor(X_fake_oas), y_fake_oas)\n"
          ]
        },
        {
          "output_type": "stream",
          "name": "stdout",
          "text": [
            "(1500,) (500,)\n",
            "Linear regression score: 0.54\n",
            "Boosting score: 0.744\n"
          ]
        },
        {
          "output_type": "stream",
          "name": "stderr",
          "text": [
            "1000it [00:01, 596.88it/s]\n",
            "<ipython-input-35-fba26882c2f2>:79: UserWarning: To copy construct from a tensor, it is recommended to use sourceTensor.clone().detach() or sourceTensor.clone().detach().requires_grad_(True), rather than torch.tensor(sourceTensor).\n",
            "  other_agent_score(X_real_oas, y_real_oas, torch.tensor(X_fake_oas), y_fake_oas)\n"
          ]
        },
        {
          "output_type": "stream",
          "name": "stdout",
          "text": [
            "(1500,) (500,)\n",
            "Linear regression score: 0.554\n",
            "Boosting score: 0.756\n"
          ]
        },
        {
          "output_type": "stream",
          "name": "stderr",
          "text": [
            "1000it [00:01, 601.01it/s]\n",
            "<ipython-input-35-fba26882c2f2>:79: UserWarning: To copy construct from a tensor, it is recommended to use sourceTensor.clone().detach() or sourceTensor.clone().detach().requires_grad_(True), rather than torch.tensor(sourceTensor).\n",
            "  other_agent_score(X_real_oas, y_real_oas, torch.tensor(X_fake_oas), y_fake_oas)\n"
          ]
        },
        {
          "output_type": "stream",
          "name": "stdout",
          "text": [
            "(1500,) (500,)\n",
            "Linear regression score: 0.546\n",
            "Boosting score: 0.742\n"
          ]
        },
        {
          "output_type": "stream",
          "name": "stderr",
          "text": [
            "1000it [00:02, 414.66it/s]\n",
            "<ipython-input-35-fba26882c2f2>:79: UserWarning: To copy construct from a tensor, it is recommended to use sourceTensor.clone().detach() or sourceTensor.clone().detach().requires_grad_(True), rather than torch.tensor(sourceTensor).\n",
            "  other_agent_score(X_real_oas, y_real_oas, torch.tensor(X_fake_oas), y_fake_oas)\n"
          ]
        },
        {
          "output_type": "stream",
          "name": "stdout",
          "text": [
            "(1500,) (500,)\n",
            "Linear regression score: 0.54\n",
            "Boosting score: 0.696\n"
          ]
        },
        {
          "output_type": "stream",
          "name": "stderr",
          "text": [
            "1000it [00:01, 590.67it/s]\n",
            "<ipython-input-35-fba26882c2f2>:79: UserWarning: To copy construct from a tensor, it is recommended to use sourceTensor.clone().detach() or sourceTensor.clone().detach().requires_grad_(True), rather than torch.tensor(sourceTensor).\n",
            "  other_agent_score(X_real_oas, y_real_oas, torch.tensor(X_fake_oas), y_fake_oas)\n"
          ]
        },
        {
          "output_type": "stream",
          "name": "stdout",
          "text": [
            "(1500,) (500,)\n",
            "Linear regression score: 0.528\n",
            "Boosting score: 0.732\n"
          ]
        },
        {
          "output_type": "stream",
          "name": "stderr",
          "text": [
            "1000it [00:01, 584.87it/s]\n",
            "<ipython-input-35-fba26882c2f2>:79: UserWarning: To copy construct from a tensor, it is recommended to use sourceTensor.clone().detach() or sourceTensor.clone().detach().requires_grad_(True), rather than torch.tensor(sourceTensor).\n",
            "  other_agent_score(X_real_oas, y_real_oas, torch.tensor(X_fake_oas), y_fake_oas)\n"
          ]
        },
        {
          "output_type": "stream",
          "name": "stdout",
          "text": [
            "(1500,) (500,)\n",
            "Linear regression score: 0.534\n",
            "Boosting score: 0.758\n"
          ]
        },
        {
          "output_type": "stream",
          "name": "stderr",
          "text": [
            "1000it [00:01, 581.37it/s]\n",
            "<ipython-input-35-fba26882c2f2>:79: UserWarning: To copy construct from a tensor, it is recommended to use sourceTensor.clone().detach() or sourceTensor.clone().detach().requires_grad_(True), rather than torch.tensor(sourceTensor).\n",
            "  other_agent_score(X_real_oas, y_real_oas, torch.tensor(X_fake_oas), y_fake_oas)\n"
          ]
        },
        {
          "output_type": "stream",
          "name": "stdout",
          "text": [
            "(1500,) (500,)\n",
            "Linear regression score: 0.536\n",
            "Boosting score: 0.678\n"
          ]
        },
        {
          "output_type": "stream",
          "name": "stderr",
          "text": [
            "1000it [00:01, 507.85it/s]\n",
            "<ipython-input-35-fba26882c2f2>:79: UserWarning: To copy construct from a tensor, it is recommended to use sourceTensor.clone().detach() or sourceTensor.clone().detach().requires_grad_(True), rather than torch.tensor(sourceTensor).\n",
            "  other_agent_score(X_real_oas, y_real_oas, torch.tensor(X_fake_oas), y_fake_oas)\n"
          ]
        },
        {
          "output_type": "stream",
          "name": "stdout",
          "text": [
            "(1500,) (500,)\n",
            "Linear regression score: 0.57\n",
            "Boosting score: 0.728\n"
          ]
        },
        {
          "output_type": "stream",
          "name": "stderr",
          "text": [
            "1000it [00:02, 485.30it/s]\n",
            "<ipython-input-35-fba26882c2f2>:79: UserWarning: To copy construct from a tensor, it is recommended to use sourceTensor.clone().detach() or sourceTensor.clone().detach().requires_grad_(True), rather than torch.tensor(sourceTensor).\n",
            "  other_agent_score(X_real_oas, y_real_oas, torch.tensor(X_fake_oas), y_fake_oas)\n"
          ]
        },
        {
          "output_type": "stream",
          "name": "stdout",
          "text": [
            "(1500,) (500,)\n",
            "Linear regression score: 0.554\n",
            "Boosting score: 0.696\n",
            "CPU times: user 4min 35s, sys: 11.8 s, total: 4min 47s\n",
            "Wall time: 4min 42s\n"
          ]
        }
      ],
      "source": [
        "%%time\n",
        "latent_dim = 10\n",
        "model = DiffusionGenerator(n_inputs=latent_dim + y.shape[1], n_outputs=X_train.shape[1])\n",
        "\n",
        "diffusionFitter = DiffusionFitter(\n",
        "    model,\n",
        "    batch_size=50,\n",
        "    n_epochs=100,\n",
        "    latent_dim=latent_dim,\n",
        "    lr=0.0001,\n",
        "    n_critic=5,\n",
        ")\n",
        "diffusionFitter.fit(X_train, y_train)"
      ]
    },
    {
      "cell_type": "code",
      "execution_count": 37,
      "metadata": {
        "id": "W7gb7HBsaRKG",
        "colab": {
          "base_uri": "https://localhost:8080/",
          "height": 414
        },
        "outputId": "e8b612bf-acbc-4a00-fba3-06615685fe76"
      },
      "outputs": [
        {
          "output_type": "stream",
          "name": "stderr",
          "text": [
            "<ipython-input-37-c0916e68e8fe>:9: MatplotlibDeprecationWarning: The 'b' parameter of grid() has been renamed 'visible' since Matplotlib 3.5; support for the old name will be dropped two minor releases later.\n",
            "  plt.grid(b=1, linestyle=\"--\", linewidth=0.5, color=\"0.5\")\n"
          ]
        },
        {
          "output_type": "display_data",
          "data": {
            "text/plain": [
              "<Figure size 648x360 with 1 Axes>"
            ],
            "image/png": "[encoded data removed]"
          },
          "metadata": {
            "needs_background": "light"
          }
        }
      ],
      "source": [
        "# diffusion learning curve\n",
        "plt.figure(figsize=(9, 5))\n",
        "plt.plot(diffusionFitter.loss_history)\n",
        "plt.xlabel(\"Epoch Number\", size=14)\n",
        "plt.ylabel(\"Loss Function\", size=14)\n",
        "plt.xticks(size=14)\n",
        "plt.yticks(size=14)\n",
        "plt.title(\"Conditional diffusing model Learning Curve\", size=14)\n",
        "plt.grid(b=1, linestyle=\"--\", linewidth=0.5, color=\"0.5\")\n",
        "plt.show()"
      ]
    },
    {
      "cell_type": "markdown",
      "metadata": {
        "id": "fDKgmV4yaRKG"
      },
      "source": [
        "## Задание 14 (0.5 балла)\n",
        "По аналогии с прошлым экспериментом с GAN моделью сгенерируйте выборку фейковых объектов равную размеру тестовой выборки и обучите градиентный бустинг. Обучите модель отличать реальные объекты от фейковых, после чего расчитайте метрики ROC-AUC и accuracy score. Какие получились результаты? Как вы их оцениваете? А в сравнении с GAN моделью?"
      ]
    },
    {
      "cell_type": "code",
      "source": [],
      "metadata": {
        "id": "lcgSX1khmkFF"
      },
      "execution_count": 37,
      "outputs": []
    },
    {
      "cell_type": "code",
      "source": [
        "X_fake_test = generate_with_diffusion(diffusionFitter.model, torch.tensor(y_test, dtype=torch.float), 10, noise_scheduler)\n",
        "X_fake_train= generate_with_diffusion(diffusionFitter.model, torch.tensor(y_train, dtype=torch.float), 10, noise_scheduler)\n"
      ],
      "metadata": {
        "colab": {
          "base_uri": "https://localhost:8080/"
        },
        "id": "71ayCyxeoq_H",
        "outputId": "31070e6c-bc5b-433e-958b-bbf7c45b9107"
      },
      "execution_count": 38,
      "outputs": [
        {
          "output_type": "stream",
          "name": "stderr",
          "text": [
            "1000it [00:14, 70.84it/s]\n",
            "1000it [00:14, 69.88it/s]\n"
          ]
        }
      ]
    },
    {
      "cell_type": "code",
      "source": [
        "XX_train = np.concatenate((X_fake_train, X_train), axis=0)\n",
        "XX_test = np.concatenate((X_fake_test, X_test), axis=0)\n",
        "\n",
        "yy_train = np.array([0] * len(X_fake_train) + [1] * len(X_train))\n",
        "yy_test = np.array([0] * len(X_fake_test) + [1] * len(X_test))"
      ],
      "metadata": {
        "id": "JXzK8WkRyLPY"
      },
      "execution_count": 39,
      "outputs": []
    },
    {
      "cell_type": "code",
      "source": [
        "from sklearn.ensemble import GradientBoostingClassifier\n",
        "\n",
        "# обучаем классификатор\n",
        "clf = GradientBoostingClassifier()\n",
        "clf.fit(XX_train, yy_train)\n",
        "\n",
        "# получаем прогнозы\n",
        "yy_test_proba = clf.predict_proba(XX_test)[:, 1]"
      ],
      "metadata": {
        "id": "KUBl8siazg_G"
      },
      "execution_count": 40,
      "outputs": []
    },
    {
      "cell_type": "code",
      "source": [
        "from sklearn.metrics import roc_auc_score\n",
        "\n",
        "auc = roc_auc_score(yy_test, yy_test_proba)\n",
        "print(\"ROC AUC = \", auc)"
      ],
      "metadata": {
        "colab": {
          "base_uri": "https://localhost:8080/"
        },
        "id": "0IalRMnxzlg1",
        "outputId": "572a414f-aa10-4970-93e6-dc4949e6456e"
      },
      "execution_count": 41,
      "outputs": [
        {
          "output_type": "stream",
          "name": "stdout",
          "text": [
            "ROC AUC =  0.8283681298450578\n"
          ]
        }
      ]
    },
    {
      "cell_type": "markdown",
      "source": [
        "К счастью, accuracy по мере обучения снижался, значит мы постепенно генерили все более и более хорошие картинки. И даже уже спустя пару эпох логрег не мог отличить генерацию от реальных. А вот бустинг лучше гораздо различал. Поэтому и AUC Roc в этом случае по сравнению с GANом выше - дискриминатор различает картинки лучше. Получается, диффузионная модель для данной задачи оказалась чуть хуже. Но может быть стоит попробовать другие параметры, например какой-то другой лос?"
      ],
      "metadata": {
        "id": "ypy219bW8Afu"
      }
    },
    {
      "cell_type": "code",
      "source": [],
      "metadata": {
        "id": "90WxWJvN7_01"
      },
      "execution_count": null,
      "outputs": []
    },
    {
      "cell_type": "markdown",
      "metadata": {
        "id": "jx4g-G5HaRKG"
      },
      "source": [
        "## Отзыв\n",
        "\n",
        "Поздравляю! Вы дошли до конца. Оставьте ваш отзыв ячейкой ниже или отправьте его в канал курса, нам будет очень интересно!"
      ]
    },
    {
      "cell_type": "markdown",
      "source": [
        "Структура домашки очень плохая, потому что вы сделали для нас отдельные функции, которые надо запихивать в фиттер, но не написали, что эти функции должны делать. Особенно other agent score и generate with diffusion. Из названия особо ничего не следует и приходилось как то по рассуждениям из чата понимать. Более того, у нас вообще существуют ассистенты на этом курсе? В чате ученики отвечают сами себе - ошибки только плодятся, и даже некому написать, спросить, что непонятно......."
      ],
      "metadata": {
        "id": "7UjePMnedZd_"
      }
    },
    {
      "cell_type": "code",
      "execution_count": null,
      "metadata": {
        "id": "ZnQULlaQaRKH"
      },
      "outputs": [],
      "source": []
    }
  ],
  "metadata": {
    "kernelspec": {
      "display_name": "Python 3",
      "language": "python",
      "name": "python3"
    },
    "language_info": {
      "codemirror_mode": {
        "name": "ipython",
        "version": 3
      },
      "file_extension": ".py",
      "mimetype": "text/x-python",
      "name": "python",
      "nbconvert_exporter": "python",
      "pygments_lexer": "ipython3",
      "version": "3.8.5"
    },
    "colab": {
      "provenance": []
    }
  },
  "nbformat": 4,
  "nbformat_minor": 0
}